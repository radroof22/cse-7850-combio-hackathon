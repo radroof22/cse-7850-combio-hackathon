{
 "cells": [
  {
   "attachments": {},
   "cell_type": "markdown",
   "metadata": {},
   "source": [
    "# Preprocessing Data for `protein_embeddings_w_residual.parquet`"
   ]
  },
  {
   "cell_type": "code",
   "execution_count": 5,
   "metadata": {},
   "outputs": [],
   "source": [
    "import pandas as pd"
   ]
  },
  {
   "cell_type": "code",
   "execution_count": 21,
   "metadata": {},
   "outputs": [
    {
     "data": {
      "text/html": [
       "<div>\n",
       "<style scoped>\n",
       "    .dataframe tbody tr th:only-of-type {\n",
       "        vertical-align: middle;\n",
       "    }\n",
       "\n",
       "    .dataframe tbody tr th {\n",
       "        vertical-align: top;\n",
       "    }\n",
       "\n",
       "    .dataframe thead th {\n",
       "        text-align: right;\n",
       "    }\n",
       "</style>\n",
       "<table border=\"1\" class=\"dataframe\">\n",
       "  <thead>\n",
       "    <tr style=\"text-align: right;\">\n",
       "      <th></th>\n",
       "      <th>mutant</th>\n",
       "      <th>DMS_score</th>\n",
       "      <th>Sequence</th>\n",
       "    </tr>\n",
       "  </thead>\n",
       "  <tbody>\n",
       "    <tr>\n",
       "      <th>0</th>\n",
       "      <td>M0Y</td>\n",
       "      <td>0.2730</td>\n",
       "      <td>YVNEARGNSSLNPCLEGSASSGSESSKDSSRCSTPGLDPERHERLR...</td>\n",
       "    </tr>\n",
       "    <tr>\n",
       "      <th>1</th>\n",
       "      <td>M0W</td>\n",
       "      <td>0.2857</td>\n",
       "      <td>WVNEARGNSSLNPCLEGSASSGSESSKDSSRCSTPGLDPERHERLR...</td>\n",
       "    </tr>\n",
       "    <tr>\n",
       "      <th>2</th>\n",
       "      <td>M0V</td>\n",
       "      <td>0.2153</td>\n",
       "      <td>VVNEARGNSSLNPCLEGSASSGSESSKDSSRCSTPGLDPERHERLR...</td>\n",
       "    </tr>\n",
       "    <tr>\n",
       "      <th>3</th>\n",
       "      <td>M0T</td>\n",
       "      <td>0.3122</td>\n",
       "      <td>TVNEARGNSSLNPCLEGSASSGSESSKDSSRCSTPGLDPERHERLR...</td>\n",
       "    </tr>\n",
       "    <tr>\n",
       "      <th>4</th>\n",
       "      <td>M0S</td>\n",
       "      <td>0.2180</td>\n",
       "      <td>SVNEARGNSSLNPCLEGSASSGSESSKDSSRCSTPGLDPERHERLR...</td>\n",
       "    </tr>\n",
       "  </tbody>\n",
       "</table>\n",
       "</div>"
      ],
      "text/plain": [
       "  mutant  DMS_score                                           Sequence\n",
       "0    M0Y     0.2730  YVNEARGNSSLNPCLEGSASSGSESSKDSSRCSTPGLDPERHERLR...\n",
       "1    M0W     0.2857  WVNEARGNSSLNPCLEGSASSGSESSKDSSRCSTPGLDPERHERLR...\n",
       "2    M0V     0.2153  VVNEARGNSSLNPCLEGSASSGSESSKDSSRCSTPGLDPERHERLR...\n",
       "3    M0T     0.3122  TVNEARGNSSLNPCLEGSASSGSESSKDSSRCSTPGLDPERHERLR...\n",
       "4    M0S     0.2180  SVNEARGNSSLNPCLEGSASSGSESSKDSSRCSTPGLDPERHERLR..."
      ]
     },
     "execution_count": 21,
     "metadata": {},
     "output_type": "execute_result"
    }
   ],
   "source": [
    "df = pd.read_csv('../train.csv')\n",
    "\n",
    "# get the sequence\n",
    "seq = open('../sequence.fasta', 'r').read()\n",
    "seq = seq.split(\"\\n\")[1]\n",
    "\n",
    "# create each mutated sequence using the info\n",
    "sequences = []\n",
    "for i in df['mutant']:\n",
    "    ind = int(i[1:-1])\n",
    "    tmp = seq[:ind] + i[-1] + seq[ind+1:]\n",
    "    sequences.append(tmp)\n",
    "df['Sequence'] = sequences\n",
    "df.head()"
   ]
  },
  {
   "cell_type": "code",
   "execution_count": 34,
   "metadata": {},
   "outputs": [
    {
     "name": "stdout",
     "output_type": "stream",
     "text": [
      "Using device: cuda\n"
     ]
    }
   ],
   "source": [
    "import torch\n",
    "import esm\n",
    "\n",
    "# Check for GPU\n",
    "device = torch.device(\"cuda\" if torch.cuda.is_available() else \"cpu\")\n",
    "print(f\"Using device: {device}\")\n",
    "\n",
    "# Load pre-trained ESM model and move it to GPU\n",
    "esm_model, alphabet = esm.pretrained.esm2_t33_650M_UR50D()  # Example: ESM-2 model\n",
    "batch_converter = alphabet.get_batch_converter()\n",
    "esm_model = esm_model.to(device)\n",
    "esm_model.eval()  # Set to eval mode\n",
    "\n",
    "# Extract ESM embeddings using GPU\n",
    "def extract_esm_embedding(row):\n",
    "    sequence = row[\"Sequence\"]\n",
    "    batch_labels, batch_strs, batch_tokens = batch_converter([(None, sequence)])\n",
    "    batch_tokens = batch_tokens.to(device)  # Move input to GPU\n",
    "\n",
    "    with torch.no_grad():\n",
    "        results = esm_model(batch_tokens, repr_layers=[33], return_contacts=False)\n",
    "    \n",
    "    token_representations = results[\"representations\"][33]  # Use final layer\n",
    "\n",
    "    sequence_embedding = token_representations.mean(dim=1).squeeze().cpu().numpy()  # Move back to CPU for NumPy\n",
    "\n",
    "    # residual embeddings\n",
    "    ## before\n",
    "    mutant_pos = int(row[\"mutant\"][1])\n",
    "    before_embedding = original_sequence_token_representations[0, mutant_pos].squeeze().cpu().numpy()\n",
    "    after_embedding = token_representations[0, mutant_pos].squeeze().cpu().numpy()\n",
    "\n",
    "    return sequence_embedding, before_embedding, after_embedding"
   ]
  },
  {
   "cell_type": "code",
   "execution_count": 35,
   "metadata": {},
   "outputs": [
    {
     "data": {
      "text/html": [
       "<div>\n",
       "<style scoped>\n",
       "    .dataframe tbody tr th:only-of-type {\n",
       "        vertical-align: middle;\n",
       "    }\n",
       "\n",
       "    .dataframe tbody tr th {\n",
       "        vertical-align: top;\n",
       "    }\n",
       "\n",
       "    .dataframe thead th {\n",
       "        text-align: right;\n",
       "    }\n",
       "</style>\n",
       "<table border=\"1\" class=\"dataframe\">\n",
       "  <thead>\n",
       "    <tr style=\"text-align: right;\">\n",
       "      <th></th>\n",
       "      <th>mutant</th>\n",
       "      <th>DMS_score</th>\n",
       "      <th>Sequence</th>\n",
       "      <th>sequence_embedding</th>\n",
       "      <th>before_residual_embedding</th>\n",
       "      <th>after_residual_embedding</th>\n",
       "    </tr>\n",
       "  </thead>\n",
       "  <tbody>\n",
       "    <tr>\n",
       "      <th>0</th>\n",
       "      <td>M0Y</td>\n",
       "      <td>0.2730</td>\n",
       "      <td>YVNEARGNSSLNPCLEGSASSGSESSKDSSRCSTPGLDPERHERLR...</td>\n",
       "      <td>[0.027215092, -0.078958936, 0.024665572, 0.087...</td>\n",
       "      <td>[0.04977224, -0.032656617, 0.10141596, 0.06524...</td>\n",
       "      <td>[0.046728767, -0.02765824, 0.08907116, 0.06583...</td>\n",
       "    </tr>\n",
       "    <tr>\n",
       "      <th>1</th>\n",
       "      <td>M0W</td>\n",
       "      <td>0.2857</td>\n",
       "      <td>WVNEARGNSSLNPCLEGSASSGSESSKDSSRCSTPGLDPERHERLR...</td>\n",
       "      <td>[0.02744675, -0.08002918, 0.02497382, 0.087685...</td>\n",
       "      <td>[0.04977224, -0.032656617, 0.10141596, 0.06524...</td>\n",
       "      <td>[0.0480552, -0.030318772, 0.093972184, 0.06486...</td>\n",
       "    </tr>\n",
       "    <tr>\n",
       "      <th>2</th>\n",
       "      <td>M0V</td>\n",
       "      <td>0.2153</td>\n",
       "      <td>VVNEARGNSSLNPCLEGSASSGSESSKDSSRCSTPGLDPERHERLR...</td>\n",
       "      <td>[0.027746094, -0.08058317, 0.024816157, 0.0884...</td>\n",
       "      <td>[0.04977224, -0.032656617, 0.10141596, 0.06524...</td>\n",
       "      <td>[0.040912185, -0.014682843, 0.08075453, 0.0696...</td>\n",
       "    </tr>\n",
       "    <tr>\n",
       "      <th>3</th>\n",
       "      <td>M0T</td>\n",
       "      <td>0.3122</td>\n",
       "      <td>TVNEARGNSSLNPCLEGSASSGSESSKDSSRCSTPGLDPERHERLR...</td>\n",
       "      <td>[0.027021263, -0.07973987, 0.024042578, 0.0892...</td>\n",
       "      <td>[0.04977224, -0.032656617, 0.10141596, 0.06524...</td>\n",
       "      <td>[0.040725417, -0.019828573, 0.08023371, 0.0712...</td>\n",
       "    </tr>\n",
       "    <tr>\n",
       "      <th>4</th>\n",
       "      <td>M0S</td>\n",
       "      <td>0.2180</td>\n",
       "      <td>SVNEARGNSSLNPCLEGSASSGSESSKDSSRCSTPGLDPERHERLR...</td>\n",
       "      <td>[0.027436636, -0.0795229, 0.02438331, 0.090356...</td>\n",
       "      <td>[0.04977224, -0.032656617, 0.10141596, 0.06524...</td>\n",
       "      <td>[0.0411717, -0.008302458, 0.076355904, 0.07708...</td>\n",
       "    </tr>\n",
       "  </tbody>\n",
       "</table>\n",
       "</div>"
      ],
      "text/plain": [
       "  mutant  DMS_score                                           Sequence  \\\n",
       "0    M0Y     0.2730  YVNEARGNSSLNPCLEGSASSGSESSKDSSRCSTPGLDPERHERLR...   \n",
       "1    M0W     0.2857  WVNEARGNSSLNPCLEGSASSGSESSKDSSRCSTPGLDPERHERLR...   \n",
       "2    M0V     0.2153  VVNEARGNSSLNPCLEGSASSGSESSKDSSRCSTPGLDPERHERLR...   \n",
       "3    M0T     0.3122  TVNEARGNSSLNPCLEGSASSGSESSKDSSRCSTPGLDPERHERLR...   \n",
       "4    M0S     0.2180  SVNEARGNSSLNPCLEGSASSGSESSKDSSRCSTPGLDPERHERLR...   \n",
       "\n",
       "                                  sequence_embedding  \\\n",
       "0  [0.027215092, -0.078958936, 0.024665572, 0.087...   \n",
       "1  [0.02744675, -0.08002918, 0.02497382, 0.087685...   \n",
       "2  [0.027746094, -0.08058317, 0.024816157, 0.0884...   \n",
       "3  [0.027021263, -0.07973987, 0.024042578, 0.0892...   \n",
       "4  [0.027436636, -0.0795229, 0.02438331, 0.090356...   \n",
       "\n",
       "                           before_residual_embedding  \\\n",
       "0  [0.04977224, -0.032656617, 0.10141596, 0.06524...   \n",
       "1  [0.04977224, -0.032656617, 0.10141596, 0.06524...   \n",
       "2  [0.04977224, -0.032656617, 0.10141596, 0.06524...   \n",
       "3  [0.04977224, -0.032656617, 0.10141596, 0.06524...   \n",
       "4  [0.04977224, -0.032656617, 0.10141596, 0.06524...   \n",
       "\n",
       "                            after_residual_embedding  \n",
       "0  [0.046728767, -0.02765824, 0.08907116, 0.06583...  \n",
       "1  [0.0480552, -0.030318772, 0.093972184, 0.06486...  \n",
       "2  [0.040912185, -0.014682843, 0.08075453, 0.0696...  \n",
       "3  [0.040725417, -0.019828573, 0.08023371, 0.0712...  \n",
       "4  [0.0411717, -0.008302458, 0.076355904, 0.07708...  "
      ]
     },
     "execution_count": 35,
     "metadata": {},
     "output_type": "execute_result"
    }
   ],
   "source": [
    "df[[\"sequence_embedding\", \"before_residual_embedding\", \"after_residual_embedding\"]] = df.apply(lambda row: extract_esm_embedding(row), axis=1, result_type=\"expand\")\n",
    "df.head()"
   ]
  },
  {
   "cell_type": "code",
   "execution_count": 36,
   "metadata": {},
   "outputs": [],
   "source": [
    "# Apply embedding extraction\n",
    "\n",
    "df.to_parquet(\"protein_embeddings_w_residuals.parquet\", engine=\"pyarrow\")"
   ]
  },
  {
   "attachments": {},
   "cell_type": "markdown",
   "metadata": {},
   "source": [
    "## Query 1"
   ]
  },
  {
   "cell_type": "code",
   "execution_count": 63,
   "metadata": {},
   "outputs": [
    {
     "data": {
      "text/html": [
       "<div>\n",
       "<style scoped>\n",
       "    .dataframe tbody tr th:only-of-type {\n",
       "        vertical-align: middle;\n",
       "    }\n",
       "\n",
       "    .dataframe tbody tr th {\n",
       "        vertical-align: top;\n",
       "    }\n",
       "\n",
       "    .dataframe thead th {\n",
       "        text-align: right;\n",
       "    }\n",
       "</style>\n",
       "<table border=\"1\" class=\"dataframe\">\n",
       "  <thead>\n",
       "    <tr style=\"text-align: right;\">\n",
       "      <th></th>\n",
       "      <th>mutant</th>\n",
       "      <th>DMS_score</th>\n",
       "      <th>sequence</th>\n",
       "      <th>Sequence</th>\n",
       "    </tr>\n",
       "  </thead>\n",
       "  <tbody>\n",
       "    <tr>\n",
       "      <th>0</th>\n",
       "      <td>E3L</td>\n",
       "      <td>0.907694</td>\n",
       "      <td>MVNLARGNSSLNPCLEGSASSGSESSKDSSRCSTPGLDPERHERLR...</td>\n",
       "      <td>MVNLARGNSSLNPCLEGSASSGSESSKDSSRCSTPGLDPERHERLR...</td>\n",
       "    </tr>\n",
       "    <tr>\n",
       "      <th>1</th>\n",
       "      <td>E3W</td>\n",
       "      <td>0.785553</td>\n",
       "      <td>MVNWARGNSSLNPCLEGSASSGSESSKDSSRCSTPGLDPERHERLR...</td>\n",
       "      <td>MVNWARGNSSLNPCLEGSASSGSESSKDSSRCSTPGLDPERHERLR...</td>\n",
       "    </tr>\n",
       "    <tr>\n",
       "      <th>2</th>\n",
       "      <td>E3V</td>\n",
       "      <td>0.735405</td>\n",
       "      <td>MVNVARGNSSLNPCLEGSASSGSESSKDSSRCSTPGLDPERHERLR...</td>\n",
       "      <td>MVNVARGNSSLNPCLEGSASSGSESSKDSSRCSTPGLDPERHERLR...</td>\n",
       "    </tr>\n",
       "    <tr>\n",
       "      <th>3</th>\n",
       "      <td>E3R</td>\n",
       "      <td>0.862394</td>\n",
       "      <td>MVNRARGNSSLNPCLEGSASSGSESSKDSSRCSTPGLDPERHERLR...</td>\n",
       "      <td>MVNRARGNSSLNPCLEGSASSGSESSKDSSRCSTPGLDPERHERLR...</td>\n",
       "    </tr>\n",
       "    <tr>\n",
       "      <th>4</th>\n",
       "      <td>G6A</td>\n",
       "      <td>0.970692</td>\n",
       "      <td>MVNEARANSSLNPCLEGSASSGSESSKDSSRCSTPGLDPERHERLR...</td>\n",
       "      <td>MVNEARANSSLNPCLEGSASSGSESSKDSSRCSTPGLDPERHERLR...</td>\n",
       "    </tr>\n",
       "  </tbody>\n",
       "</table>\n",
       "</div>"
      ],
      "text/plain": [
       "  mutant  DMS_score                                           sequence  \\\n",
       "0    E3L   0.907694  MVNLARGNSSLNPCLEGSASSGSESSKDSSRCSTPGLDPERHERLR...   \n",
       "1    E3W   0.785553  MVNWARGNSSLNPCLEGSASSGSESSKDSSRCSTPGLDPERHERLR...   \n",
       "2    E3V   0.735405  MVNVARGNSSLNPCLEGSASSGSESSKDSSRCSTPGLDPERHERLR...   \n",
       "3    E3R   0.862394  MVNRARGNSSLNPCLEGSASSGSESSKDSSRCSTPGLDPERHERLR...   \n",
       "4    G6A   0.970692  MVNEARANSSLNPCLEGSASSGSESSKDSSRCSTPGLDPERHERLR...   \n",
       "\n",
       "                                            Sequence  \n",
       "0  MVNLARGNSSLNPCLEGSASSGSESSKDSSRCSTPGLDPERHERLR...  \n",
       "1  MVNWARGNSSLNPCLEGSASSGSESSKDSSRCSTPGLDPERHERLR...  \n",
       "2  MVNVARGNSSLNPCLEGSASSGSESSKDSSRCSTPGLDPERHERLR...  \n",
       "3  MVNRARGNSSLNPCLEGSASSGSESSKDSSRCSTPGLDPERHERLR...  \n",
       "4  MVNEARANSSLNPCLEGSASSGSESSKDSSRCSTPGLDPERHERLR...  "
      ]
     },
     "execution_count": 63,
     "metadata": {},
     "output_type": "execute_result"
    }
   ],
   "source": [
    "df_query1 = pd.read_csv('../query1.csv')\n",
    "\n",
    "# get the sequence\n",
    "seq = open('../sequence.fasta', 'r').read()\n",
    "seq = seq.split(\"\\n\")[1]\n",
    "\n",
    "# create each mutated sequence using the info\n",
    "sequences = []\n",
    "for i in df_query1['mutant']:\n",
    "    ind = int(i[1:-1])\n",
    "    tmp = seq[:ind] + i[-1] + seq[ind+1:]\n",
    "    sequences.append(tmp)\n",
    "df_query1['Sequence'] = sequences\n",
    "df_query1.head()"
   ]
  },
  {
   "cell_type": "code",
   "execution_count": 64,
   "metadata": {},
   "outputs": [
    {
     "data": {
      "text/html": [
       "<div>\n",
       "<style scoped>\n",
       "    .dataframe tbody tr th:only-of-type {\n",
       "        vertical-align: middle;\n",
       "    }\n",
       "\n",
       "    .dataframe tbody tr th {\n",
       "        vertical-align: top;\n",
       "    }\n",
       "\n",
       "    .dataframe thead th {\n",
       "        text-align: right;\n",
       "    }\n",
       "</style>\n",
       "<table border=\"1\" class=\"dataframe\">\n",
       "  <thead>\n",
       "    <tr style=\"text-align: right;\">\n",
       "      <th></th>\n",
       "      <th>mutant</th>\n",
       "      <th>DMS_score</th>\n",
       "      <th>sequence</th>\n",
       "      <th>Sequence</th>\n",
       "      <th>sequence_embedding</th>\n",
       "      <th>before_residual_embedding</th>\n",
       "      <th>after_residual_embedding</th>\n",
       "    </tr>\n",
       "  </thead>\n",
       "  <tbody>\n",
       "    <tr>\n",
       "      <th>0</th>\n",
       "      <td>E3L</td>\n",
       "      <td>0.907694</td>\n",
       "      <td>MVNLARGNSSLNPCLEGSASSGSESSKDSSRCSTPGLDPERHERLR...</td>\n",
       "      <td>MVNLARGNSSLNPCLEGSASSGSESSKDSSRCSTPGLDPERHERLR...</td>\n",
       "      <td>[0.02630587, -0.07783403, 0.025091317, 0.08715...</td>\n",
       "      <td>[0.22061548, 0.030639352, 0.23427473, 0.091955...</td>\n",
       "      <td>[0.1364245, 0.12407979, 0.20172088, 0.06797653...</td>\n",
       "    </tr>\n",
       "    <tr>\n",
       "      <th>1</th>\n",
       "      <td>E3W</td>\n",
       "      <td>0.785553</td>\n",
       "      <td>MVNWARGNSSLNPCLEGSASSGSESSKDSSRCSTPGLDPERHERLR...</td>\n",
       "      <td>MVNWARGNSSLNPCLEGSASSGSESSKDSSRCSTPGLDPERHERLR...</td>\n",
       "      <td>[0.026764292, -0.078947954, 0.025023673, 0.088...</td>\n",
       "      <td>[0.22061548, 0.030639352, 0.23427473, 0.091955...</td>\n",
       "      <td>[0.1626399, 0.10677872, 0.2766948, 0.11653806,...</td>\n",
       "    </tr>\n",
       "    <tr>\n",
       "      <th>2</th>\n",
       "      <td>E3V</td>\n",
       "      <td>0.735405</td>\n",
       "      <td>MVNVARGNSSLNPCLEGSASSGSESSKDSSRCSTPGLDPERHERLR...</td>\n",
       "      <td>MVNVARGNSSLNPCLEGSASSGSESSKDSSRCSTPGLDPERHERLR...</td>\n",
       "      <td>[0.026362052, -0.07791606, 0.024700128, 0.0860...</td>\n",
       "      <td>[0.22061548, 0.030639352, 0.23427473, 0.091955...</td>\n",
       "      <td>[0.16330962, 0.11128231, 0.21890819, 0.0680341...</td>\n",
       "    </tr>\n",
       "    <tr>\n",
       "      <th>3</th>\n",
       "      <td>E3R</td>\n",
       "      <td>0.862394</td>\n",
       "      <td>MVNRARGNSSLNPCLEGSASSGSESSKDSSRCSTPGLDPERHERLR...</td>\n",
       "      <td>MVNRARGNSSLNPCLEGSASSGSESSKDSSRCSTPGLDPERHERLR...</td>\n",
       "      <td>[0.02539448, -0.07708823, 0.025331028, 0.08656...</td>\n",
       "      <td>[0.22061548, 0.030639352, 0.23427473, 0.091955...</td>\n",
       "      <td>[0.13985127, 0.057395108, 0.27251497, 0.101335...</td>\n",
       "    </tr>\n",
       "    <tr>\n",
       "      <th>4</th>\n",
       "      <td>G6A</td>\n",
       "      <td>0.970692</td>\n",
       "      <td>MVNEARANSSLNPCLEGSASSGSESSKDSSRCSTPGLDPERHERLR...</td>\n",
       "      <td>MVNEARANSSLNPCLEGSASSGSESSKDSSRCSTPGLDPERHERLR...</td>\n",
       "      <td>[0.026636722, -0.077505864, 0.024697602, 0.084...</td>\n",
       "      <td>[0.16200434, -0.03876533, 0.12904096, 0.048802...</td>\n",
       "      <td>[0.13964465, -0.015410371, 0.17536883, 0.04159...</td>\n",
       "    </tr>\n",
       "  </tbody>\n",
       "</table>\n",
       "</div>"
      ],
      "text/plain": [
       "  mutant  DMS_score                                           sequence  \\\n",
       "0    E3L   0.907694  MVNLARGNSSLNPCLEGSASSGSESSKDSSRCSTPGLDPERHERLR...   \n",
       "1    E3W   0.785553  MVNWARGNSSLNPCLEGSASSGSESSKDSSRCSTPGLDPERHERLR...   \n",
       "2    E3V   0.735405  MVNVARGNSSLNPCLEGSASSGSESSKDSSRCSTPGLDPERHERLR...   \n",
       "3    E3R   0.862394  MVNRARGNSSLNPCLEGSASSGSESSKDSSRCSTPGLDPERHERLR...   \n",
       "4    G6A   0.970692  MVNEARANSSLNPCLEGSASSGSESSKDSSRCSTPGLDPERHERLR...   \n",
       "\n",
       "                                            Sequence  \\\n",
       "0  MVNLARGNSSLNPCLEGSASSGSESSKDSSRCSTPGLDPERHERLR...   \n",
       "1  MVNWARGNSSLNPCLEGSASSGSESSKDSSRCSTPGLDPERHERLR...   \n",
       "2  MVNVARGNSSLNPCLEGSASSGSESSKDSSRCSTPGLDPERHERLR...   \n",
       "3  MVNRARGNSSLNPCLEGSASSGSESSKDSSRCSTPGLDPERHERLR...   \n",
       "4  MVNEARANSSLNPCLEGSASSGSESSKDSSRCSTPGLDPERHERLR...   \n",
       "\n",
       "                                  sequence_embedding  \\\n",
       "0  [0.02630587, -0.07783403, 0.025091317, 0.08715...   \n",
       "1  [0.026764292, -0.078947954, 0.025023673, 0.088...   \n",
       "2  [0.026362052, -0.07791606, 0.024700128, 0.0860...   \n",
       "3  [0.02539448, -0.07708823, 0.025331028, 0.08656...   \n",
       "4  [0.026636722, -0.077505864, 0.024697602, 0.084...   \n",
       "\n",
       "                           before_residual_embedding  \\\n",
       "0  [0.22061548, 0.030639352, 0.23427473, 0.091955...   \n",
       "1  [0.22061548, 0.030639352, 0.23427473, 0.091955...   \n",
       "2  [0.22061548, 0.030639352, 0.23427473, 0.091955...   \n",
       "3  [0.22061548, 0.030639352, 0.23427473, 0.091955...   \n",
       "4  [0.16200434, -0.03876533, 0.12904096, 0.048802...   \n",
       "\n",
       "                            after_residual_embedding  \n",
       "0  [0.1364245, 0.12407979, 0.20172088, 0.06797653...  \n",
       "1  [0.1626399, 0.10677872, 0.2766948, 0.11653806,...  \n",
       "2  [0.16330962, 0.11128231, 0.21890819, 0.0680341...  \n",
       "3  [0.13985127, 0.057395108, 0.27251497, 0.101335...  \n",
       "4  [0.13964465, -0.015410371, 0.17536883, 0.04159...  "
      ]
     },
     "execution_count": 64,
     "metadata": {},
     "output_type": "execute_result"
    }
   ],
   "source": [
    "df_query1[[\"sequence_embedding\", \"before_residual_embedding\", \"after_residual_embedding\"]] = df_query1.apply(lambda row: extract_esm_embedding(row), axis=1, result_type=\"expand\")\n",
    "df_query1.head()"
   ]
  },
  {
   "cell_type": "code",
   "execution_count": 65,
   "metadata": {},
   "outputs": [],
   "source": [
    "df_query1.to_parquet(\"protein_embeddings_w_residuals_QUERY1.parquet\", engine=\"pyarrow\")"
   ]
  },
  {
   "cell_type": "markdown",
   "metadata": {},
   "source": [
    "# Training Models\n",
    "We initially train a MLP, LightGBM, and XGBoost."
   ]
  },
  {
   "cell_type": "code",
   "execution_count": 72,
   "metadata": {},
   "outputs": [
    {
     "data": {
      "text/plain": [
       "(1140, 6)"
      ]
     },
     "execution_count": 72,
     "metadata": {},
     "output_type": "execute_result"
    }
   ],
   "source": [
    "df = pd.read_parquet('protein_embeddings_w_residuals.parquet')\n",
    "df.shape"
   ]
  },
  {
   "cell_type": "code",
   "execution_count": 73,
   "metadata": {},
   "outputs": [
    {
     "data": {
      "text/plain": [
       "(1240, 7)"
      ]
     },
     "execution_count": 73,
     "metadata": {},
     "output_type": "execute_result"
    }
   ],
   "source": [
    "# OPTIONAL - load query 1 data too\n",
    "df_query1 = pd.read_parquet(\"protein_embeddings_w_residuals_QUERY1.parquet\")\n",
    "df = pd.concat([df, df_query1], axis=0, ignore_index=True)\n",
    "df.shape"
   ]
  },
  {
   "cell_type": "code",
   "execution_count": 74,
   "metadata": {},
   "outputs": [
    {
     "data": {
      "text/plain": [
       "Text(0.5, 1.0, 'Total Dataset Labels')"
      ]
     },
     "execution_count": 74,
     "metadata": {},
     "output_type": "execute_result"
    },
    {
     "data": {
      "image/png": "[encoded data removed]",
      "text/plain": [
       "<Figure size 640x480 with 1 Axes>"
      ]
     },
     "metadata": {},
     "output_type": "display_data"
    }
   ],
   "source": [
    "import matplotlib.pyplot as plt\n",
    "plt.hist(df.DMS_score)\n",
    "plt.title(\"Total Dataset Labels\")"
   ]
  },
  {
   "cell_type": "code",
   "execution_count": 75,
   "metadata": {},
   "outputs": [
    {
     "data": {
      "text/plain": [
       "(1240, 3840)"
      ]
     },
     "execution_count": 75,
     "metadata": {},
     "output_type": "execute_result"
    }
   ],
   "source": [
    "import numpy as np\n",
    "X = np.hstack([np.vstack(df[\"sequence_embedding\"].values), np.vstack(df[\"before_residual_embedding\"].values), np.vstack(df[\"after_residual_embedding\"].values)])\n",
    "X.shape"
   ]
  },
  {
   "cell_type": "code",
   "execution_count": 76,
   "metadata": {},
   "outputs": [],
   "source": [
    "import torch\n",
    "import numpy as np\n",
    "import pandas as pd\n",
    "from sklearn.model_selection import train_test_split\n",
    "import torch.nn as nn\n",
    "import torch.optim as optim\n",
    "\n",
    "# Check for GPU\n",
    "device = torch.device(\"cuda\" if torch.cuda.is_available() else \"cpu\")\n",
    "\n",
    "X = np.hstack([\n",
    "    np.vstack(df[\"sequence_embedding\"].values), \n",
    "    np.vstack(df[\"before_residual_embedding\"].values), \n",
    "    np.vstack(df[\"after_residual_embedding\"].values)\n",
    "])\n",
    "y = df[\"DMS_score\"].values\n",
    "\n",
    "# Convert to PyTorch tensors and move to GPU\n",
    "X_tensor = torch.tensor(X, dtype=torch.float32, device=device)\n",
    "y_tensor = torch.tensor(y, dtype=torch.float32, device=device).view(-1, 1)  # Reshape for MLP\n",
    "\n",
    "# Train/test split\n",
    "X_train, X_test, y_train, y_test = train_test_split(X_tensor, y_tensor, test_size=0.2, random_state=42)\n"
   ]
  },
  {
   "cell_type": "markdown",
   "metadata": {},
   "source": [
    "## MLP"
   ]
  },
  {
   "cell_type": "markdown",
   "metadata": {},
   "source": [
    "modified MLP:"
   ]
  },
  {
   "cell_type": "code",
   "execution_count": 77,
   "metadata": {},
   "outputs": [
    {
     "name": "stderr",
     "output_type": "stream",
     "text": [
      "/home/hice1/rmehta98/.conda/envs/compbio/lib/python3.13/site-packages/torch/optim/lr_scheduler.py:62: UserWarning: The verbose parameter is deprecated. Please use get_last_lr() to access the learning rate.\n",
      "  warnings.warn(\n"
     ]
    },
    {
     "name": "stdout",
     "output_type": "stream",
     "text": [
      "Epoch 1000/40000, Loss: -0.7995\n",
      "Epoch 2000/40000, Loss: -0.7989\n",
      "Epoch 3000/40000, Loss: -0.8030\n",
      "Epoch 4000/40000, Loss: -0.8010\n",
      "Epoch 5000/40000, Loss: -0.8022\n",
      "Epoch 6000/40000, Loss: -0.7941\n",
      "Epoch 7000/40000, Loss: -0.8032\n",
      "Epoch 8000/40000, Loss: -0.7978\n",
      "Epoch 9000/40000, Loss: -0.8065\n",
      "Epoch 10000/40000, Loss: -0.7997\n",
      "Epoch 11000/40000, Loss: -0.8003\n",
      "Epoch 12000/40000, Loss: -0.8011\n",
      "Epoch 13000/40000, Loss: -0.7986\n",
      "Epoch 14000/40000, Loss: -0.8009\n",
      "Epoch 15000/40000, Loss: -0.8051\n",
      "Epoch 16000/40000, Loss: -0.8017\n",
      "Epoch 17000/40000, Loss: -0.8040\n",
      "Epoch 18000/40000, Loss: -0.8047\n",
      "Epoch 19000/40000, Loss: -0.8042\n",
      "Epoch 20000/40000, Loss: -0.8005\n",
      "Epoch 21000/40000, Loss: -0.8060\n",
      "Epoch 22000/40000, Loss: -0.8060\n",
      "Epoch 23000/40000, Loss: -0.8056\n",
      "Epoch 24000/40000, Loss: -0.8047\n",
      "Epoch 25000/40000, Loss: -0.8022\n",
      "Epoch 26000/40000, Loss: -0.8055\n",
      "Epoch 27000/40000, Loss: -0.8088\n",
      "Epoch 28000/40000, Loss: -0.8047\n",
      "Epoch 29000/40000, Loss: -0.8056\n",
      "Epoch 30000/40000, Loss: -0.8080\n",
      "Epoch 31000/40000, Loss: -0.8061\n",
      "Epoch 32000/40000, Loss: -0.8105\n",
      "Epoch 33000/40000, Loss: -0.8066\n",
      "Epoch 34000/40000, Loss: -0.8059\n",
      "Epoch 35000/40000, Loss: -0.8071\n",
      "Epoch 36000/40000, Loss: -0.8049\n",
      "Epoch 37000/40000, Loss: -0.8117\n",
      "Epoch 38000/40000, Loss: -0.8061\n",
      "Epoch 39000/40000, Loss: -0.8050\n",
      "Epoch 40000/40000, Loss: -0.8110\n",
      "Test Spearman Loss: -0.8167\n",
      "MLP Spearman Correlation: 0.4536\n"
     ]
    }
   ],
   "source": [
    "import torch\n",
    "import torch.nn as nn\n",
    "import torch.optim as optim\n",
    "from scipy.stats import spearmanr\n",
    "\n",
    "# Define a more robust MLP regression model\n",
    "class MLPRegressor(nn.Module):\n",
    "    def __init__(self, input_dim):\n",
    "        super(MLPRegressor, self).__init__()\n",
    "        self.model = nn.Sequential(\n",
    "            nn.Linear(input_dim, 512),\n",
    "            nn.BatchNorm1d(512),  # Normalization to stabilize training\n",
    "            nn.ReLU(),\n",
    "            nn.Dropout(0.2),  # Prevent overfitting\n",
    "            nn.Linear(512, 512),\n",
    "            nn.BatchNorm1d(512),\n",
    "            nn.ReLU(),\n",
    "            nn.Dropout(0.2),\n",
    "            nn.Linear(512, 256),\n",
    "            nn.BatchNorm1d(256),\n",
    "            nn.ReLU(),\n",
    "            nn.Linear(256, 64),\n",
    "            nn.ReLU(),\n",
    "            nn.Linear(64, 1)\n",
    "        )\n",
    "\n",
    "    def forward(self, x):\n",
    "        return self.model(x)\n",
    "\n",
    "# Custom Spearman-friendly loss function\n",
    "def spearman_loss(y_pred, y_true):\n",
    "    return -torch.cosine_similarity(y_pred.view(1, -1), y_true.view(1, -1))\n",
    "\n",
    "# Initialize model, loss function, and optimizer\n",
    "model = MLPRegressor(input_dim=X.shape[1]).to(device)\n",
    "optimizer = optim.Adam(model.parameters(), lr=0.00005, weight_decay=1e-5)  # Weight decay added\n",
    "scheduler = optim.lr_scheduler.ReduceLROnPlateau(optimizer, mode='min', factor=0.5, patience=10, verbose=True)\n",
    "\n",
    "# Training loop\n",
    "epochs = 40000\n",
    "best_val_loss = float('inf')\n",
    "patience, patience_counter = 100_000, 0  # Early stopping\n",
    "\n",
    "for epoch in range(epochs):\n",
    "    model.train()\n",
    "    optimizer.zero_grad()\n",
    "    \n",
    "    predictions = model(X_train)\n",
    "    loss = spearman_loss(predictions, y_train)  # Rank-based loss\n",
    "    loss.backward()\n",
    "    optimizer.step()\n",
    "    \n",
    "    # Learning rate scheduling\n",
    "    scheduler.step(loss)\n",
    "\n",
    "    if (epoch + 1) % 1000 == 0:\n",
    "        print(f\"Epoch {epoch+1}/{epochs}, Loss: {loss.item():.4f}\")\n",
    "\n",
    "    # Early stopping\n",
    "    if loss.item() < best_val_loss:\n",
    "        best_val_loss = loss.item()\n",
    "        patience_counter = 0\n",
    "    else:\n",
    "        patience_counter += 1\n",
    "        if patience_counter >= patience:\n",
    "            print(\"Early stopping triggered.\")\n",
    "            break\n",
    "\n",
    "# Evaluate on test set\n",
    "model.eval()\n",
    "with torch.no_grad():\n",
    "    test_predictions = model(X_test)\n",
    "    test_loss = spearman_loss(test_predictions, y_test)\n",
    "\n",
    "print(f\"Test Spearman Loss: {test_loss.item():.4f}\")\n",
    "\n",
    "# Compute Spearman correlation\n",
    "spearman_corr, _ = spearmanr(y_test.cpu().numpy().flatten(), test_predictions.cpu().numpy().flatten())\n",
    "print(f\"MLP Spearman Correlation: {spearman_corr:.4f}\")\n"
   ]
  },
  {
   "cell_type": "markdown",
   "metadata": {},
   "source": [
    "# Predictions"
   ]
  },
  {
   "attachments": {},
   "cell_type": "markdown",
   "metadata": {},
   "source": [
    "## Embed Test Set\n",
    "\n",
    "**WARNING** Check if you actually have to do this. You might already have this"
   ]
  },
  {
   "cell_type": "code",
   "execution_count": 52,
   "metadata": {},
   "outputs": [
    {
     "data": {
      "text/html": [
       "<div>\n",
       "<style scoped>\n",
       "    .dataframe tbody tr th:only-of-type {\n",
       "        vertical-align: middle;\n",
       "    }\n",
       "\n",
       "    .dataframe tbody tr th {\n",
       "        vertical-align: top;\n",
       "    }\n",
       "\n",
       "    .dataframe thead th {\n",
       "        text-align: right;\n",
       "    }\n",
       "</style>\n",
       "<table border=\"1\" class=\"dataframe\">\n",
       "  <thead>\n",
       "    <tr style=\"text-align: right;\">\n",
       "      <th></th>\n",
       "      <th>mutant</th>\n",
       "      <th>Sequence</th>\n",
       "    </tr>\n",
       "  </thead>\n",
       "  <tbody>\n",
       "    <tr>\n",
       "      <th>0</th>\n",
       "      <td>V1D</td>\n",
       "      <td>MDNEARGNSSLNPCLEGSASSGSESSKDSSRCSTPGLDPERHERLR...</td>\n",
       "    </tr>\n",
       "    <tr>\n",
       "      <th>1</th>\n",
       "      <td>V1Y</td>\n",
       "      <td>MYNEARGNSSLNPCLEGSASSGSESSKDSSRCSTPGLDPERHERLR...</td>\n",
       "    </tr>\n",
       "    <tr>\n",
       "      <th>2</th>\n",
       "      <td>V1C</td>\n",
       "      <td>MCNEARGNSSLNPCLEGSASSGSESSKDSSRCSTPGLDPERHERLR...</td>\n",
       "    </tr>\n",
       "    <tr>\n",
       "      <th>3</th>\n",
       "      <td>V1A</td>\n",
       "      <td>MANEARGNSSLNPCLEGSASSGSESSKDSSRCSTPGLDPERHERLR...</td>\n",
       "    </tr>\n",
       "    <tr>\n",
       "      <th>4</th>\n",
       "      <td>V1E</td>\n",
       "      <td>MENEARGNSSLNPCLEGSASSGSESSKDSSRCSTPGLDPERHERLR...</td>\n",
       "    </tr>\n",
       "  </tbody>\n",
       "</table>\n",
       "</div>"
      ],
      "text/plain": [
       "  mutant                                           Sequence\n",
       "0    V1D  MDNEARGNSSLNPCLEGSASSGSESSKDSSRCSTPGLDPERHERLR...\n",
       "1    V1Y  MYNEARGNSSLNPCLEGSASSGSESSKDSSRCSTPGLDPERHERLR...\n",
       "2    V1C  MCNEARGNSSLNPCLEGSASSGSESSKDSSRCSTPGLDPERHERLR...\n",
       "3    V1A  MANEARGNSSLNPCLEGSASSGSESSKDSSRCSTPGLDPERHERLR...\n",
       "4    V1E  MENEARGNSSLNPCLEGSASSGSESSKDSSRCSTPGLDPERHERLR..."
      ]
     },
     "execution_count": 52,
     "metadata": {},
     "output_type": "execute_result"
    }
   ],
   "source": [
    "unlabeled_csv = pd.read_csv(\"../test.csv\")\n",
    "\n",
    "# get the sequence\n",
    "seq = open('../sequence.fasta', 'r').read()\n",
    "seq = seq.split(\"\\n\")[1]\n",
    "\n",
    "# create each mutated sequence using the info\n",
    "sequences = []\n",
    "for i in unlabeled_csv['mutant']:\n",
    "    ind = int(i[1:-1])\n",
    "    tmp = seq[:ind] + i[-1] + seq[ind+1:]\n",
    "    sequences.append(tmp)\n",
    "unlabeled_csv['Sequence'] = sequences\n",
    "unlabeled_csv.head()"
   ]
  },
  {
   "cell_type": "code",
   "execution_count": 53,
   "metadata": {},
   "outputs": [
    {
     "name": "stdout",
     "output_type": "stream",
     "text": [
      "Using device: cuda\n"
     ]
    }
   ],
   "source": [
    "import torch\n",
    "import esm\n",
    "\n",
    "# Check for GPU\n",
    "device = torch.device(\"cuda\" if torch.cuda.is_available() else \"cpu\")\n",
    "print(f\"Using device: {device}\")\n",
    "\n",
    "# Load pre-trained ESM model and move it to GPU\n",
    "esm_model, alphabet = esm.pretrained.esm2_t33_650M_UR50D()  # Example: ESM-2 model\n",
    "batch_converter = alphabet.get_batch_converter()\n",
    "esm_model = esm_model.to(device)\n",
    "esm_model.eval()  # Set to eval mode\n",
    "\n",
    "# Extract ESM embeddings using GPU\n",
    "def extract_esm_embedding(row):\n",
    "    sequence = row[\"Sequence\"]\n",
    "    batch_labels, batch_strs, batch_tokens = batch_converter([(None, sequence)])\n",
    "    batch_tokens = batch_tokens.to(device)  # Move input to GPU\n",
    "\n",
    "    with torch.no_grad():\n",
    "        results = esm_model(batch_tokens, repr_layers=[33], return_contacts=False)\n",
    "    \n",
    "    token_representations = results[\"representations\"][33]  # Use final layer\n",
    "\n",
    "    sequence_embedding = token_representations.mean(dim=1).squeeze().cpu().numpy()  # Move back to CPU for NumPy\n",
    "\n",
    "    # residual embeddings\n",
    "    ## before\n",
    "    mutant_pos = int(row[\"mutant\"][1])\n",
    "    before_embedding = original_sequence_token_representations[0, mutant_pos].squeeze().cpu().numpy()\n",
    "    after_embedding = token_representations[0, mutant_pos].squeeze().cpu().numpy()\n",
    "\n",
    "    return sequence_embedding, before_embedding, after_embedding"
   ]
  },
  {
   "cell_type": "code",
   "execution_count": 54,
   "metadata": {},
   "outputs": [],
   "source": [
    "unlabeled_csv[[\"sequence_embedding\", \"before_residual_embedding\", \"after_residual_embedding\"]] = unlabeled_csv.apply(lambda row: extract_esm_embedding(row), axis=1, result_type=\"expand\")\n"
   ]
  },
  {
   "cell_type": "code",
   "execution_count": 55,
   "metadata": {},
   "outputs": [],
   "source": [
    "unlabeled_csv.to_parquet(\"protein_embeddings_w_residuals_TEST.parquet\", engine=\"pyarrow\")"
   ]
  },
  {
   "attachments": {},
   "cell_type": "markdown",
   "metadata": {},
   "source": [
    "## Inference\n"
   ]
  },
  {
   "cell_type": "code",
   "execution_count": 86,
   "metadata": {},
   "outputs": [],
   "source": [
    "df_unlabeled = pd.read_parquet('protein_embeddings_w_residuals_TEST.parquet')\n",
    "X_unlabeled = np.hstack([\n",
    "    np.vstack(df_unlabeled[\"sequence_embedding\"].values), \n",
    "    np.vstack(df_unlabeled[\"before_residual_embedding\"].values), \n",
    "    np.vstack(df_unlabeled[\"after_residual_embedding\"].values)\n",
    "])\n",
    "X_unlabeled = torch.tensor(X_unlabeled, dtype=torch.float32, device=device)"
   ]
  },
  {
   "cell_type": "code",
   "execution_count": 80,
   "metadata": {},
   "outputs": [
    {
     "data": {
      "text/plain": [
       "(array([ 868., 3987.,  735.,   38., 1849.,  231.,  543., 2921.,  145.,\n",
       "           7.]),\n",
       " array([0.22876069, 0.41981447, 0.61086822, 0.80192202, 0.99297577,\n",
       "        1.18402958, 1.37508333, 1.56613708, 1.75719094, 1.94824469,\n",
       "        2.13929844]),\n",
       " <BarContainer object of 10 artists>)"
      ]
     },
     "execution_count": 80,
     "metadata": {},
     "output_type": "execute_result"
    },
    {
     "data": {
      "image/png": "[encoded data removed]",
      "text/plain": [
       "<Figure size 640x480 with 1 Axes>"
      ]
     },
     "metadata": {},
     "output_type": "display_data"
    }
   ],
   "source": [
    "# Rohan's Version\n",
    "%matplotlib inline\n",
    "import matplotlib.pyplot as plt\n",
    "pred = model(X_unlabeled)\n",
    "pred = pred.detach().cpu().numpy()\n",
    "plt.hist(pred)"
   ]
  },
  {
   "cell_type": "code",
   "execution_count": 94,
   "metadata": {},
   "outputs": [],
   "source": [
    "pred = model(X_unlabeled).detach().cpu().numpy()\n",
    "\n",
    "df_unlabeled[\"DMS_score_predicted\"] = pred\n",
    "df_unlabeled[[\"mutant\", \"DMS_score_predicted\"]].to_csv(\"predictions.csv\", index=False)"
   ]
  },
  {
   "cell_type": "code",
   "execution_count": 95,
   "metadata": {},
   "outputs": [],
   "source": [
    "top10mutants = df_unlabeled.iloc[pred.flatten().argsort()[-10:], :]\n",
    "mutants = []\n",
    "for mut in top10mutants[\"mutant\"].values:\n",
    "    mutants.append(mut)\n",
    "\n",
    "with open(\"top10.txt\", \"w\") as f:\n",
    "\n",
    "    f.write(\"\\n\".join(mutants))\n"
   ]
  },
  {
   "cell_type": "code",
   "execution_count": null,
   "metadata": {},
   "outputs": [],
   "source": []
  }
 ],
 "metadata": {
  "kernelspec": {
   "display_name": "Python 3 (ipykernel)",
   "language": "python",
   "name": "python3"
  },
  "language_info": {
   "codemirror_mode": {
    "name": "ipython",
    "version": 3
   },
   "file_extension": ".py",
   "mimetype": "text/x-python",
   "name": "python",
   "nbconvert_exporter": "python",
   "pygments_lexer": "ipython3",
   "version": "3.13.2"
  }
 },
 "nbformat": 4,
 "nbformat_minor": 2
}
