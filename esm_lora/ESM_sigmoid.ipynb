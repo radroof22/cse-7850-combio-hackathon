{
 "cells": [
  {
   "cell_type": "code",
   "execution_count": 23,
   "metadata": {},
   "outputs": [],
   "source": [
    "import pandas as pd\n",
    "from datasets import Dataset\n",
    "\n",
    "# Load your parquet file\n",
    "df = pd.read_parquet(\"../protein_embeddings.parquet\")\n",
    "\n",
    "# Assuming the parquet file has columns 'Sequence' and 'DMS_score'\n",
    "dataset = Dataset.from_pandas(df[['Sequence', 'DMS_score']])\n"
   ]
  },
  {
   "cell_type": "code",
   "execution_count": 24,
   "metadata": {},
   "outputs": [
    {
     "name": "stderr",
     "output_type": "stream",
     "text": [
      "Map: 100%|██████████| 1140/1140 [00:02<00:00, 485.89 examples/s]\n"
     ]
    }
   ],
   "source": [
    "from transformers import AutoTokenizer\n",
    "\n",
    "tokenizer = AutoTokenizer.from_pretrained(\"facebook/esm2_t33_650M_UR50D\")\n",
    "\n",
    "def tokenize_function(examples):\n",
    "    return tokenizer(examples['Sequence'], padding=\"max_length\", truncation=True, max_length=656)\n",
    "\n",
    "# Tokenize the dataset\n",
    "tokenized_datasets = dataset.map(tokenize_function, batched=True)\n"
   ]
  },
  {
   "cell_type": "code",
   "execution_count": 56,
   "metadata": {},
   "outputs": [
    {
     "data": {
      "text/plain": [
       "Dataset({\n",
       "    features: ['Sequence', 'DMS_score', 'input_ids', 'attention_mask'],\n",
       "    num_rows: 1140\n",
       "})"
      ]
     },
     "execution_count": 56,
     "metadata": {},
     "output_type": "execute_result"
    }
   ],
   "source": [
    "tokenized_datasets"
   ]
  },
  {
   "cell_type": "code",
   "execution_count": 55,
   "metadata": {},
   "outputs": [
    {
     "name": "stderr",
     "output_type": "stream",
     "text": [
      "Some weights of EsmForSequenceClassification were not initialized from the model checkpoint at facebook/esm2_t33_650M_UR50D and are newly initialized: ['classifier.dense.bias', 'classifier.dense.weight', 'classifier.out_proj.bias', 'classifier.out_proj.weight']\n",
      "You should probably TRAIN this model on a down-stream task to be able to use it for predictions and inference.\n"
     ]
    },
    {
     "name": "stdout",
     "output_type": "stream",
     "text": [
      "EsmForSequenceClassification(\n",
      "  (esm): EsmModel(\n",
      "    (embeddings): EsmEmbeddings(\n",
      "      (word_embeddings): Embedding(33, 1280, padding_idx=1)\n",
      "      (dropout): Dropout(p=0.0, inplace=False)\n",
      "      (position_embeddings): Embedding(1026, 1280, padding_idx=1)\n",
      "    )\n",
      "    (encoder): EsmEncoder(\n",
      "      (layer): ModuleList(\n",
      "        (0-32): 33 x EsmLayer(\n",
      "          (attention): EsmAttention(\n",
      "            (self): EsmSelfAttention(\n",
      "              (query): Linear(in_features=1280, out_features=1280, bias=True)\n",
      "              (key): Linear(in_features=1280, out_features=1280, bias=True)\n",
      "              (value): Linear(in_features=1280, out_features=1280, bias=True)\n",
      "              (dropout): Dropout(p=0.0, inplace=False)\n",
      "              (rotary_embeddings): RotaryEmbedding()\n",
      "            )\n",
      "            (output): EsmSelfOutput(\n",
      "              (dense): Linear(in_features=1280, out_features=1280, bias=True)\n",
      "              (dropout): Dropout(p=0.0, inplace=False)\n",
      "            )\n",
      "            (LayerNorm): LayerNorm((1280,), eps=1e-05, elementwise_affine=True)\n",
      "          )\n",
      "          (intermediate): EsmIntermediate(\n",
      "            (dense): Linear(in_features=1280, out_features=5120, bias=True)\n",
      "          )\n",
      "          (output): EsmOutput(\n",
      "            (dense): Linear(in_features=5120, out_features=1280, bias=True)\n",
      "            (dropout): Dropout(p=0.0, inplace=False)\n",
      "          )\n",
      "          (LayerNorm): LayerNorm((1280,), eps=1e-05, elementwise_affine=True)\n",
      "        )\n",
      "      )\n",
      "      (emb_layer_norm_after): LayerNorm((1280,), eps=1e-05, elementwise_affine=True)\n",
      "    )\n",
      "    (contact_head): EsmContactPredictionHead(\n",
      "      (regression): Linear(in_features=660, out_features=1, bias=True)\n",
      "      (activation): Sigmoid()\n",
      "    )\n",
      "  )\n",
      "  (classifier): EsmClassificationHead(\n",
      "    (dense): Linear(in_features=1280, out_features=1280, bias=True)\n",
      "    (dropout): Dropout(p=0.0, inplace=False)\n",
      "    (out_proj): Linear(in_features=1280, out_features=1, bias=True)\n",
      "  )\n",
      ")\n"
     ]
    }
   ],
   "source": [
    "from transformers import AutoModelForSequenceClassification\n",
    "from peft import get_peft_model, LoraConfig\n",
    "\n",
    "# Load the pre-trained model\n",
    "model = AutoModelForSequenceClassification.from_pretrained(\"facebook/esm2_t33_650M_UR50D\", num_labels=1)\n",
    "print(model)"
   ]
  },
  {
   "cell_type": "code",
   "execution_count": null,
   "metadata": {},
   "outputs": [],
   "source": [
    "\n",
    "# Set up LoRA configuration\n",
    "lora_config = LoraConfig(\n",
    "    r=16,  # Rank of the low-rank matrices\n",
    "    lora_alpha=16,  # Scaling factor for LoRA updates\n",
    "    lora_dropout=0.1,  # Dropout rate for LoRA\n",
    "    target_modules=[\n",
    "        # Targeting the query, key, and value layers within the attention\n",
    "        \"esm.encoder.layer.*.attention.self.query\",  # Attention query layers\n",
    "        \"esm.encoder.layer.*.attention.self.key\",    # Attention key layers\n",
    "        \"esm.encoder.layer.*.attention.self.value\",  # Attention value layers\n",
    "        \"esm.encoder.layer.*.attention.output.dense\", # Output dense layers in self-attention\n",
    "\n",
    "        # Targeting the intermediate dense layers in the output\n",
    "        \"esm.encoder.layer.*.intermediate.dense\",  # Intermediate layers\n",
    "        \"esm.encoder.layer.*.output.dense\",  # Output dense layers in the intermediate\n",
    "\n",
    "        # Targeting the final classifier layer\n",
    "        \"classifier.out_proj\"  # Final output projection layer\n",
    "    ],\n",
    ")\n",
    "\n",
    "# Apply LoRA to the model\n",
    "model = get_peft_model(model, lora_config)\n"
   ]
  },
  {
   "cell_type": "code",
   "execution_count": 26,
   "metadata": {},
   "outputs": [
    {
     "name": "stderr",
     "output_type": "stream",
     "text": [
      "Map: 100%|██████████| 1026/1026 [00:00<00:00, 50296.35 examples/s]\n",
      "/home/hice1/rmehta98/.conda/envs/compbio/lib/python3.13/site-packages/transformers/training_args.py:1575: FutureWarning: `evaluation_strategy` is deprecated and will be removed in version 4.46 of 🤗 Transformers. Use `eval_strategy` instead\n",
      "  warnings.warn(\n"
     ]
    },
    {
     "data": {
      "text/html": [
       "\n",
       "    <div>\n",
       "      \n",
       "      <progress value='3' max='645' style='width:300px; height:20px; vertical-align: middle;'></progress>\n",
       "      [  3/645 00:00 < 08:12, 1.30 it/s, Epoch 0.02/5]\n",
       "    </div>\n",
       "    <table border=\"1\" class=\"dataframe\">\n",
       "  <thead>\n",
       " <tr style=\"text-align: left;\">\n",
       "      <th>Epoch</th>\n",
       "      <th>Training Loss</th>\n",
       "      <th>Validation Loss</th>\n",
       "    </tr>\n",
       "  </thead>\n",
       "  <tbody>\n",
       "  </tbody>\n",
       "</table><p>"
      ],
      "text/plain": [
       "<IPython.core.display.HTML object>"
      ]
     },
     "metadata": {},
     "output_type": "display_data"
    },
    {
     "data": {
      "text/plain": [
       "TrainOutput(global_step=645, training_loss=0.04448828290599261, metrics={'train_runtime': 1244.0279, 'train_samples_per_second': 4.124, 'train_steps_per_second': 0.518, 'total_flos': 1.314519151155264e+16, 'train_loss': 0.04448828290599261, 'epoch': 5.0})"
      ]
     },
     "execution_count": 26,
     "metadata": {},
     "output_type": "execute_result"
    }
   ],
   "source": [
    "from transformers import Trainer, TrainingArguments\n",
    "from torch.utils.data import DataLoader\n",
    "from torch import nn\n",
    "\n",
    "# Prepare the dataset for training\n",
    "tokenized_datasets = tokenized_datasets.map(lambda e: {'labels': e['DMS_score']}, batched=True)\n",
    "dataset_dict = tokenized_datasets.shuffle(seed=42).train_test_split(test_size=0.1)\n",
    "train_dataset, eval_dataset = dataset_dict[\"train\"], dataset_dict[\"test\"]\n",
    "\n",
    "# Training arguments\n",
    "training_args = TrainingArguments(\n",
    "    output_dir=\"./results\",\n",
    "    evaluation_strategy=\"epoch\",\n",
    "    learning_rate=5e-4,\n",
    "    per_device_train_batch_size=8,\n",
    "    num_train_epochs=5,\n",
    "    weight_decay=0.01,\n",
    ")\n",
    "\n",
    "# Trainer\n",
    "trainer = Trainer(\n",
    "    model=model,\n",
    "    args=training_args,\n",
    "    train_dataset=train_dataset,\n",
    "    eval_dataset=eval_dataset,\n",
    "    compute_metrics=lambda p: {'loss': nn.MSELoss()(p.predictions, p.label_ids).item()},\n",
    ")\n",
    "\n",
    "# Fine-tune the model\n",
    "trainer.train()\n"
   ]
  },
  {
   "cell_type": "code",
   "execution_count": 27,
   "metadata": {},
   "outputs": [],
   "source": [
    "# Save the fine-tuned model\n",
    "trainer.save_model(\"./fine_tuned_model_lora\")\n"
   ]
  },
  {
   "cell_type": "code",
   "execution_count": 44,
   "metadata": {},
   "outputs": [
    {
     "data": {
      "text/plain": [
       "(129,)"
      ]
     },
     "execution_count": 44,
     "metadata": {},
     "output_type": "execute_result"
    }
   ],
   "source": [
    "predictions.predictions[0].shape"
   ]
  },
  {
   "cell_type": "code",
   "execution_count": 45,
   "metadata": {},
   "outputs": [
    {
     "data": {
      "text/plain": [
       "(1026, 1)"
      ]
     },
     "execution_count": 45,
     "metadata": {},
     "output_type": "execute_result"
    }
   ],
   "source": [
    "predictions.predictions[1].shape"
   ]
  },
  {
   "cell_type": "code",
   "execution_count": 47,
   "metadata": {},
   "outputs": [
    {
     "data": {
      "text/plain": [
       "Dataset({\n",
       "    features: ['Sequence', 'DMS_score', 'input_ids', 'attention_mask', 'labels'],\n",
       "    num_rows: 1026\n",
       "})"
      ]
     },
     "execution_count": 47,
     "metadata": {},
     "output_type": "execute_result"
    }
   ],
   "source": [
    "train_dataset"
   ]
  },
  {
   "cell_type": "code",
   "execution_count": 32,
   "metadata": {},
   "outputs": [
    {
     "data": {
      "text/html": [
       "\n",
       "    <div>\n",
       "      \n",
       "      <progress value='2' max='129' style='width:300px; height:20px; vertical-align: middle;'></progress>\n",
       "      [  2/129 00:00 < 01:37, 1.30 it/s]\n",
       "    </div>\n",
       "    "
      ],
      "text/plain": [
       "<IPython.core.display.HTML object>"
      ]
     },
     "metadata": {},
     "output_type": "display_data"
    },
    {
     "name": "stdout",
     "output_type": "stream",
     "text": [
      "(array([0.02320602, 0.07012606, 0.03719847, 0.0814154 , 0.05918944,\n",
      "       0.06345003, 0.04479254, 0.03773064, 0.04288913, 0.04651351,\n",
      "       0.0593784 , 0.06546482, 0.02359401, 0.07063316, 0.04344887,\n",
      "       0.0312431 , 0.02266061, 0.03800429, 0.05408122, 0.04618418,\n",
      "       0.04266328, 0.07927297, 0.09347366, 0.02450255, 0.0418622 ,\n",
      "       0.02149348, 0.01713691, 0.04141488, 0.02099298, 0.04800383,\n",
      "       0.04439675, 0.0484485 , 0.02435333, 0.01967072, 0.02907022,\n",
      "       0.02747432, 0.02450415, 0.02261062, 0.02971669, 0.0608567 ,\n",
      "       0.07657106, 0.05419941, 0.04594339, 0.04337757, 0.08540905,\n",
      "       0.02643153, 0.0159085 , 0.07169095, 0.07900331, 0.01668376,\n",
      "       0.01260257, 0.02628579, 0.04824974, 0.08300337, 0.05522168,\n",
      "       0.02525616, 0.02012382, 0.02640349, 0.0621426 , 0.02801889,\n",
      "       0.01929567, 0.01620233, 0.02798562, 0.0203061 , 0.04237487,\n",
      "       0.05137038, 0.1037002 , 0.05533183, 0.03933362, 0.04046097,\n",
      "       0.03766076, 0.02784949, 0.03977851, 0.02413716, 0.10399641,\n",
      "       0.05523349, 0.09548622, 0.05196108, 0.01695614, 0.01762721,\n",
      "       0.03821659, 0.06786531, 0.03619516, 0.02404914, 0.05372728,\n",
      "       0.02402821, 0.03789411, 0.0343318 , 0.02808112, 0.1214295 ,\n",
      "       0.11564878, 0.01780864, 0.09280464, 0.03222724, 0.02780988,\n",
      "       0.10620105, 0.07018261, 0.04972662, 0.06409486, 0.0282683 ,\n",
      "       0.02096984, 0.00833878, 0.03009762, 0.0249548 , 0.00935051,\n",
      "       0.09233132, 0.03800959, 0.04239553, 0.0251345 , 0.01813967,\n",
      "       0.03980833, 0.02308478, 0.03387729, 0.02889628, 0.03534498,\n",
      "       0.01636293, 0.0483495 , 0.04476479, 0.01912351, 0.09182956,\n",
      "       0.01550694, 0.02888976, 0.02427978, 0.02826641, 0.0932061 ,\n",
      "       0.10302278, 0.03737109, 0.02233846, 0.03092501], dtype=float32), array([[0.22336844],\n",
      "       [0.22317272],\n",
      "       [0.22313169],\n",
      "       ...,\n",
      "       [0.2237605 ],\n",
      "       [0.22328483],\n",
      "       [0.22294249]], dtype=float32))\n"
     ]
    }
   ],
   "source": [
    "predictions = trainer.predict(train_dataset)\n",
    "train_dataset\n"
   ]
  },
  {
   "cell_type": "code",
   "execution_count": 51,
   "metadata": {},
   "outputs": [
    {
     "name": "stdout",
     "output_type": "stream",
     "text": [
      "Spearman correlation: 0.048977990473327494\n"
     ]
    }
   ],
   "source": [
    "from scipy.stats import spearmanr\n",
    "import numpy as np\n",
    "# Extract predicted values and true labels\n",
    "predicted_values = predictions.predictions[1].flatten()  # Flatten in case of multi-dimensional output\n",
    "true_labels = train_dataset[\"labels\"]\n",
    "\n",
    "# predicted_values_normalized = (predicted_values - np.min(predicted_values)) / (np.max(predicted_values) - np.min(predicted_values))\n",
    "\n",
    "# Compute Spearman correlation\n",
    "corr, _ = spearmanr(predicted_values, true_labels)\n",
    "\n",
    "# Output the correlation\n",
    "print(f\"Spearman correlation: {corr}\")\n"
   ]
  },
  {
   "cell_type": "code",
   "execution_count": 52,
   "metadata": {},
   "outputs": [
    {
     "data": {
      "image/png": "[encoded data removed]",
      "text/plain": [
       "<Figure size 800x600 with 1 Axes>"
      ]
     },
     "metadata": {},
     "output_type": "display_data"
    }
   ],
   "source": [
    "import matplotlib.pyplot as plt\n",
    "# Visualize with a scatter plot\n",
    "plt.figure(figsize=(8, 6))\n",
    "plt.scatter(true_labels, predicted_values, alpha=0.6, color='b')\n",
    "plt.title('Predicted vs True Labels')\n",
    "plt.xlabel('True Labels (Fitness Scores)')\n",
    "plt.ylabel('Predicted Labels (Fitness Scores)')\n",
    "plt.grid(True)\n",
    "plt.show()"
   ]
  },
  {
   "cell_type": "code",
   "execution_count": null,
   "metadata": {},
   "outputs": [],
   "source": []
  }
 ],
 "metadata": {
  "kernelspec": {
   "display_name": "compbio",
   "language": "python",
   "name": "python3"
  },
  "language_info": {
   "codemirror_mode": {
    "name": "ipython",
    "version": 3
   },
   "file_extension": ".py",
   "mimetype": "text/x-python",
   "name": "python",
   "nbconvert_exporter": "python",
   "pygments_lexer": "ipython3",
   "version": "3.13.2"
  },
  "orig_nbformat": 4
 },
 "nbformat": 4,
 "nbformat_minor": 2
}
