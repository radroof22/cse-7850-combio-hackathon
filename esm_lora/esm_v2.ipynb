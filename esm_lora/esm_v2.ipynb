{
 "cells": [
  {
   "attachments": {},
   "cell_type": "markdown",
   "metadata": {},
   "source": [
    "# Data Loading"
   ]
  },
  {
   "cell_type": "code",
   "execution_count": 1,
   "metadata": {},
   "outputs": [],
   "source": [
    "import pandas as pd"
   ]
  },
  {
   "cell_type": "code",
   "execution_count": 20,
   "metadata": {},
   "outputs": [],
   "source": [
    "train_data_df = pd.read_csv('../train.csv')\n",
    "\n",
    "# get the sequence\n",
    "seq = open('../sequence.fasta', 'r').read()\n",
    "seq = seq.split(\"\\n\")[1]\n",
    "\n",
    "# create each mutated sequence using the info\n",
    "sequences = []\n",
    "for i in df['mutant']:\n",
    "    ind = int(i[1:-1])\n",
    "    tmp = seq[:ind] + i[-1] + seq[ind+1:]\n",
    "    sequences.append(tmp)\n",
    "train_data_df['Sequence'] = sequences"
   ]
  },
  {
   "cell_type": "code",
   "execution_count": 22,
   "metadata": {},
   "outputs": [
    {
     "data": {
      "text/html": [
       "<div>\n",
       "<style scoped>\n",
       "    .dataframe tbody tr th:only-of-type {\n",
       "        vertical-align: middle;\n",
       "    }\n",
       "\n",
       "    .dataframe tbody tr th {\n",
       "        vertical-align: top;\n",
       "    }\n",
       "\n",
       "    .dataframe thead th {\n",
       "        text-align: right;\n",
       "    }\n",
       "</style>\n",
       "<table border=\"1\" class=\"dataframe\">\n",
       "  <thead>\n",
       "    <tr style=\"text-align: right;\">\n",
       "      <th></th>\n",
       "      <th>mutant</th>\n",
       "      <th>labels</th>\n",
       "      <th>Sequence</th>\n",
       "    </tr>\n",
       "  </thead>\n",
       "  <tbody>\n",
       "    <tr>\n",
       "      <th>0</th>\n",
       "      <td>M0Y</td>\n",
       "      <td>0.2730</td>\n",
       "      <td>YVNEARGNSSLNPCLEGSASSGSESSKDSSRCSTPGLDPERHERLR...</td>\n",
       "    </tr>\n",
       "    <tr>\n",
       "      <th>1</th>\n",
       "      <td>M0W</td>\n",
       "      <td>0.2857</td>\n",
       "      <td>WVNEARGNSSLNPCLEGSASSGSESSKDSSRCSTPGLDPERHERLR...</td>\n",
       "    </tr>\n",
       "    <tr>\n",
       "      <th>2</th>\n",
       "      <td>M0V</td>\n",
       "      <td>0.2153</td>\n",
       "      <td>VVNEARGNSSLNPCLEGSASSGSESSKDSSRCSTPGLDPERHERLR...</td>\n",
       "    </tr>\n",
       "    <tr>\n",
       "      <th>3</th>\n",
       "      <td>M0T</td>\n",
       "      <td>0.3122</td>\n",
       "      <td>TVNEARGNSSLNPCLEGSASSGSESSKDSSRCSTPGLDPERHERLR...</td>\n",
       "    </tr>\n",
       "    <tr>\n",
       "      <th>4</th>\n",
       "      <td>M0S</td>\n",
       "      <td>0.2180</td>\n",
       "      <td>SVNEARGNSSLNPCLEGSASSGSESSKDSSRCSTPGLDPERHERLR...</td>\n",
       "    </tr>\n",
       "  </tbody>\n",
       "</table>\n",
       "</div>"
      ],
      "text/plain": [
       "  mutant  labels                                           Sequence\n",
       "0    M0Y  0.2730  YVNEARGNSSLNPCLEGSASSGSESSKDSSRCSTPGLDPERHERLR...\n",
       "1    M0W  0.2857  WVNEARGNSSLNPCLEGSASSGSESSKDSSRCSTPGLDPERHERLR...\n",
       "2    M0V  0.2153  VVNEARGNSSLNPCLEGSASSGSESSKDSSRCSTPGLDPERHERLR...\n",
       "3    M0T  0.3122  TVNEARGNSSLNPCLEGSASSGSESSKDSSRCSTPGLDPERHERLR...\n",
       "4    M0S  0.2180  SVNEARGNSSLNPCLEGSASSGSESSKDSSRCSTPGLDPERHERLR..."
      ]
     },
     "execution_count": 22,
     "metadata": {},
     "output_type": "execute_result"
    }
   ],
   "source": [
    "train_data_df = train_data_df.rename(columns={'DMS_score': 'labels'})\n",
    "\n",
    "train_data_df.head()"
   ]
  },
  {
   "cell_type": "code",
   "execution_count": 12,
   "metadata": {},
   "outputs": [
    {
     "data": {
      "image/png": "[encoded data removed]",
      "text/plain": [
       "<Figure size 640x480 with 1 Axes>"
      ]
     },
     "metadata": {},
     "output_type": "display_data"
    }
   ],
   "source": [
    "import matplotlib.pyplot as plt\n",
    "\n",
    "plt.hist(train_data[\"labels\"])\n",
    "plt.xlabel(\"DMS Score\")\n",
    "plt.show()"
   ]
  },
  {
   "attachments": {},
   "cell_type": "markdown",
   "metadata": {},
   "source": [
    "# Utils"
   ]
  },
  {
   "cell_type": "code",
   "execution_count": 13,
   "metadata": {},
   "outputs": [],
   "source": [
    "def compute_metrics(p):\n",
    "    \"\"\"Compute Pearson correlation for evaluation.\"\"\"\n",
    "    predictions, labels = p\n",
    "    \n",
    "    # Flatten in case of multi-dimensional outputs\n",
    "    predictions = predictions.flatten()\n",
    "    labels = labels.flatten()\n",
    "    \n",
    "    # Compute Pearson correlation\n",
    "    pearson_corr, _ = pearsonr(predictions, labels)\n",
    "    \n",
    "    return {'pearson_correlation': pearson_corr}"
   ]
  },
  {
   "cell_type": "code",
   "execution_count": 14,
   "metadata": {},
   "outputs": [],
   "source": [
    "def compute_loss(model, inputs):\n",
    "    \"\"\"Custom compute_loss function for regression.\"\"\"\n",
    "    logits = model(**inputs).logits.view(-1)  # Flatten logits\n",
    "    labels = inputs[\"labels\"].view(-1)  # Flatten labels\n",
    "    loss_fct = nn.MSELoss()  # Mean Squared Error Loss\n",
    "    loss = loss_fct(logits, labels)\n",
    "    return loss"
   ]
  },
  {
   "cell_type": "code",
   "execution_count": 26,
   "metadata": {},
   "outputs": [],
   "source": [
    "from datasets import Dataset\n",
    "\n",
    "train_data = Dataset.from_pandas(train_data_df)\n"
   ]
  },
  {
   "attachments": {},
   "cell_type": "markdown",
   "metadata": {},
   "source": [
    "# Data Processing"
   ]
  },
  {
   "cell_type": "code",
   "execution_count": 42,
   "metadata": {},
   "outputs": [
    {
     "ename": "ArrowInvalid",
     "evalue": "Could not convert tensor([ 0, 19,  7, 17,  9,  5, 10,  6, 17,  8,  8,  4, 17, 14, 23,  4,  9,  6,\n         8,  5,  8,  8,  6,  8,  9,  8,  8, 15, 13,  8,  8, 10, 23,  8, 11, 14,\n         6,  4, 13, 14,  9, 10, 21,  9, 10,  4, 10,  9, 15, 20, 10, 10, 10,  4,\n         9,  8,  6, 13, 15, 22, 18,  8,  4,  9, 18, 18, 14, 14, 10, 11,  5,  9,\n         6,  5,  7, 17,  4, 12,  8, 10, 18, 13, 10, 20,  5,  5,  6,  6, 14,  4,\n        19, 12, 13,  7, 11, 22, 21, 14,  5,  6, 13, 14,  6,  8, 13, 15,  9, 11,\n         8,  8, 20, 20, 12,  5,  8, 11,  5,  7, 17, 19, 23,  6,  4,  9, 11, 12,\n         4, 21, 20, 11, 23, 23, 10, 16, 10,  4,  9,  9, 12, 11,  6, 21,  4, 21,\n        15,  5, 15, 16,  4,  6,  4, 15, 17, 12, 20,  5,  4, 10,  6, 13, 14, 12,\n         6, 13, 16, 22,  9,  9,  9,  9,  6,  6, 18, 17, 19,  5,  7, 13,  4,  7,\n        15, 21, 12, 10,  8,  9, 18,  6, 13, 19, 18, 13, 12, 23,  7,  5,  6, 19,\n        14, 15,  6, 21, 14,  9,  5,  6,  8, 18,  9,  5, 13,  4, 15, 21,  4, 15,\n         9, 15,  7,  8,  5,  6,  5, 13, 18, 12, 12, 11, 16,  4, 18, 18,  9,  5,\n        13, 11, 18, 18, 10, 18,  7, 15,  5, 23, 11, 13, 20,  6, 12, 11, 23, 14,\n        12,  7, 14,  6, 12, 18, 14, 12, 16,  6, 19, 21,  8,  4, 10, 16,  4,  7,\n        15,  4,  8, 15,  4,  9,  7, 14, 16,  9, 12, 15, 13,  7, 12,  9, 14, 12,\n        15, 13, 17, 13,  5,  5, 12, 10, 17, 19,  6, 12,  9,  4,  5,  7,  8,  4,\n        23, 16,  9,  4,  4,  5,  8,  6,  4,  7, 14,  6,  4, 21, 18, 19, 11,  4,\n        17, 10,  9, 20,  5, 11, 11,  9,  7,  4, 15, 10,  4,  6, 20, 22, 11,  9,\n        13, 14, 10, 10, 14,  4, 14, 22,  5,  4,  8,  5, 21, 14, 15, 10, 10,  9,\n         9, 13,  7, 10, 14, 12, 18, 22,  5,  8, 10, 14, 15,  8, 19, 12, 19, 10,\n        11, 16,  9, 22, 13,  9, 18, 14, 17,  6, 10, 22,  6, 17,  8,  8,  8, 14,\n         5, 18,  6,  9,  4, 15, 13, 19, 19,  4, 18, 19,  4, 15,  8, 15,  8, 14,\n        15,  9,  9,  4,  4, 15, 20, 22,  6,  9,  9,  4, 11,  8,  9,  9,  8,  7,\n        18,  9,  7, 18,  7,  4, 19,  4,  8,  6,  9, 14, 17, 10, 17,  6, 21, 15,\n         7, 11, 23,  4, 14, 22, 17, 13,  9, 14,  4,  5,  5,  9, 11,  8,  4,  4,\n        15,  9,  9,  4,  4, 10,  7, 17, 10, 16,  6, 12,  4, 11, 12, 17,  8, 16,\n        14, 17, 12, 17,  6, 15, 14,  8,  8, 13, 14, 12,  7,  6, 22,  6, 14,  8,\n         6,  6, 19,  7, 18, 16, 15,  2]) with type Tensor: did not recognize Python value type when inferring an Arrow data type",
     "output_type": "error",
     "traceback": [
      "\u001b[31m---------------------------------------------------------------------------\u001b[39m",
      "\u001b[31mArrowInvalid\u001b[39m                              Traceback (most recent call last)",
      "\u001b[36mCell\u001b[39m\u001b[36m \u001b[39m\u001b[32mIn[42]\u001b[39m\u001b[32m, line 24\u001b[39m\n\u001b[32m     21\u001b[39m train_data_hf = Dataset.from_pandas(train_data_df)\n\u001b[32m     23\u001b[39m \u001b[38;5;66;03m# Add tokenized sequences to the dataset (the tokenized outputs)\u001b[39;00m\n\u001b[32m---> \u001b[39m\u001b[32m24\u001b[39m train_data_hf = \u001b[43mtrain_data_hf\u001b[49m\u001b[43m.\u001b[49m\u001b[43madd_column\u001b[49m\u001b[43m(\u001b[49m\u001b[33;43m\"\u001b[39;49m\u001b[33;43minput_ids\u001b[39;49m\u001b[33;43m\"\u001b[39;49m\u001b[43m,\u001b[49m\u001b[43m \u001b[49m\u001b[43mtrain_data_tokenized\u001b[49m\u001b[43m[\u001b[49m\u001b[33;43m\"\u001b[39;49m\u001b[33;43minput_ids\u001b[39;49m\u001b[33;43m\"\u001b[39;49m\u001b[43m]\u001b[49m\u001b[43m)\u001b[49m\n\u001b[32m     25\u001b[39m train_data_hf = train_data_hf.add_column(\u001b[33m\"\u001b[39m\u001b[33mattention_mask\u001b[39m\u001b[33m\"\u001b[39m, train_data_tokenized[\u001b[33m\"\u001b[39m\u001b[33mattention_mask\u001b[39m\u001b[33m\"\u001b[39m])\n\u001b[32m     27\u001b[39m \u001b[38;5;66;03m# Rename the column `DMS_score` to `labels`\u001b[39;00m\n",
      "\u001b[36mFile \u001b[39m\u001b[32m~/.conda/envs/compbio/lib/python3.13/site-packages/datasets/arrow_dataset.py:557\u001b[39m, in \u001b[36mtransmit_format.<locals>.wrapper\u001b[39m\u001b[34m(*args, **kwargs)\u001b[39m\n\u001b[32m    550\u001b[39m self_format = {\n\u001b[32m    551\u001b[39m     \u001b[33m\"\u001b[39m\u001b[33mtype\u001b[39m\u001b[33m\"\u001b[39m: \u001b[38;5;28mself\u001b[39m._format_type,\n\u001b[32m    552\u001b[39m     \u001b[33m\"\u001b[39m\u001b[33mformat_kwargs\u001b[39m\u001b[33m\"\u001b[39m: \u001b[38;5;28mself\u001b[39m._format_kwargs,\n\u001b[32m    553\u001b[39m     \u001b[33m\"\u001b[39m\u001b[33mcolumns\u001b[39m\u001b[33m\"\u001b[39m: \u001b[38;5;28mself\u001b[39m._format_columns,\n\u001b[32m    554\u001b[39m     \u001b[33m\"\u001b[39m\u001b[33moutput_all_columns\u001b[39m\u001b[33m\"\u001b[39m: \u001b[38;5;28mself\u001b[39m._output_all_columns,\n\u001b[32m    555\u001b[39m }\n\u001b[32m    556\u001b[39m \u001b[38;5;66;03m# apply actual function\u001b[39;00m\n\u001b[32m--> \u001b[39m\u001b[32m557\u001b[39m out: Union[\u001b[33m\"\u001b[39m\u001b[33mDataset\u001b[39m\u001b[33m\"\u001b[39m, \u001b[33m\"\u001b[39m\u001b[33mDatasetDict\u001b[39m\u001b[33m\"\u001b[39m] = \u001b[43mfunc\u001b[49m\u001b[43m(\u001b[49m\u001b[38;5;28;43mself\u001b[39;49m\u001b[43m,\u001b[49m\u001b[43m \u001b[49m\u001b[43m*\u001b[49m\u001b[43margs\u001b[49m\u001b[43m,\u001b[49m\u001b[43m \u001b[49m\u001b[43m*\u001b[49m\u001b[43m*\u001b[49m\u001b[43mkwargs\u001b[49m\u001b[43m)\u001b[49m\n\u001b[32m    558\u001b[39m datasets: \u001b[38;5;28mlist\u001b[39m[\u001b[33m\"\u001b[39m\u001b[33mDataset\u001b[39m\u001b[33m\"\u001b[39m] = \u001b[38;5;28mlist\u001b[39m(out.values()) \u001b[38;5;28;01mif\u001b[39;00m \u001b[38;5;28misinstance\u001b[39m(out, \u001b[38;5;28mdict\u001b[39m) \u001b[38;5;28;01melse\u001b[39;00m [out]\n\u001b[32m    559\u001b[39m \u001b[38;5;66;03m# re-apply format to the output\u001b[39;00m\n",
      "\u001b[36mFile \u001b[39m\u001b[32m~/.conda/envs/compbio/lib/python3.13/site-packages/datasets/fingerprint.py:442\u001b[39m, in \u001b[36mfingerprint_transform.<locals>._fingerprint.<locals>.wrapper\u001b[39m\u001b[34m(*args, **kwargs)\u001b[39m\n\u001b[32m    438\u001b[39m             validate_fingerprint(kwargs[fingerprint_name])\n\u001b[32m    440\u001b[39m \u001b[38;5;66;03m# Call actual function\u001b[39;00m\n\u001b[32m--> \u001b[39m\u001b[32m442\u001b[39m out = \u001b[43mfunc\u001b[49m\u001b[43m(\u001b[49m\u001b[43mdataset\u001b[49m\u001b[43m,\u001b[49m\u001b[43m \u001b[49m\u001b[43m*\u001b[49m\u001b[43margs\u001b[49m\u001b[43m,\u001b[49m\u001b[43m \u001b[49m\u001b[43m*\u001b[49m\u001b[43m*\u001b[49m\u001b[43mkwargs\u001b[49m\u001b[43m)\u001b[49m\n\u001b[32m    444\u001b[39m \u001b[38;5;66;03m# Update fingerprint of in-place transforms + update in-place history of transforms\u001b[39;00m\n\u001b[32m    446\u001b[39m \u001b[38;5;28;01mif\u001b[39;00m inplace:  \u001b[38;5;66;03m# update after calling func so that the fingerprint doesn't change if the function fails\u001b[39;00m\n",
      "\u001b[36mFile \u001b[39m\u001b[32m~/.conda/envs/compbio/lib/python3.13/site-packages/datasets/arrow_dataset.py:5789\u001b[39m, in \u001b[36mDataset.add_column\u001b[39m\u001b[34m(self, name, column, new_fingerprint, feature)\u001b[39m\n\u001b[32m   5786\u001b[39m \u001b[38;5;28;01melse\u001b[39;00m:\n\u001b[32m   5787\u001b[39m     pyarrow_schema = \u001b[38;5;28;01mNone\u001b[39;00m\n\u001b[32m-> \u001b[39m\u001b[32m5789\u001b[39m column_table = \u001b[43mInMemoryTable\u001b[49m\u001b[43m.\u001b[49m\u001b[43mfrom_pydict\u001b[49m\u001b[43m(\u001b[49m\u001b[43m{\u001b[49m\u001b[43mname\u001b[49m\u001b[43m:\u001b[49m\u001b[43m \u001b[49m\u001b[43mcolumn\u001b[49m\u001b[43m}\u001b[49m\u001b[43m,\u001b[49m\u001b[43m \u001b[49m\u001b[43mschema\u001b[49m\u001b[43m=\u001b[49m\u001b[43mpyarrow_schema\u001b[49m\u001b[43m)\u001b[49m\n\u001b[32m   5790\u001b[39m _check_column_names(\u001b[38;5;28mself\u001b[39m._data.column_names + column_table.column_names)\n\u001b[32m   5791\u001b[39m dataset = \u001b[38;5;28mself\u001b[39m.flatten_indices() \u001b[38;5;28;01mif\u001b[39;00m \u001b[38;5;28mself\u001b[39m._indices \u001b[38;5;129;01mis\u001b[39;00m \u001b[38;5;129;01mnot\u001b[39;00m \u001b[38;5;28;01mNone\u001b[39;00m \u001b[38;5;28;01melse\u001b[39;00m \u001b[38;5;28mself\u001b[39m\n",
      "\u001b[36mFile \u001b[39m\u001b[32m~/.conda/envs/compbio/lib/python3.13/site-packages/datasets/table.py:758\u001b[39m, in \u001b[36mInMemoryTable.from_pydict\u001b[39m\u001b[34m(cls, *args, **kwargs)\u001b[39m\n\u001b[32m    742\u001b[39m \u001b[38;5;129m@classmethod\u001b[39m\n\u001b[32m    743\u001b[39m \u001b[38;5;28;01mdef\u001b[39;00m\u001b[38;5;250m \u001b[39m\u001b[34mfrom_pydict\u001b[39m(\u001b[38;5;28mcls\u001b[39m, *args, **kwargs):\n\u001b[32m    744\u001b[39m \u001b[38;5;250m    \u001b[39m\u001b[33;03m\"\"\"\u001b[39;00m\n\u001b[32m    745\u001b[39m \u001b[33;03m    Construct a Table from Arrow arrays or columns.\u001b[39;00m\n\u001b[32m    746\u001b[39m \n\u001b[32m   (...)\u001b[39m\u001b[32m    756\u001b[39m \u001b[33;03m        `datasets.table.Table`\u001b[39;00m\n\u001b[32m    757\u001b[39m \u001b[33;03m    \"\"\"\u001b[39;00m\n\u001b[32m--> \u001b[39m\u001b[32m758\u001b[39m     \u001b[38;5;28;01mreturn\u001b[39;00m \u001b[38;5;28mcls\u001b[39m(\u001b[43mpa\u001b[49m\u001b[43m.\u001b[49m\u001b[43mTable\u001b[49m\u001b[43m.\u001b[49m\u001b[43mfrom_pydict\u001b[49m\u001b[43m(\u001b[49m\u001b[43m*\u001b[49m\u001b[43margs\u001b[49m\u001b[43m,\u001b[49m\u001b[43m \u001b[49m\u001b[43m*\u001b[49m\u001b[43m*\u001b[49m\u001b[43mkwargs\u001b[49m\u001b[43m)\u001b[49m)\n",
      "\u001b[36mFile \u001b[39m\u001b[32m~/.conda/envs/compbio/lib/python3.13/site-packages/pyarrow/table.pxi:1968\u001b[39m, in \u001b[36mpyarrow.lib._Tabular.from_pydict\u001b[39m\u001b[34m()\u001b[39m\n",
      "\u001b[36mFile \u001b[39m\u001b[32m~/.conda/envs/compbio/lib/python3.13/site-packages/pyarrow/table.pxi:6337\u001b[39m, in \u001b[36mpyarrow.lib._from_pydict\u001b[39m\u001b[34m()\u001b[39m\n",
      "\u001b[36mFile \u001b[39m\u001b[32m~/.conda/envs/compbio/lib/python3.13/site-packages/pyarrow/array.pxi:402\u001b[39m, in \u001b[36mpyarrow.lib.asarray\u001b[39m\u001b[34m()\u001b[39m\n",
      "\u001b[36mFile \u001b[39m\u001b[32m~/.conda/envs/compbio/lib/python3.13/site-packages/pyarrow/array.pxi:372\u001b[39m, in \u001b[36mpyarrow.lib.array\u001b[39m\u001b[34m()\u001b[39m\n",
      "\u001b[36mFile \u001b[39m\u001b[32m~/.conda/envs/compbio/lib/python3.13/site-packages/pyarrow/array.pxi:42\u001b[39m, in \u001b[36mpyarrow.lib._sequence_to_array\u001b[39m\u001b[34m()\u001b[39m\n",
      "\u001b[36mFile \u001b[39m\u001b[32m~/.conda/envs/compbio/lib/python3.13/site-packages/pyarrow/error.pxi:155\u001b[39m, in \u001b[36mpyarrow.lib.pyarrow_internal_check_status\u001b[39m\u001b[34m()\u001b[39m\n",
      "\u001b[36mFile \u001b[39m\u001b[32m~/.conda/envs/compbio/lib/python3.13/site-packages/pyarrow/error.pxi:92\u001b[39m, in \u001b[36mpyarrow.lib.check_status\u001b[39m\u001b[34m()\u001b[39m\n",
      "\u001b[31mArrowInvalid\u001b[39m: Could not convert tensor([ 0, 19,  7, 17,  9,  5, 10,  6, 17,  8,  8,  4, 17, 14, 23,  4,  9,  6,\n         8,  5,  8,  8,  6,  8,  9,  8,  8, 15, 13,  8,  8, 10, 23,  8, 11, 14,\n         6,  4, 13, 14,  9, 10, 21,  9, 10,  4, 10,  9, 15, 20, 10, 10, 10,  4,\n         9,  8,  6, 13, 15, 22, 18,  8,  4,  9, 18, 18, 14, 14, 10, 11,  5,  9,\n         6,  5,  7, 17,  4, 12,  8, 10, 18, 13, 10, 20,  5,  5,  6,  6, 14,  4,\n        19, 12, 13,  7, 11, 22, 21, 14,  5,  6, 13, 14,  6,  8, 13, 15,  9, 11,\n         8,  8, 20, 20, 12,  5,  8, 11,  5,  7, 17, 19, 23,  6,  4,  9, 11, 12,\n         4, 21, 20, 11, 23, 23, 10, 16, 10,  4,  9,  9, 12, 11,  6, 21,  4, 21,\n        15,  5, 15, 16,  4,  6,  4, 15, 17, 12, 20,  5,  4, 10,  6, 13, 14, 12,\n         6, 13, 16, 22,  9,  9,  9,  9,  6,  6, 18, 17, 19,  5,  7, 13,  4,  7,\n        15, 21, 12, 10,  8,  9, 18,  6, 13, 19, 18, 13, 12, 23,  7,  5,  6, 19,\n        14, 15,  6, 21, 14,  9,  5,  6,  8, 18,  9,  5, 13,  4, 15, 21,  4, 15,\n         9, 15,  7,  8,  5,  6,  5, 13, 18, 12, 12, 11, 16,  4, 18, 18,  9,  5,\n        13, 11, 18, 18, 10, 18,  7, 15,  5, 23, 11, 13, 20,  6, 12, 11, 23, 14,\n        12,  7, 14,  6, 12, 18, 14, 12, 16,  6, 19, 21,  8,  4, 10, 16,  4,  7,\n        15,  4,  8, 15,  4,  9,  7, 14, 16,  9, 12, 15, 13,  7, 12,  9, 14, 12,\n        15, 13, 17, 13,  5,  5, 12, 10, 17, 19,  6, 12,  9,  4,  5,  7,  8,  4,\n        23, 16,  9,  4,  4,  5,  8,  6,  4,  7, 14,  6,  4, 21, 18, 19, 11,  4,\n        17, 10,  9, 20,  5, 11, 11,  9,  7,  4, 15, 10,  4,  6, 20, 22, 11,  9,\n        13, 14, 10, 10, 14,  4, 14, 22,  5,  4,  8,  5, 21, 14, 15, 10, 10,  9,\n         9, 13,  7, 10, 14, 12, 18, 22,  5,  8, 10, 14, 15,  8, 19, 12, 19, 10,\n        11, 16,  9, 22, 13,  9, 18, 14, 17,  6, 10, 22,  6, 17,  8,  8,  8, 14,\n         5, 18,  6,  9,  4, 15, 13, 19, 19,  4, 18, 19,  4, 15,  8, 15,  8, 14,\n        15,  9,  9,  4,  4, 15, 20, 22,  6,  9,  9,  4, 11,  8,  9,  9,  8,  7,\n        18,  9,  7, 18,  7,  4, 19,  4,  8,  6,  9, 14, 17, 10, 17,  6, 21, 15,\n         7, 11, 23,  4, 14, 22, 17, 13,  9, 14,  4,  5,  5,  9, 11,  8,  4,  4,\n        15,  9,  9,  4,  4, 10,  7, 17, 10, 16,  6, 12,  4, 11, 12, 17,  8, 16,\n        14, 17, 12, 17,  6, 15, 14,  8,  8, 13, 14, 12,  7,  6, 22,  6, 14,  8,\n         6,  6, 19,  7, 18, 16, 15,  2]) with type Tensor: did not recognize Python value type when inferring an Arrow data type"
     ]
    }
   ],
   "source": [
    "from datasets import Dataset\n",
    "from transformers import AutoTokenizer\n",
    "\n",
    "# Assuming you have the DataFrame `train_data_df`\n",
    "# Tokenization\n",
    "tokenizer = AutoTokenizer.from_pretrained(\"facebook/esm2_t12_35M_UR50D\")\n",
    "\n",
    "# Max sequence length (for example, you can set it based on your sequences' length)\n",
    "max_sequence_length = 512  # Adjust this based on your data or preference\n",
    "\n",
    "# Tokenizing the sequences\n",
    "train_data_tokenized = tokenizer(\n",
    "    train_data_df[\"Sequence\"].to_list(),\n",
    "    max_length=max_sequence_length,\n",
    "    return_tensors=\"pt\",  # Returns PyTorch tensors\n",
    "    padding=True,         # Pads the sequences to max length\n",
    "    truncation=True       # Truncates if the length exceeds max_sequence_length\n",
    ")\n",
    "\n",
    "# Convert the DataFrame to a Hugging Face Dataset and add the 'labels' column\n",
    "train_data_hf = Dataset.from_pandas(train_data_df)\n",
    "\n",
    "# Add tokenized sequences to the dataset (the tokenized outputs)\n",
    "train_data_hf = train_data_hf.add_column(\"input_ids\", train_data_tokenized[\"input_ids\"])\n",
    "train_data_hf = train_data_hf.add_column(\"attention_mask\", train_data_tokenized[\"attention_mask\"])\n",
    "\n",
    "# Rename the column `DMS_score` to `labels`\n",
    "train_data_hf = train_data_hf.map(lambda x: {'labels': x['labels']})\n",
    "\n",
    "# Now you have the Hugging Face Dataset with the tokenized sequence and labels\n",
    "print(train_data_hf)\n"
   ]
  },
  {
   "cell_type": "code",
   "execution_count": 40,
   "metadata": {},
   "outputs": [
    {
     "data": {
      "text/plain": [
       "{'input_ids': tensor([[ 0, 19,  7,  ..., 11,  9,  2],\n",
       "        [ 0, 22,  7,  ..., 11,  9,  2],\n",
       "        [ 0,  7,  7,  ..., 11,  9,  2],\n",
       "        ...,\n",
       "        [ 0, 20,  7,  ..., 11,  9,  2],\n",
       "        [ 0, 20,  7,  ..., 11,  9,  2],\n",
       "        [ 0, 20,  7,  ..., 11,  9,  2]]), 'attention_mask': tensor([[1, 1, 1,  ..., 1, 1, 1],\n",
       "        [1, 1, 1,  ..., 1, 1, 1],\n",
       "        [1, 1, 1,  ..., 1, 1, 1],\n",
       "        ...,\n",
       "        [1, 1, 1,  ..., 1, 1, 1],\n",
       "        [1, 1, 1,  ..., 1, 1, 1],\n",
       "        [1, 1, 1,  ..., 1, 1, 1]])}"
      ]
     },
     "execution_count": 40,
     "metadata": {},
     "output_type": "execute_result"
    }
   ],
   "source": [
    "train_data_tokenized"
   ]
  },
  {
   "cell_type": "code",
   "execution_count": 41,
   "metadata": {},
   "outputs": [
    {
     "ename": "ValueError",
     "evalue": "Expected a 1D array, got an array with shape (1140, 656)",
     "output_type": "error",
     "traceback": [
      "\u001b[31m---------------------------------------------------------------------------\u001b[39m",
      "\u001b[31mKeyError\u001b[39m                                  Traceback (most recent call last)",
      "\u001b[36mFile \u001b[39m\u001b[32m~/.conda/envs/compbio/lib/python3.13/site-packages/pandas/core/indexes/base.py:3805\u001b[39m, in \u001b[36mIndex.get_loc\u001b[39m\u001b[34m(self, key)\u001b[39m\n\u001b[32m   3804\u001b[39m \u001b[38;5;28;01mtry\u001b[39;00m:\n\u001b[32m-> \u001b[39m\u001b[32m3805\u001b[39m     \u001b[38;5;28;01mreturn\u001b[39;00m \u001b[38;5;28;43mself\u001b[39;49m\u001b[43m.\u001b[49m\u001b[43m_engine\u001b[49m\u001b[43m.\u001b[49m\u001b[43mget_loc\u001b[49m\u001b[43m(\u001b[49m\u001b[43mcasted_key\u001b[49m\u001b[43m)\u001b[49m\n\u001b[32m   3806\u001b[39m \u001b[38;5;28;01mexcept\u001b[39;00m \u001b[38;5;167;01mKeyError\u001b[39;00m \u001b[38;5;28;01mas\u001b[39;00m err:\n",
      "\u001b[36mFile \u001b[39m\u001b[32mindex.pyx:167\u001b[39m, in \u001b[36mpandas._libs.index.IndexEngine.get_loc\u001b[39m\u001b[34m()\u001b[39m\n",
      "\u001b[36mFile \u001b[39m\u001b[32mindex.pyx:196\u001b[39m, in \u001b[36mpandas._libs.index.IndexEngine.get_loc\u001b[39m\u001b[34m()\u001b[39m\n",
      "\u001b[36mFile \u001b[39m\u001b[32mpandas/_libs/hashtable_class_helper.pxi:7081\u001b[39m, in \u001b[36mpandas._libs.hashtable.PyObjectHashTable.get_item\u001b[39m\u001b[34m()\u001b[39m\n",
      "\u001b[36mFile \u001b[39m\u001b[32mpandas/_libs/hashtable_class_helper.pxi:7089\u001b[39m, in \u001b[36mpandas._libs.hashtable.PyObjectHashTable.get_item\u001b[39m\u001b[34m()\u001b[39m\n",
      "\u001b[31mKeyError\u001b[39m: 'input_ids'",
      "\nThe above exception was the direct cause of the following exception:\n",
      "\u001b[31mKeyError\u001b[39m                                  Traceback (most recent call last)",
      "\u001b[36mFile \u001b[39m\u001b[32m~/.conda/envs/compbio/lib/python3.13/site-packages/pandas/core/frame.py:4485\u001b[39m, in \u001b[36mDataFrame._set_item_mgr\u001b[39m\u001b[34m(self, key, value, refs)\u001b[39m\n\u001b[32m   4484\u001b[39m \u001b[38;5;28;01mtry\u001b[39;00m:\n\u001b[32m-> \u001b[39m\u001b[32m4485\u001b[39m     loc = \u001b[38;5;28;43mself\u001b[39;49m\u001b[43m.\u001b[49m\u001b[43m_info_axis\u001b[49m\u001b[43m.\u001b[49m\u001b[43mget_loc\u001b[49m\u001b[43m(\u001b[49m\u001b[43mkey\u001b[49m\u001b[43m)\u001b[49m\n\u001b[32m   4486\u001b[39m \u001b[38;5;28;01mexcept\u001b[39;00m \u001b[38;5;167;01mKeyError\u001b[39;00m:\n\u001b[32m   4487\u001b[39m     \u001b[38;5;66;03m# This item wasn't present, just insert at end\u001b[39;00m\n",
      "\u001b[36mFile \u001b[39m\u001b[32m~/.conda/envs/compbio/lib/python3.13/site-packages/pandas/core/indexes/base.py:3812\u001b[39m, in \u001b[36mIndex.get_loc\u001b[39m\u001b[34m(self, key)\u001b[39m\n\u001b[32m   3811\u001b[39m         \u001b[38;5;28;01mraise\u001b[39;00m InvalidIndexError(key)\n\u001b[32m-> \u001b[39m\u001b[32m3812\u001b[39m     \u001b[38;5;28;01mraise\u001b[39;00m \u001b[38;5;167;01mKeyError\u001b[39;00m(key) \u001b[38;5;28;01mfrom\u001b[39;00m\u001b[38;5;250m \u001b[39m\u001b[34;01merr\u001b[39;00m\n\u001b[32m   3813\u001b[39m \u001b[38;5;28;01mexcept\u001b[39;00m \u001b[38;5;167;01mTypeError\u001b[39;00m:\n\u001b[32m   3814\u001b[39m     \u001b[38;5;66;03m# If we have a listlike key, _check_indexing_error will raise\u001b[39;00m\n\u001b[32m   3815\u001b[39m     \u001b[38;5;66;03m#  InvalidIndexError. Otherwise we fall through and re-raise\u001b[39;00m\n\u001b[32m   3816\u001b[39m     \u001b[38;5;66;03m#  the TypeError.\u001b[39;00m\n",
      "\u001b[31mKeyError\u001b[39m: 'input_ids'",
      "\nDuring handling of the above exception, another exception occurred:\n",
      "\u001b[31mValueError\u001b[39m                                Traceback (most recent call last)",
      "\u001b[36mCell\u001b[39m\u001b[36m \u001b[39m\u001b[32mIn[41]\u001b[39m\u001b[32m, line 2\u001b[39m\n\u001b[32m      1\u001b[39m \u001b[38;5;28;01mfor\u001b[39;00m col \u001b[38;5;129;01min\u001b[39;00m train_data_tokenized.keys():\n\u001b[32m----> \u001b[39m\u001b[32m2\u001b[39m     \u001b[43mtrain_data_df\u001b[49m\u001b[43m[\u001b[49m\u001b[43mcol\u001b[49m\u001b[43m]\u001b[49m = train_data_tokenized[col]\n\u001b[32m      4\u001b[39m train_data_df\n",
      "\u001b[36mFile \u001b[39m\u001b[32m~/.conda/envs/compbio/lib/python3.13/site-packages/pandas/core/frame.py:4311\u001b[39m, in \u001b[36mDataFrame.__setitem__\u001b[39m\u001b[34m(self, key, value)\u001b[39m\n\u001b[32m   4308\u001b[39m     \u001b[38;5;28mself\u001b[39m._setitem_array([key], value)\n\u001b[32m   4309\u001b[39m \u001b[38;5;28;01melse\u001b[39;00m:\n\u001b[32m   4310\u001b[39m     \u001b[38;5;66;03m# set column\u001b[39;00m\n\u001b[32m-> \u001b[39m\u001b[32m4311\u001b[39m     \u001b[38;5;28;43mself\u001b[39;49m\u001b[43m.\u001b[49m\u001b[43m_set_item\u001b[49m\u001b[43m(\u001b[49m\u001b[43mkey\u001b[49m\u001b[43m,\u001b[49m\u001b[43m \u001b[49m\u001b[43mvalue\u001b[49m\u001b[43m)\u001b[49m\n",
      "\u001b[36mFile \u001b[39m\u001b[32m~/.conda/envs/compbio/lib/python3.13/site-packages/pandas/core/frame.py:4538\u001b[39m, in \u001b[36mDataFrame._set_item\u001b[39m\u001b[34m(self, key, value)\u001b[39m\n\u001b[32m   4535\u001b[39m             value = np.tile(value, (\u001b[38;5;28mlen\u001b[39m(existing_piece.columns), \u001b[32m1\u001b[39m)).T\n\u001b[32m   4536\u001b[39m             refs = \u001b[38;5;28;01mNone\u001b[39;00m\n\u001b[32m-> \u001b[39m\u001b[32m4538\u001b[39m \u001b[38;5;28;43mself\u001b[39;49m\u001b[43m.\u001b[49m\u001b[43m_set_item_mgr\u001b[49m\u001b[43m(\u001b[49m\u001b[43mkey\u001b[49m\u001b[43m,\u001b[49m\u001b[43m \u001b[49m\u001b[43mvalue\u001b[49m\u001b[43m,\u001b[49m\u001b[43m \u001b[49m\u001b[43mrefs\u001b[49m\u001b[43m)\u001b[49m\n",
      "\u001b[36mFile \u001b[39m\u001b[32m~/.conda/envs/compbio/lib/python3.13/site-packages/pandas/core/frame.py:4488\u001b[39m, in \u001b[36mDataFrame._set_item_mgr\u001b[39m\u001b[34m(self, key, value, refs)\u001b[39m\n\u001b[32m   4485\u001b[39m     loc = \u001b[38;5;28mself\u001b[39m._info_axis.get_loc(key)\n\u001b[32m   4486\u001b[39m \u001b[38;5;28;01mexcept\u001b[39;00m \u001b[38;5;167;01mKeyError\u001b[39;00m:\n\u001b[32m   4487\u001b[39m     \u001b[38;5;66;03m# This item wasn't present, just insert at end\u001b[39;00m\n\u001b[32m-> \u001b[39m\u001b[32m4488\u001b[39m     \u001b[38;5;28;43mself\u001b[39;49m\u001b[43m.\u001b[49m\u001b[43m_mgr\u001b[49m\u001b[43m.\u001b[49m\u001b[43minsert\u001b[49m\u001b[43m(\u001b[49m\u001b[38;5;28;43mlen\u001b[39;49m\u001b[43m(\u001b[49m\u001b[38;5;28;43mself\u001b[39;49m\u001b[43m.\u001b[49m\u001b[43m_info_axis\u001b[49m\u001b[43m)\u001b[49m\u001b[43m,\u001b[49m\u001b[43m \u001b[49m\u001b[43mkey\u001b[49m\u001b[43m,\u001b[49m\u001b[43m \u001b[49m\u001b[43mvalue\u001b[49m\u001b[43m,\u001b[49m\u001b[43m \u001b[49m\u001b[43mrefs\u001b[49m\u001b[43m)\u001b[49m\n\u001b[32m   4489\u001b[39m \u001b[38;5;28;01melse\u001b[39;00m:\n\u001b[32m   4490\u001b[39m     \u001b[38;5;28mself\u001b[39m._iset_item_mgr(loc, value, refs=refs)\n",
      "\u001b[36mFile \u001b[39m\u001b[32m~/.conda/envs/compbio/lib/python3.13/site-packages/pandas/core/internals/managers.py:1370\u001b[39m, in \u001b[36mBlockManager.insert\u001b[39m\u001b[34m(self, loc, item, value, refs)\u001b[39m\n\u001b[32m   1368\u001b[39m     value = value.T\n\u001b[32m   1369\u001b[39m     \u001b[38;5;28;01mif\u001b[39;00m \u001b[38;5;28mlen\u001b[39m(value) > \u001b[32m1\u001b[39m:\n\u001b[32m-> \u001b[39m\u001b[32m1370\u001b[39m         \u001b[38;5;28;01mraise\u001b[39;00m \u001b[38;5;167;01mValueError\u001b[39;00m(\n\u001b[32m   1371\u001b[39m             \u001b[33mf\u001b[39m\u001b[33m\"\u001b[39m\u001b[33mExpected a 1D array, got an array with shape \u001b[39m\u001b[38;5;132;01m{\u001b[39;00mvalue.T.shape\u001b[38;5;132;01m}\u001b[39;00m\u001b[33m\"\u001b[39m\n\u001b[32m   1372\u001b[39m         )\n\u001b[32m   1373\u001b[39m \u001b[38;5;28;01melse\u001b[39;00m:\n\u001b[32m   1374\u001b[39m     value = ensure_block_shape(value, ndim=\u001b[38;5;28mself\u001b[39m.ndim)\n",
      "\u001b[31mValueError\u001b[39m: Expected a 1D array, got an array with shape (1140, 656)"
     ]
    }
   ],
   "source": [
    "for col in train_data_tokenized.keys():\n",
    "    train_data_df[col] = train_data_tokenized[col]\n",
    "\n",
    "train_data_df"
   ]
  },
  {
   "cell_type": "code",
   "execution_count": null,
   "metadata": {},
   "outputs": [],
   "source": [
    "train_data = train_data.train_test_split(test_size=0.2)\n",
    "train_ds = train_data[\"train\"]\n",
    "eval_ds = train_data[\"test\"]\n",
    "print(len(train_ds), len(eval_ds))"
   ]
  },
  {
   "cell_type": "markdown",
   "metadata": {},
   "source": [
    "# Eval"
   ]
  }
 ],
 "metadata": {
  "kernelspec": {
   "display_name": "compbio",
   "language": "python",
   "name": "python3"
  },
  "language_info": {
   "codemirror_mode": {
    "name": "ipython",
    "version": 3
   },
   "file_extension": ".py",
   "mimetype": "text/x-python",
   "name": "python",
   "nbconvert_exporter": "python",
   "pygments_lexer": "ipython3",
   "version": "3.13.2"
  },
  "orig_nbformat": 4
 },
 "nbformat": 4,
 "nbformat_minor": 2
}
