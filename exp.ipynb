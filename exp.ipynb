{
 "cells": [
  {
   "attachments": {},
   "cell_type": "markdown",
   "metadata": {},
   "source": [
    "# Preprocess"
   ]
  },
  {
   "cell_type": "code",
   "execution_count": 1,
   "metadata": {},
   "outputs": [],
   "source": [
    "import pandas as pd"
   ]
  },
  {
   "cell_type": "code",
   "execution_count": 2,
   "metadata": {},
   "outputs": [
    {
     "data": {
      "text/html": [
       "<div>\n",
       "<style scoped>\n",
       "    .dataframe tbody tr th:only-of-type {\n",
       "        vertical-align: middle;\n",
       "    }\n",
       "\n",
       "    .dataframe tbody tr th {\n",
       "        vertical-align: top;\n",
       "    }\n",
       "\n",
       "    .dataframe thead th {\n",
       "        text-align: right;\n",
       "    }\n",
       "</style>\n",
       "<table border=\"1\" class=\"dataframe\">\n",
       "  <thead>\n",
       "    <tr style=\"text-align: right;\">\n",
       "      <th></th>\n",
       "      <th>mutant</th>\n",
       "      <th>DMS_score</th>\n",
       "    </tr>\n",
       "  </thead>\n",
       "  <tbody>\n",
       "    <tr>\n",
       "      <th>0</th>\n",
       "      <td>M0Y</td>\n",
       "      <td>0.2730</td>\n",
       "    </tr>\n",
       "    <tr>\n",
       "      <th>1</th>\n",
       "      <td>M0W</td>\n",
       "      <td>0.2857</td>\n",
       "    </tr>\n",
       "    <tr>\n",
       "      <th>2</th>\n",
       "      <td>M0V</td>\n",
       "      <td>0.2153</td>\n",
       "    </tr>\n",
       "    <tr>\n",
       "      <th>3</th>\n",
       "      <td>M0T</td>\n",
       "      <td>0.3122</td>\n",
       "    </tr>\n",
       "    <tr>\n",
       "      <th>4</th>\n",
       "      <td>M0S</td>\n",
       "      <td>0.2180</td>\n",
       "    </tr>\n",
       "  </tbody>\n",
       "</table>\n",
       "</div>"
      ],
      "text/plain": [
       "  mutant  DMS_score\n",
       "0    M0Y     0.2730\n",
       "1    M0W     0.2857\n",
       "2    M0V     0.2153\n",
       "3    M0T     0.3122\n",
       "4    M0S     0.2180"
      ]
     },
     "execution_count": 2,
     "metadata": {},
     "output_type": "execute_result"
    }
   ],
   "source": [
    "df = pd.read_csv('train.csv')\n",
    "df.head()"
   ]
  },
  {
   "cell_type": "code",
   "execution_count": 3,
   "metadata": {},
   "outputs": [],
   "source": [
    "seq = open('sequence.fasta', 'r').read()\n",
    "seq = seq.split(\"\\n\")[1]"
   ]
  },
  {
   "cell_type": "code",
   "execution_count": 36,
   "metadata": {},
   "outputs": [],
   "source": [
    "sequences = []\n",
    "for i in df['mutant']:\n",
    "    ind = int(i[1:-1])\n",
    "    tmp = seq[:ind] + i[-1] + seq[ind+1:]\n",
    "    sequences.append(tmp)"
   ]
  },
  {
   "cell_type": "code",
   "execution_count": 37,
   "metadata": {},
   "outputs": [],
   "source": [
    "df['Sequence'] = sequences"
   ]
  },
  {
   "cell_type": "code",
   "execution_count": 38,
   "metadata": {},
   "outputs": [
    {
     "name": "stdout",
     "output_type": "stream",
     "text": [
      "Using device: cuda\n",
      "Epoch 10/100, Loss: 0.0505\n",
      "Epoch 20/100, Loss: 0.0431\n",
      "Epoch 30/100, Loss: 0.0419\n",
      "Epoch 40/100, Loss: 0.0414\n",
      "Epoch 50/100, Loss: 0.0412\n",
      "Epoch 60/100, Loss: 0.0412\n",
      "Epoch 70/100, Loss: 0.0412\n",
      "Epoch 80/100, Loss: 0.0412\n",
      "Epoch 90/100, Loss: 0.0412\n",
      "Epoch 100/100, Loss: 0.0412\n",
      "Test MSE: 0.0497\n"
     ]
    }
   ],
   "source": [
    "import torch\n",
    "import esm\n",
    "import numpy as np\n",
    "import pandas as pd\n",
    "from sklearn.model_selection import train_test_split\n",
    "import torch.nn as nn\n",
    "import torch.optim as optim\n",
    "\n",
    "# Check for GPU\n",
    "device = torch.device(\"cuda\" if torch.cuda.is_available() else \"cpu\")\n",
    "print(f\"Using device: {device}\")\n",
    "\n",
    "# Load pre-trained ESM model and move it to GPU\n",
    "esm_model, alphabet = esm.pretrained.esm2_t33_650M_UR50D()  # Example: ESM-2 model\n",
    "batch_converter = alphabet.get_batch_converter()\n",
    "esm_model = esm_model.to(device)\n",
    "esm_model.eval()  # Set to eval mode\n",
    "\n",
    "# Extract ESM embeddings using GPU\n",
    "def extract_esm_embedding(sequence):\n",
    "    batch_labels, batch_strs, batch_tokens = batch_converter([(None, sequence)])\n",
    "    batch_tokens = batch_tokens.to(device)  # Move input to GPU\n",
    "\n",
    "    with torch.no_grad():\n",
    "        results = esm_model(batch_tokens, repr_layers=[33], return_contacts=False)\n",
    "    \n",
    "    token_representations = results[\"representations\"][33]  # Use final layer\n",
    "    sequence_embedding = token_representations.mean(dim=1).squeeze().cpu().numpy()  # Move back to CPU for NumPy\n",
    "    return sequence_embedding\n",
    "\n",
    "# Apply embedding extraction\n",
    "df[\"Embedding\"] = df[\"Sequence\"].apply(lambda seq: extract_esm_embedding(seq))\n",
    "\n",
    "# Convert embeddings into feature matrix\n",
    "X = np.vstack(df[\"Embedding\"].values)\n",
    "y = df[\"DMS_score\"].values\n",
    "\n",
    "# Convert to PyTorch tensors and move to GPU\n",
    "X_tensor = torch.tensor(X, dtype=torch.float32, device=device)\n",
    "y_tensor = torch.tensor(y, dtype=torch.float32, device=device).view(-1, 1)  # Reshape for MLP\n",
    "\n",
    "# Train/test split\n",
    "X_train, X_test, y_train, y_test = train_test_split(X_tensor, y_tensor, test_size=0.2, random_state=42)\n",
    "\n",
    "# Define a simple MLP regression model using GPU\n",
    "class MLPRegressor(nn.Module):\n",
    "    def __init__(self, input_dim):\n",
    "        super(MLPRegressor, self).__init__()\n",
    "        self.model = nn.Sequential(\n",
    "            nn.Linear(input_dim, 128),\n",
    "            nn.ReLU(),\n",
    "            nn.Linear(128, 128),\n",
    "            nn.ReLU(),\n",
    "            nn.Linear(128, 64),\n",
    "            nn.ReLU(),\n",
    "            nn.Linear(64, 1)  # Single output value\n",
    "        )\n",
    "\n",
    "    def forward(self, x):\n",
    "        return self.model(x)\n",
    "\n",
    "# Initialize model, loss function, and optimizer\n",
    "model = MLPRegressor(input_dim=X.shape[1]).to(device)\n",
    "criterion = nn.MSELoss()\n",
    "optimizer = optim.Adam(model.parameters(), lr=0.001)\n",
    "\n",
    "# Training loop\n",
    "epochs = 100\n",
    "for epoch in range(epochs):\n",
    "    model.train()\n",
    "    optimizer.zero_grad()\n",
    "    predictions = model(X_train)\n",
    "    loss = criterion(predictions, y_train)\n",
    "    loss.backward()\n",
    "    optimizer.step()\n",
    "\n",
    "    if (epoch + 1) % 10 == 0:\n",
    "        print(f\"Epoch {epoch+1}/{epochs}, Loss: {loss.item():.4f}\")\n",
    "\n",
    "# Evaluate on test set\n",
    "model.eval()\n",
    "with torch.no_grad():\n",
    "    test_predictions = model(X_test)\n",
    "    test_loss = criterion(test_predictions, y_test)\n",
    "print(f\"Test MSE: {test_loss.item():.4f}\")\n"
   ]
  },
  {
   "cell_type": "code",
   "execution_count": 40,
   "metadata": {},
   "outputs": [],
   "source": [
    "df.to_parquet(\"protein_embeddings.parquet\", engine=\"pyarrow\")"
   ]
  },
  {
   "attachments": {},
   "cell_type": "markdown",
   "metadata": {},
   "source": [
    "# Models"
   ]
  },
  {
   "cell_type": "code",
   "execution_count": 4,
   "metadata": {},
   "outputs": [],
   "source": [
    "df = pd.read_parquet('protein_embeddings.parquet')"
   ]
  },
  {
   "cell_type": "code",
   "execution_count": 68,
   "metadata": {},
   "outputs": [
    {
     "name": "stdout",
     "output_type": "stream",
     "text": [
      "Spearman Correlation: 0.1860\n"
     ]
    }
   ],
   "source": [
    "from scipy.stats import spearmanr\n",
    "\n",
    "# Convert tensors to NumPy for correlation calculation\n",
    "y_test_np = y_test.cpu().numpy().flatten()\n",
    "test_predictions_np = test_predictions.cpu().numpy().flatten()\n",
    "\n",
    "# Compute Spearman correlation\n",
    "spearman_corr, _ = spearmanr(y_test_np, test_predictions_np)\n",
    "print(f\"Spearman Correlation: {spearman_corr:.4f}\")"
   ]
  },
  {
   "cell_type": "code",
   "execution_count": 5,
   "metadata": {},
   "outputs": [],
   "source": [
    "import torch\n",
    "import numpy as np\n",
    "import pandas as pd\n",
    "from sklearn.model_selection import train_test_split\n",
    "import torch.nn as nn\n",
    "import torch.optim as optim\n",
    "\n",
    "# Check for GPU\n",
    "device = torch.device(\"cuda\" if torch.cuda.is_available() else \"cpu\")\n",
    "\n",
    "X = np.vstack(df[\"Embedding\"].values)\n",
    "y = df[\"DMS_score\"].values\n",
    "\n",
    "# Convert to PyTorch tensors and move to GPU\n",
    "X_tensor = torch.tensor(X, dtype=torch.float32, device=device)\n",
    "y_tensor = torch.tensor(y, dtype=torch.float32, device=device).view(-1, 1)  # Reshape for MLP\n",
    "\n",
    "# Train/test split\n",
    "X_train, X_test, y_train, y_test = train_test_split(X_tensor, y_tensor, test_size=0.2, random_state=42)\n"
   ]
  },
  {
   "cell_type": "code",
   "execution_count": 67,
   "metadata": {},
   "outputs": [
    {
     "name": "stdout",
     "output_type": "stream",
     "text": [
      "Epoch 10/100, Loss: 0.0413\n",
      "Epoch 20/100, Loss: 0.0412\n",
      "Epoch 30/100, Loss: 0.0412\n",
      "Epoch 40/100, Loss: 0.0412\n",
      "Epoch 50/100, Loss: 0.0412\n",
      "Epoch 60/100, Loss: 0.0412\n",
      "Epoch 70/100, Loss: 0.0412\n",
      "Epoch 80/100, Loss: 0.0412\n",
      "Epoch 90/100, Loss: 0.0412\n",
      "Epoch 100/100, Loss: 0.0412\n",
      "Test MSE: 0.0497\n"
     ]
    }
   ],
   "source": [
    "\n",
    "# Define a simple MLP regression model using GPU\n",
    "class MLPRegressor(nn.Module):\n",
    "    def __init__(self, input_dim):\n",
    "        super(MLPRegressor, self).__init__()\n",
    "        self.model = nn.Sequential(\n",
    "            nn.Linear(input_dim, 512),\n",
    "            nn.ReLU(),\n",
    "            nn.Linear(512, 512),\n",
    "            nn.ReLU(),\n",
    "            nn.Linear(512, 256),\n",
    "            nn.ReLU(),\n",
    "            nn.Linear(256, 64),\n",
    "            nn.ReLU(),\n",
    "            nn.Linear(64, 1)  # Single output value\n",
    "        )\n",
    "\n",
    "    def forward(self, x):\n",
    "        return self.model(x)\n",
    "\n",
    "# Initialize model, loss function, and optimizer\n",
    "model = MLPRegressor(input_dim=X.shape[1]).to(device)\n",
    "criterion = nn.MSELoss()\n",
    "optimizer = optim.Adam(model.parameters(), lr=0.001)\n",
    "\n",
    "# Training loop\n",
    "epochs = 100\n",
    "for epoch in range(epochs):\n",
    "    model.train()\n",
    "    optimizer.zero_grad()\n",
    "    predictions = model(X_train)\n",
    "    loss = criterion(predictions, y_train)\n",
    "    loss.backward()\n",
    "    optimizer.step()\n",
    "\n",
    "    if (epoch + 1) % 10 == 0:\n",
    "        print(f\"Epoch {epoch+1}/{epochs}, Loss: {loss.item():.4f}\")\n",
    "\n",
    "# Evaluate on test set\n",
    "model.eval()\n",
    "with torch.no_grad():\n",
    "    test_predictions = model(X_test)\n",
    "    test_loss = criterion(test_predictions, y_test)\n",
    "print(f\"Test MSE: {test_loss.item():.4f}\")\n"
   ]
  },
  {
   "cell_type": "code",
   "execution_count": 5,
   "metadata": {},
   "outputs": [
    {
     "name": "stdout",
     "output_type": "stream",
     "text": [
      "XGBoost Spearman Correlation: 0.4483\n"
     ]
    }
   ],
   "source": [
    "import xgboost as xgb\n",
    "from scipy.stats import spearmanr\n",
    "\n",
    "# Convert to DMatrix (XGBoost's optimized data structure)\n",
    "dtrain = xgb.DMatrix(X_train.cpu().numpy(), label=y_train.cpu().numpy().flatten())\n",
    "dtest = xgb.DMatrix(X_test.cpu().numpy(), label=y_test.cpu().numpy().flatten())\n",
    "\n",
    "# Train XGBoost Model\n",
    "params = {\"objective\": \"reg:squarederror\", \"eval_metric\": \"rmse\"}\n",
    "xgb_model = xgb.train(params, dtrain, num_boost_round=100)\n",
    "\n",
    "# Predict\n",
    "y_pred_xgb = xgb_model.predict(dtest)\n",
    "\n",
    "# Compute Spearman correlation\n",
    "spearman_corr_xgb, _ = spearmanr(y_test.cpu().numpy().flatten(), y_pred_xgb)\n",
    "print(f\"XGBoost Spearman Correlation: {spearman_corr_xgb:.4f}\")\n"
   ]
  },
  {
   "cell_type": "code",
   "execution_count": 7,
   "metadata": {},
   "outputs": [
    {
     "name": "stdout",
     "output_type": "stream",
     "text": [
      "[LightGBM] [Info] Auto-choosing col-wise multi-threading, the overhead of testing was 0.091344 seconds.\n",
      "You can set `force_col_wise=true` to remove the overhead.\n",
      "[LightGBM] [Info] Total Bins 326399\n",
      "[LightGBM] [Info] Number of data points in the train set: 912, number of used features: 1280\n",
      "[LightGBM] [Info] Start training from score 0.220504\n",
      "LightGBM Spearman Correlation: 0.4641\n"
     ]
    }
   ],
   "source": [
    "import lightgbm as lgb\n",
    "\n",
    "# Train LightGBM Model\n",
    "lgb_train = lgb.Dataset(X_train.cpu().numpy(), label=y_train.cpu().numpy().flatten())\n",
    "lgb_test = lgb.Dataset(X_test.cpu().numpy(), label=y_test.cpu().numpy().flatten(), reference=lgb_train)\n",
    "\n",
    "params = {\"objective\": \"regression\", \"metric\": \"rmse\"}\n",
    "lgb_model = lgb.train(params, lgb_train, num_boost_round=100)\n",
    "\n",
    "# Predict\n",
    "y_pred_lgb = lgb_model.predict(X_test.cpu().numpy())\n",
    "\n",
    "# Compute Spearman correlation\n",
    "spearman_corr_lgb, _ = spearmanr(y_test.cpu().numpy().flatten(), y_pred_lgb)\n",
    "print(f\"LightGBM Spearman Correlation: {spearman_corr_lgb:.4f}\")\n"
   ]
  },
  {
   "cell_type": "code",
   "execution_count": 6,
   "metadata": {},
   "outputs": [
    {
     "name": "stderr",
     "output_type": "stream",
     "text": [
      "Training Bootstrapped LightGBM Models: 100%|██████████| 100/100 [00:38<00:00,  2.63it/s]"
     ]
    },
    {
     "name": "stdout",
     "output_type": "stream",
     "text": [
      "Bootstrapped LightGBM Ensemble Spearman Correlation: 0.4910\n"
     ]
    },
    {
     "name": "stderr",
     "output_type": "stream",
     "text": [
      "\n"
     ]
    }
   ],
   "source": [
    "import lightgbm as lgb\n",
    "import numpy as np\n",
    "from scipy.stats import spearmanr\n",
    "from tqdm import tqdm\n",
    "from sklearn.utils import resample\n",
    "\n",
    "# Define hyperparameters for LightGBM\n",
    "lgb_params = {\"objective\": \"regression\", \"metric\": \"rmse\",'learning_rate': 0.04931791757724383, 'num_leaves': 85, 'min_child_samples': 48, 'max_depth': 7, 'subsample': 0.5749253739933733, 'colsample_bytree': 0.8371746709650121,'verbosity':-1}\n",
    "\n",
    "# Number of bootstrapped models\n",
    "num_bootstraps = 100\n",
    "lgb_boot_models = []\n",
    "lgb_predictions = []\n",
    "\n",
    "progress = tqdm(total=num_bootstraps, desc=\"Training Bootstrapped LightGBM Models\")\n",
    "\n",
    "for i in range(num_bootstraps):\n",
    "    # Bootstrap resampling\n",
    "    X_resampled, y_resampled = resample(X_train.cpu().numpy(), y_train.cpu().numpy().flatten(), random_state=i)\n",
    "    \n",
    "    # Train LightGBM model on resampled data\n",
    "    lgb_train = lgb.Dataset(X_resampled, label=y_resampled)\n",
    "    lgb_model = lgb.train(lgb_params, lgb_train, num_boost_round=100)\n",
    "    \n",
    "    # Store trained model\n",
    "    lgb_boot_models.append(lgb_model)\n",
    "\n",
    "    # Predict on test set\n",
    "    y_pred_lgb = lgb_model.predict(X_test.cpu().numpy())\n",
    "    lgb_predictions.append(y_pred_lgb)\n",
    "\n",
    "    progress.update(1)\n",
    "\n",
    "progress.close()\n",
    "\n",
    "# Average predictions from bootstrapped models\n",
    "y_pred_ensemble = np.mean(np.column_stack(lgb_predictions), axis=1)\n",
    "\n",
    "# Compute Spearman correlation\n",
    "spearman_corr_ensemble, _ = spearmanr(y_test.cpu().numpy().flatten(), y_pred_ensemble)\n",
    "print(f\"Bootstrapped LightGBM Ensemble Spearman Correlation: {spearman_corr_ensemble:.4f}\")\n"
   ]
  },
  {
   "cell_type": "code",
   "execution_count": 8,
   "metadata": {},
   "outputs": [
    {
     "name": "stdout",
     "output_type": "stream",
     "text": [
      "Stacked LightGBM Model Spearman Correlation: 0.6692\n"
     ]
    }
   ],
   "source": [
    "from sklearn.linear_model import Ridge\n",
    "\n",
    "X_meta_train = np.column_stack(lgb_predictions)\n",
    "y_train_np = y_test.cpu().numpy().flatten()\n",
    "\n",
    "# Train a Ridge Regression as the meta-model\n",
    "meta_model = Ridge(alpha=1.0)\n",
    "meta_model.fit(X_meta_train, y_train_np)\n",
    "\n",
    "# Predict with stacked model\n",
    "y_pred_stacked = meta_model.predict(X_meta_train)\n",
    "\n",
    "# Compute Spearman correlation\n",
    "spearman_corr_stacked, _ = spearmanr(y_train_np, y_pred_stacked)\n",
    "print(f\"Stacked LightGBM Model Spearman Correlation: {spearman_corr_stacked:.4f}\")\n"
   ]
  },
  {
   "cell_type": "code",
   "execution_count": 13,
   "metadata": {},
   "outputs": [
    {
     "name": "stderr",
     "output_type": "stream",
     "text": [
      "Training Multiple LightGBM Models: 100%|██████████| 10/10 [00:03<00:00,  2.53it/s]"
     ]
    },
    {
     "name": "stdout",
     "output_type": "stream",
     "text": [
      "Stacked LightGBM Model Spearman Correlation: 0.5186\n"
     ]
    },
    {
     "name": "stderr",
     "output_type": "stream",
     "text": [
      "\n"
     ]
    }
   ],
   "source": [
    "import lightgbm as lgb\n",
    "import numpy as np\n",
    "from scipy.stats import spearmanr\n",
    "from tqdm import tqdm\n",
    "\n",
    "# Define multiple hyperparameter sets for LightGBM\n",
    "lgb_params_list = [\n",
    "    {\"objective\": \"regression\", \"metric\": \"rmse\", \"learning_rate\": 0.01, \"num_leaves\": 31, \"random_state\": 42, \"verbosity\":-1},\n",
    "    {\"objective\": \"regression\", \"metric\": \"rmse\", \"learning_rate\": 0.05, \"num_leaves\": 50, \"random_state\": 99, \"verbosity\":-1},\n",
    "    {\"objective\": \"regression\", \"metric\": \"rmse\", \"learning_rate\": 0.1, \"num_leaves\": 20, \"random_state\": 2025, \"verbosity\":-1},\n",
    "    {\"objective\": \"regression\", \"metric\": \"rmse\", \"learning_rate\": 0.01, \"num_leaves\": 40, \"random_state\": 58,\"verbosity\":-1},\n",
    "]\n",
    "\n",
    "\n",
    "# Train multiple LightGBM models\n",
    "lgb_models = []\n",
    "lgb_predictions = []\n",
    "\n",
    "progress = tqdm(total=len(lgb_params_list), desc=\"Training Multiple LightGBM Models\")\n",
    "\n",
    "for params in lgb_params_list:\n",
    "    lgb_train = lgb.Dataset(X_train.cpu().numpy(), label=y_train.cpu().numpy().flatten())\n",
    "    lgb_model = lgb.train(params, lgb_train, num_boost_round=100)\n",
    "    \n",
    "    # Store the trained model\n",
    "    lgb_models.append(lgb_model)\n",
    "    \n",
    "    # Get predictions\n",
    "    y_pred_lgb = lgb_model.predict(X_test.cpu().numpy())\n",
    "    lgb_predictions.append(y_pred_lgb)\n",
    "\n",
    "    progress.update(1)\n",
    "\n",
    "progress.close()\n",
    "\n",
    "# Stack predictions as meta-features\n",
    "X_meta_train = np.column_stack(lgb_predictions)\n",
    "y_train_np = y_test.cpu().numpy().flatten()\n",
    "\n",
    "# Train a Ridge Regression as the meta-model\n",
    "meta_model = Ridge(alpha=1.0)\n",
    "meta_model.fit(X_meta_train, y_train_np)\n",
    "\n",
    "# Predict with stacked model\n",
    "y_pred_stacked = meta_model.predict(X_meta_train)\n",
    "\n",
    "# Compute Spearman correlation\n",
    "spearman_corr_stacked, _ = spearmanr(y_train_np, y_pred_stacked)\n",
    "print(f\"Stacked LightGBM Model Spearman Correlation: {spearman_corr_stacked:.4f}\")\n"
   ]
  },
  {
   "cell_type": "code",
   "execution_count": 35,
   "metadata": {},
   "outputs": [
    {
     "name": "stderr",
     "output_type": "stream",
     "text": [
      "[I 2025-03-10 00:15:24,680] A new study created in memory with name: no-name-f5c83e0b-a90a-424a-9b32-5231e3e74cd6\n",
      "/tmp/ipykernel_1518685/3917881178.py:7: FutureWarning: suggest_loguniform has been deprecated in v3.0.0. This feature will be removed in v6.0.0. See https://github.com/optuna/optuna/releases/tag/v3.0.0. Use suggest_float(..., log=True) instead.\n",
      "  \"learning_rate\": trial.suggest_loguniform(\"learning_rate\", 0.01, 0.2),\n",
      "/tmp/ipykernel_1518685/3917881178.py:11: FutureWarning: suggest_uniform has been deprecated in v3.0.0. This feature will be removed in v6.0.0. See https://github.com/optuna/optuna/releases/tag/v3.0.0. Use suggest_float instead.\n",
      "  \"subsample\": trial.suggest_uniform(\"subsample\", 0.5, 1.0),\n",
      "/tmp/ipykernel_1518685/3917881178.py:12: FutureWarning: suggest_uniform has been deprecated in v3.0.0. This feature will be removed in v6.0.0. See https://github.com/optuna/optuna/releases/tag/v3.0.0. Use suggest_float instead.\n",
      "  \"colsample_bytree\": trial.suggest_uniform(\"colsample_bytree\", 0.5, 1.0),\n",
      "[I 2025-03-10 00:15:27,372] Trial 0 finished with value: 0.48682221872956294 and parameters: {'learning_rate': 0.020241813661913466, 'num_leaves': 75, 'min_child_samples': 17, 'max_depth': 9, 'subsample': 0.9668683023238955, 'colsample_bytree': 0.6882141183975881}. Best is trial 0 with value: 0.48682221872956294.\n",
      "[I 2025-03-10 00:15:29,431] Trial 1 finished with value: 0.4819516931547437 and parameters: {'learning_rate': 0.05180092726555603, 'num_leaves': 80, 'min_child_samples': 14, 'max_depth': 6, 'subsample': 0.877212391871884, 'colsample_bytree': 0.8325616995237557}. Best is trial 0 with value: 0.48682221872956294.\n",
      "[I 2025-03-10 00:15:30,595] Trial 2 finished with value: 0.504966837548051 and parameters: {'learning_rate': 0.038174816968474155, 'num_leaves': 69, 'min_child_samples': 41, 'max_depth': 7, 'subsample': 0.5871925776790126, 'colsample_bytree': 0.7109854542671246}. Best is trial 2 with value: 0.504966837548051.\n",
      "[I 2025-03-10 00:15:32,604] Trial 3 finished with value: 0.4797925837506688 and parameters: {'learning_rate': 0.037586611560932966, 'num_leaves': 29, 'min_child_samples': 11, 'max_depth': 5, 'subsample': 0.672983531173312, 'colsample_bytree': 0.9617587881134873}. Best is trial 2 with value: 0.504966837548051.\n",
      "[I 2025-03-10 00:15:34,052] Trial 4 finished with value: 0.4797298101126605 and parameters: {'learning_rate': 0.06811545475964273, 'num_leaves': 44, 'min_child_samples': 33, 'max_depth': 8, 'subsample': 0.5674029240216472, 'colsample_bytree': 0.6874925621861503}. Best is trial 2 with value: 0.504966837548051.\n",
      "[I 2025-03-10 00:15:34,738] Trial 5 finished with value: 0.49182487268760927 and parameters: {'learning_rate': 0.09202036693219687, 'num_leaves': 68, 'min_child_samples': 19, 'max_depth': 3, 'subsample': 0.9529592991835274, 'colsample_bytree': 0.9517242284906431}. Best is trial 2 with value: 0.504966837548051.\n",
      "[I 2025-03-10 00:15:38,473] Trial 6 finished with value: 0.4868039941249798 and parameters: {'learning_rate': 0.031045297341530657, 'num_leaves': 71, 'min_child_samples': 16, 'max_depth': 10, 'subsample': 0.7640926739690383, 'colsample_bytree': 0.919777896145082}. Best is trial 2 with value: 0.504966837548051.\n",
      "[I 2025-03-10 00:15:40,102] Trial 7 finished with value: 0.5140680025812182 and parameters: {'learning_rate': 0.06000700484999641, 'num_leaves': 89, 'min_child_samples': 42, 'max_depth': 4, 'subsample': 0.6636936576304753, 'colsample_bytree': 0.8018144705228454}. Best is trial 7 with value: 0.5140680025812182.\n",
      "[I 2025-03-10 00:15:41,496] Trial 8 finished with value: 0.48647746995953367 and parameters: {'learning_rate': 0.07887704458051503, 'num_leaves': 26, 'min_child_samples': 26, 'max_depth': 10, 'subsample': 0.7442436963420866, 'colsample_bytree': 0.5002563094715652}. Best is trial 7 with value: 0.5140680025812182.\n",
      "[I 2025-03-10 00:15:42,893] Trial 9 finished with value: 0.45069345886072076 and parameters: {'learning_rate': 0.012210661415020831, 'num_leaves': 61, 'min_child_samples': 26, 'max_depth': 5, 'subsample': 0.7298553579863065, 'colsample_bytree': 0.8107527599014115}. Best is trial 7 with value: 0.5140680025812182.\n",
      "[I 2025-03-10 00:15:43,397] Trial 10 finished with value: 0.49880439000390014 and parameters: {'learning_rate': 0.1325912694521299, 'num_leaves': 100, 'min_child_samples': 50, 'max_depth': 3, 'subsample': 0.6391633638403935, 'colsample_bytree': 0.5736304022161385}. Best is trial 7 with value: 0.5140680025812182.\n",
      "[I 2025-03-10 00:15:44,576] Trial 11 finished with value: 0.46168897029249256 and parameters: {'learning_rate': 0.18524250383932483, 'num_leaves': 94, 'min_child_samples': 43, 'max_depth': 7, 'subsample': 0.5206785841733339, 'colsample_bytree': 0.7513777681711267}. Best is trial 7 with value: 0.5140680025812182.\n",
      "[I 2025-03-10 00:15:45,550] Trial 12 finished with value: 0.46551107486477045 and parameters: {'learning_rate': 0.026173463701862253, 'num_leaves': 48, 'min_child_samples': 39, 'max_depth': 5, 'subsample': 0.6245233667459995, 'colsample_bytree': 0.6544527854076914}. Best is trial 7 with value: 0.5140680025812182.\n",
      "[I 2025-03-10 00:15:46,873] Trial 13 finished with value: 0.5186464282436927 and parameters: {'learning_rate': 0.04931791757724383, 'num_leaves': 85, 'min_child_samples': 48, 'max_depth': 7, 'subsample': 0.5749253739933733, 'colsample_bytree': 0.8371746709650121}. Best is trial 13 with value: 0.5186464282436927.\n",
      "[I 2025-03-10 00:15:47,691] Trial 14 finished with value: 0.4772806257523054 and parameters: {'learning_rate': 0.057196341078644436, 'num_leaves': 86, 'min_child_samples': 50, 'max_depth': 4, 'subsample': 0.5171139121784507, 'colsample_bytree': 0.8360391998280103}. Best is trial 13 with value: 0.5186464282436927.\n",
      "[I 2025-03-10 00:15:49,390] Trial 15 finished with value: 0.4875304471132209 and parameters: {'learning_rate': 0.10523239065082168, 'num_leaves': 88, 'min_child_samples': 35, 'max_depth': 8, 'subsample': 0.826777314153152, 'colsample_bytree': 0.8785287473462736}. Best is trial 13 with value: 0.5186464282436927.\n",
      "[I 2025-03-10 00:15:50,582] Trial 16 finished with value: 0.48750867883552446 and parameters: {'learning_rate': 0.020850977354443207, 'num_leaves': 98, 'min_child_samples': 45, 'max_depth': 6, 'subsample': 0.6857520095651832, 'colsample_bytree': 0.7736851707673146}. Best is trial 13 with value: 0.5186464282436927.\n",
      "[I 2025-03-10 00:15:51,761] Trial 17 finished with value: 0.446737200949151 and parameters: {'learning_rate': 0.011840821866313498, 'num_leaves': 56, 'min_child_samples': 33, 'max_depth': 4, 'subsample': 0.5848693398306174, 'colsample_bytree': 0.879938718998974}. Best is trial 13 with value: 0.5186464282436927.\n",
      "[I 2025-03-10 00:15:53,361] Trial 18 finished with value: 0.43029303898606447 and parameters: {'learning_rate': 0.046524799326195826, 'num_leaves': 10, 'min_child_samples': 5, 'max_depth': 8, 'subsample': 0.7916067786302976, 'colsample_bytree': 0.996033691895372}. Best is trial 13 with value: 0.5186464282436927.\n",
      "[I 2025-03-10 00:15:54,167] Trial 19 finished with value: 0.4889296917539859 and parameters: {'learning_rate': 0.1182871336918785, 'num_leaves': 85, 'min_child_samples': 46, 'max_depth': 4, 'subsample': 0.6921295726809694, 'colsample_bytree': 0.7754472857141295}. Best is trial 13 with value: 0.5186464282436927.\n"
     ]
    },
    {
     "name": "stdout",
     "output_type": "stream",
     "text": [
      "Best LightGBM Parameters: {'learning_rate': 0.04931791757724383, 'num_leaves': 85, 'min_child_samples': 48, 'max_depth': 7, 'subsample': 0.5749253739933733, 'colsample_bytree': 0.8371746709650121}\n"
     ]
    }
   ],
   "source": [
    "#Best LightGBM Parameters: {'learning_rate': 0.04931791757724383, 'num_leaves': 85, 'min_child_samples': 48, 'max_depth': 7, 'subsample': 0.5749253739933733, 'colsample_bytree': 0.8371746709650121}\n",
    "import optuna\n",
    "\n",
    "def objective(trial):\n",
    "    params = {\n",
    "        \"objective\": \"regression\",\n",
    "        \"metric\": \"rmse\",\n",
    "        \"learning_rate\": trial.suggest_loguniform(\"learning_rate\", 0.01, 0.2),\n",
    "        \"num_leaves\": trial.suggest_int(\"num_leaves\", 10, 100),\n",
    "        \"min_child_samples\": trial.suggest_int(\"min_child_samples\", 5, 50),\n",
    "        \"max_depth\": trial.suggest_int(\"max_depth\", 3, 10),\n",
    "        \"subsample\": trial.suggest_uniform(\"subsample\", 0.5, 1.0),\n",
    "        \"colsample_bytree\": trial.suggest_uniform(\"colsample_bytree\", 0.5, 1.0),\n",
    "    }\n",
    "\n",
    "    lgb_train = lgb.Dataset(X_train.cpu().numpy(), label=y_train.cpu().numpy().flatten())\n",
    "    lgb_model = lgb.train(params, lgb_train, num_boost_round=100)\n",
    "    \n",
    "    y_pred = lgb_model.predict(X_test.cpu().numpy())\n",
    "    spearman_corr, _ = spearmanr(y_test.cpu().numpy().flatten(), y_pred)\n",
    "    \n",
    "    return spearman_corr\n",
    "\n",
    "# Run Bayesian Optimization\n",
    "study = optuna.create_study(direction=\"maximize\")\n",
    "study.optimize(objective, n_trials=20)\n",
    "\n",
    "# Best parameters\n",
    "print(\"Best LightGBM Parameters:\", study.best_params)\n"
   ]
  },
  {
   "cell_type": "code",
   "execution_count": 9,
   "metadata": {},
   "outputs": [],
   "source": [
    "df_test = pd.read_parquet('protein_embeddings_test.parquet')\n",
    "X_unlabeled = df_test['Embedding'].values"
   ]
  },
  {
   "cell_type": "code",
   "execution_count": null,
   "metadata": {},
   "outputs": [],
   "source": [
    "X_unlabeled = np.vstack(X_unlabeled)\n",
    "X_unlabeled = torch.tensor(X_unlabeled, dtype=torch.float32, device=device)"
   ]
  },
  {
   "cell_type": "code",
   "execution_count": 29,
   "metadata": {},
   "outputs": [
    {
     "data": {
      "text/plain": [
       "torch.Size([11324, 1280])"
      ]
     },
     "execution_count": 29,
     "metadata": {},
     "output_type": "execute_result"
    }
   ],
   "source": [
    "X_unlabeled.shape\n"
   ]
  },
  {
   "cell_type": "code",
   "execution_count": 31,
   "metadata": {},
   "outputs": [
    {
     "name": "stderr",
     "output_type": "stream",
     "text": [
      "/Users/saianoopavunuri/miniforge3/envs/compbiohack/lib/python3.13/site-packages/lightgbm/basic.py:1238: UserWarning: Converting data to scipy sparse matrix.\n",
      "  _log_warning(\"Converting data to scipy sparse matrix.\")\n"
     ]
    },
    {
     "name": "stdout",
     "output_type": "stream",
     "text": [
      "Top 10 mutations to test: [ 4334   446  9057  8390 11149   131   316   463  4495   540]\n"
     ]
    }
   ],
   "source": [
    "\n",
    "import numpy as np\n",
    "\n",
    "\n",
    "# Compute UCB for LightGBM ensemble\n",
    "beta = 1.5  # Adjust exploration factor\n",
    "\n",
    "y_pred_all = np.column_stack([model.predict(X_unlabeled) for model in lgb_boot_models])\n",
    "mean_pred = np.mean(y_pred_all, axis=1)  # Average prediction\n",
    "std_pred = np.std(y_pred_all, axis=1)    # Uncertainty (std dev)\n",
    "\n",
    "# UCB formula\n",
    "mean_pred = meta_model.predict(y_pred_all)\n",
    "ucb_scores = mean_pred + beta * std_pred\n",
    "\n",
    "# Select top 10 mutations with highest UCB\n",
    "top_mutations = np.argsort(ucb_scores)[-10:]\n",
    "\n",
    "print(\"Top 10 mutations to test:\", top_mutations)\n"
   ]
  },
  {
   "cell_type": "code",
   "execution_count": 39,
   "metadata": {},
   "outputs": [
    {
     "data": {
      "text/plain": [
       "array(['N390R', 'M326W', 'N7F', 'T243I', 'S28F', 'P394L', 'S28R', 'P571R',\n",
       "       'T548L', 'T128L', 'S77R', 'Q146L', 'P458L', 'S113A', 'S20R',\n",
       "       'S60R', 'T128I', 'S32A', 'S24R', 'T248L', 'T646F', 'Q266L',\n",
       "       'M110L', 'S492R', 'S439R', 'Q633L', 'S303F', 'G120R', 'S29R',\n",
       "       'T463Y', 'S107R', 'M580I', 'T646L', 'S578W', 'T463I', 'S54F',\n",
       "       'Q266R', 'T328I', 'S183A', 'S205R', 'S517R', 'S602R', 'Q306R',\n",
       "       'S604R', 'T572F', 'S8R', 'G500R', 'T606Y', 'T548I', 'T606L',\n",
       "       'T248F', 'S9R', 'T68I', 'N443R', 'S183R', 'C130R', 'S9L', 'S368R',\n",
       "       'S263A', 'M110I', 'S108R', 'M580F', 'Q508R', 'S218F', 'N172I',\n",
       "       'Q633A', 'Q526R', 'S108A', 'S392R', 'S372R', 'S25R', 'S218R',\n",
       "       'S32R', 'S368A', 'S409R', 'T123I', 'S393R', 'Q306L', 'S22L',\n",
       "       'S113R', 'N549R', 'S102R', 'S578R', 'S351R', 'S19R', 'S429R',\n",
       "       'S493R', 'T226Y', 'N629R', 'S17R', 'S263R', 'S24L', 'N536R',\n",
       "       'P501L', 'T646W', 'N7I', 'S17F', 'S25F', 'S271R', 'S29F'],\n",
       "      dtype=object)"
      ]
     },
     "execution_count": 39,
     "metadata": {},
     "output_type": "execute_result"
    }
   ],
   "source": [
    "top_mutations = np.argsort(ucb_scores)[-100:]\n",
    "df_test.iloc[top_mutations]['mutant'].values"
   ]
  },
  {
   "cell_type": "code",
   "execution_count": 9,
   "metadata": {},
   "outputs": [],
   "source": [
    "df_test = pd.read_csv('test.csv')\n",
    "df_test['Sequence'] = df_test['mutant'].apply(lambda x: seq[:int(x[1:-1])] + x[-1] + seq[int(x[1:-1])+1:])\n",
    "df_test['Embedding'] = df_test['Sequence'].apply(lambda seq: extract_esm_embedding(seq))\n",
    "df_test.to_parquet(\"protein_embeddings_test.parquet\", engine=\"pyarrow\")"
   ]
  },
  {
   "cell_type": "code",
   "execution_count": 7,
   "metadata": {},
   "outputs": [
    {
     "data": {
      "text/plain": [
       "11324"
      ]
     },
     "execution_count": 7,
     "metadata": {},
     "output_type": "execute_result"
    }
   ],
   "source": [
    "len(df_test)"
   ]
  },
  {
   "cell_type": "code",
   "execution_count": 5,
   "metadata": {},
   "outputs": [
    {
     "name": "stdout",
     "output_type": "stream",
     "text": [
      "Using device: mps\n"
     ]
    },
    {
     "name": "stderr",
     "output_type": "stream",
     "text": [
      "Downloading: \"https://dl.fbaipublicfiles.com/fair-esm/models/esm2_t33_650M_UR50D.pt\" to /Users/saianoopavunuri/.cache/torch/hub/checkpoints/esm2_t33_650M_UR50D.pt\n",
      "Downloading: \"https://dl.fbaipublicfiles.com/fair-esm/regression/esm2_t33_650M_UR50D-contact-regression.pt\" to /Users/saianoopavunuri/.cache/torch/hub/checkpoints/esm2_t33_650M_UR50D-contact-regression.pt\n"
     ]
    }
   ],
   "source": [
    "import torch\n",
    "import esm\n",
    "import numpy as np\n",
    "import pandas as pd\n",
    "from sklearn.model_selection import train_test_split\n",
    "import torch.nn as nn\n",
    "import torch.optim as optim\n",
    "\n",
    "# Check for GPU\n",
    "device = torch.device(\"cuda\" if torch.cuda.is_available() else \"cpu\")\n",
    "device = torch.device(\"mps\" if torch.backends.mps.is_available() else \"cpu\")\n",
    "print(f\"Using device: {device}\")\n",
    "\n",
    "# Load pre-trained ESM model and move it to GPU\n",
    "esm_model, alphabet = esm.pretrained.esm2_t33_650M_UR50D()  # Example: ESM-2 model\n",
    "batch_converter = alphabet.get_batch_converter()\n",
    "esm_model = esm_model.to(device)\n",
    "esm_model.eval()  # Set to eval mode\n",
    "\n",
    "# Extract ESM embeddings using GPU\n",
    "def extract_esm_embedding(sequence):\n",
    "    batch_labels, batch_strs, batch_tokens = batch_converter([(None, sequence)])\n",
    "    batch_tokens = batch_tokens.to(device)  # Move input to GPU\n",
    "\n",
    "    with torch.no_grad():\n",
    "        results = esm_model(batch_tokens, repr_layers=[33], return_contacts=False)\n",
    "    \n",
    "    token_representations = results[\"representations\"][33]  # Use final layer\n",
    "    sequence_embedding = token_representations.mean(dim=1).squeeze().cpu().numpy()  # Move back to CPU for NumPy\n",
    "    return sequence_embedding\n",
    "\n",
    "# Apply embedding extraction\n",
    "# df[\"Embedding\"] = df[\"Sequence\"].apply(lambda seq: extract_esm_embedding(seq))\n"
   ]
  },
  {
   "cell_type": "code",
   "execution_count": null,
   "metadata": {},
   "outputs": [],
   "source": []
  }
 ],
 "metadata": {
  "kernelspec": {
   "display_name": "compbiohack",
   "language": "python",
   "name": "python3"
  },
  "language_info": {
   "codemirror_mode": {
    "name": "ipython",
    "version": 3
   },
   "file_extension": ".py",
   "mimetype": "text/x-python",
   "name": "python",
   "nbconvert_exporter": "python",
   "pygments_lexer": "ipython3",
   "version": "3.13.2"
  }
 },
 "nbformat": 4,
 "nbformat_minor": 2
}
