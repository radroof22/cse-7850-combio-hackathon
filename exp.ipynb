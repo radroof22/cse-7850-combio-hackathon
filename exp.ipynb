{
 "cells": [
  {
   "attachments": {},
   "cell_type": "markdown",
   "metadata": {},
   "source": [
    "# Generating protein_embeddings.parquet\n",
    "The following cells were used to first preprocess the train.csv file to create the mutated sequences. Then, we run the ESM model to get the embeddings and store these in a parquet file for later use."
   ]
  },
  {
   "cell_type": "code",
   "execution_count": 1,
   "metadata": {},
   "outputs": [],
   "source": [
    "import pandas as pd"
   ]
  },
  {
   "cell_type": "code",
   "execution_count": 2,
   "metadata": {},
   "outputs": [
    {
     "data": {
      "text/html": [
       "<div>\n",
       "<style scoped>\n",
       "    .dataframe tbody tr th:only-of-type {\n",
       "        vertical-align: middle;\n",
       "    }\n",
       "\n",
       "    .dataframe tbody tr th {\n",
       "        vertical-align: top;\n",
       "    }\n",
       "\n",
       "    .dataframe thead th {\n",
       "        text-align: right;\n",
       "    }\n",
       "</style>\n",
       "<table border=\"1\" class=\"dataframe\">\n",
       "  <thead>\n",
       "    <tr style=\"text-align: right;\">\n",
       "      <th></th>\n",
       "      <th>mutant</th>\n",
       "      <th>DMS_score</th>\n",
       "    </tr>\n",
       "  </thead>\n",
       "  <tbody>\n",
       "    <tr>\n",
       "      <th>0</th>\n",
       "      <td>M0Y</td>\n",
       "      <td>0.2730</td>\n",
       "    </tr>\n",
       "    <tr>\n",
       "      <th>1</th>\n",
       "      <td>M0W</td>\n",
       "      <td>0.2857</td>\n",
       "    </tr>\n",
       "    <tr>\n",
       "      <th>2</th>\n",
       "      <td>M0V</td>\n",
       "      <td>0.2153</td>\n",
       "    </tr>\n",
       "    <tr>\n",
       "      <th>3</th>\n",
       "      <td>M0T</td>\n",
       "      <td>0.3122</td>\n",
       "    </tr>\n",
       "    <tr>\n",
       "      <th>4</th>\n",
       "      <td>M0S</td>\n",
       "      <td>0.2180</td>\n",
       "    </tr>\n",
       "  </tbody>\n",
       "</table>\n",
       "</div>"
      ],
      "text/plain": [
       "  mutant  DMS_score\n",
       "0    M0Y     0.2730\n",
       "1    M0W     0.2857\n",
       "2    M0V     0.2153\n",
       "3    M0T     0.3122\n",
       "4    M0S     0.2180"
      ]
     },
     "execution_count": 2,
     "metadata": {},
     "output_type": "execute_result"
    }
   ],
   "source": [
    "df = pd.read_csv('train.csv')\n",
    "\n",
    "# get the sequence\n",
    "seq = open('sequence.fasta', 'r').read()\n",
    "seq = seq.split(\"\\n\")[1]\n",
    "\n",
    "# create each mutated sequence using the info\n",
    "sequences = []\n",
    "for i in df['mutant']:\n",
    "    ind = int(i[1:-1])\n",
    "    tmp = seq[:ind] + i[-1] + seq[ind+1:]\n",
    "    sequences.append(tmp)\n",
    "df['Sequence'] = sequences"
   ]
  },
  {
   "cell_type": "code",
   "execution_count": 38,
   "metadata": {},
   "outputs": [
    {
     "name": "stdout",
     "output_type": "stream",
     "text": [
      "Using device: cuda\n",
      "Epoch 10/100, Loss: 0.0505\n",
      "Epoch 20/100, Loss: 0.0431\n",
      "Epoch 30/100, Loss: 0.0419\n",
      "Epoch 40/100, Loss: 0.0414\n",
      "Epoch 50/100, Loss: 0.0412\n",
      "Epoch 60/100, Loss: 0.0412\n",
      "Epoch 70/100, Loss: 0.0412\n",
      "Epoch 80/100, Loss: 0.0412\n",
      "Epoch 90/100, Loss: 0.0412\n",
      "Epoch 100/100, Loss: 0.0412\n",
      "Test MSE: 0.0497\n"
     ]
    }
   ],
   "source": [
    "import torch\n",
    "import esm\n",
    "\n",
    "# Check for GPU\n",
    "device = torch.device(\"cuda\" if torch.cuda.is_available() else \"cpu\")\n",
    "print(f\"Using device: {device}\")\n",
    "\n",
    "# Load pre-trained ESM model and move it to GPU\n",
    "esm_model, alphabet = esm.pretrained.esm2_t33_650M_UR50D()  # Example: ESM-2 model\n",
    "batch_converter = alphabet.get_batch_converter()\n",
    "esm_model = esm_model.to(device)\n",
    "esm_model.eval()  # Set to eval mode\n",
    "\n",
    "# Extract ESM embeddings using GPU\n",
    "def extract_esm_embedding(sequence):\n",
    "    batch_labels, batch_strs, batch_tokens = batch_converter([(None, sequence)])\n",
    "    batch_tokens = batch_tokens.to(device)  # Move input to GPU\n",
    "\n",
    "    with torch.no_grad():\n",
    "        results = esm_model(batch_tokens, repr_layers=[33], return_contacts=False)\n",
    "    \n",
    "    token_representations = results[\"representations\"][33]  # Use final layer\n",
    "    sequence_embedding = token_representations.mean(dim=1).squeeze().cpu().numpy()  # Move back to CPU for NumPy\n",
    "    return sequence_embedding"
   ]
  },
  {
   "cell_type": "code",
   "execution_count": null,
   "metadata": {},
   "outputs": [],
   "source": [
    "# Apply embedding extraction\n",
    "df[\"Embedding\"] = df[\"Sequence\"].apply(lambda seq: extract_esm_embedding(seq))\n",
    "\n",
    "df.to_parquet(\"protein_embeddings.parquet\", engine=\"pyarrow\")"
   ]
  },
  {
   "attachments": {},
   "cell_type": "markdown",
   "metadata": {},
   "source": [
    "# Training Models\n",
    "We initially train a MLP, LightGBM, and XGBoost."
   ]
  },
  {
   "cell_type": "code",
   "execution_count": 40,
   "metadata": {},
   "outputs": [],
   "source": [
    "df = pd.read_parquet('protein_embeddings.parquet')"
   ]
  },
  {
   "cell_type": "code",
   "execution_count": 55,
   "metadata": {},
   "outputs": [],
   "source": [
    "import torch\n",
    "import numpy as np\n",
    "import pandas as pd\n",
    "from sklearn.model_selection import train_test_split\n",
    "import torch.nn as nn\n",
    "import torch.optim as optim\n",
    "\n",
    "# Check for GPU\n",
    "device = torch.device(\"cuda\" if torch.cuda.is_available() else \"cpu\")\n",
    "\n",
    "X = np.vstack(df[\"Embedding\"].values)\n",
    "y = df[\"DMS_score\"].values\n",
    "\n",
    "# Convert to PyTorch tensors and move to GPU\n",
    "X_tensor = torch.tensor(X, dtype=torch.float32, device=device)\n",
    "y_tensor = torch.tensor(y, dtype=torch.float32, device=device).view(-1, 1)  # Reshape for MLP\n",
    "\n",
    "# Train/test split\n",
    "X_train, X_test, y_train, y_test = train_test_split(X_tensor, y_tensor, test_size=0.2, random_state=42)\n"
   ]
  },
  {
   "cell_type": "code",
   "execution_count": 46,
   "metadata": {},
   "outputs": [
    {
     "name": "stdout",
     "output_type": "stream",
     "text": [
      "Epoch 10/100, Loss: 0.0467\n",
      "Epoch 20/100, Loss: 0.0423\n",
      "Epoch 30/100, Loss: 0.0413\n",
      "Epoch 40/100, Loss: 0.0412\n",
      "Epoch 50/100, Loss: 0.0412\n",
      "Epoch 60/100, Loss: 0.0412\n",
      "Epoch 70/100, Loss: 0.0412\n",
      "Epoch 80/100, Loss: 0.0412\n",
      "Epoch 90/100, Loss: 0.0412\n",
      "Epoch 100/100, Loss: 0.0412\n",
      "Test MSE: 0.0497\n",
      "MLP Spearman Correlation: 0.1130\n"
     ]
    }
   ],
   "source": [
    "from scipy.stats import spearmanr\n",
    "\n",
    "# Define a simple MLP regression model using GPU\n",
    "class MLPRegressor(nn.Module):\n",
    "    def __init__(self, input_dim):\n",
    "        super(MLPRegressor, self).__init__()\n",
    "        self.model = nn.Sequential(\n",
    "            nn.Linear(input_dim, 512),\n",
    "            nn.ReLU(),\n",
    "            nn.Linear(512, 512),\n",
    "            nn.ReLU(),\n",
    "            nn.Linear(512, 256),\n",
    "            nn.ReLU(),\n",
    "            nn.Linear(256, 64),\n",
    "            nn.ReLU(),\n",
    "            nn.Linear(64, 1)  # Single output value\n",
    "        )\n",
    "\n",
    "    def forward(self, x):\n",
    "        return self.model(x)\n",
    "\n",
    "# Initialize model, loss function, and optimizer\n",
    "model = MLPRegressor(input_dim=X.shape[1]).to(device)\n",
    "criterion = nn.MSELoss()\n",
    "optimizer = optim.Adam(model.parameters(), lr=0.001)\n",
    "\n",
    "# Training loop\n",
    "epochs = 100\n",
    "for epoch in range(epochs):\n",
    "    model.train()\n",
    "    optimizer.zero_grad()\n",
    "    predictions = model(X_train)\n",
    "    loss = criterion(predictions, y_train)\n",
    "    loss.backward()\n",
    "    optimizer.step()\n",
    "\n",
    "    if (epoch + 1) % 10 == 0:\n",
    "        print(f\"Epoch {epoch+1}/{epochs}, Loss: {loss.item():.4f}\")\n",
    "\n",
    "# Evaluate on test set\n",
    "model.eval()\n",
    "with torch.no_grad():\n",
    "    test_predictions = model(X_test)\n",
    "    test_loss = criterion(test_predictions, y_test)\n",
    "print(f\"Test MSE: {test_loss.item():.4f}\")\n",
    "\n",
    "spearman_corr_xgb, _ = spearmanr(y_test.cpu().numpy().flatten(), test_predictions.cpu().numpy().flatten())\n",
    "print(f\"MLP Spearman Correlation: {spearman_corr_xgb:.4f}\")"
   ]
  },
  {
   "cell_type": "code",
   "execution_count": 47,
   "metadata": {},
   "outputs": [
    {
     "name": "stdout",
     "output_type": "stream",
     "text": [
      "XGBoost Spearman Correlation: 0.4483\n"
     ]
    }
   ],
   "source": [
    "import xgboost as xgb\n",
    "from scipy.stats import spearmanr\n",
    "\n",
    "# Convert to DMatrix (XGBoost's optimized data structure)\n",
    "dtrain = xgb.DMatrix(X_train.cpu().numpy(), label=y_train.cpu().numpy().flatten())\n",
    "dtest = xgb.DMatrix(X_test.cpu().numpy(), label=y_test.cpu().numpy().flatten())\n",
    "\n",
    "# Train XGBoost Model\n",
    "params = {\"objective\": \"reg:squarederror\", \"eval_metric\": \"rmse\"}\n",
    "xgb_model = xgb.train(params, dtrain, num_boost_round=100)\n",
    "\n",
    "# Predict\n",
    "y_pred_xgb = xgb_model.predict(dtest)\n",
    "\n",
    "# Compute Spearman correlation\n",
    "spearman_corr_xgb, _ = spearmanr(y_test.cpu().numpy().flatten(), y_pred_xgb)\n",
    "print(f\"XGBoost Spearman Correlation: {spearman_corr_xgb:.4f}\")\n"
   ]
  },
  {
   "cell_type": "code",
   "execution_count": 48,
   "metadata": {},
   "outputs": [
    {
     "name": "stdout",
     "output_type": "stream",
     "text": [
      "LightGBM Spearman Correlation: 0.4641\n"
     ]
    }
   ],
   "source": [
    "import lightgbm as lgb\n",
    "\n",
    "# Train LightGBM Model\n",
    "lgb_train = lgb.Dataset(X_train.cpu().numpy(), label=y_train.cpu().numpy().flatten())\n",
    "lgb_test = lgb.Dataset(X_test.cpu().numpy(), label=y_test.cpu().numpy().flatten(), reference=lgb_train)\n",
    "\n",
    "params = {\"objective\": \"regression\", \"metric\": \"rmse\"}\n",
    "lgb_model = lgb.train(params, lgb_train, num_boost_round=100)\n",
    "\n",
    "# Predict\n",
    "y_pred_lgb = lgb_model.predict(X_test.cpu().numpy())\n",
    "\n",
    "# Compute Spearman correlation\n",
    "spearman_corr_lgb, _ = spearmanr(y_test.cpu().numpy().flatten(), y_pred_lgb)\n",
    "print(f\"LightGBM Spearman Correlation: {spearman_corr_lgb:.4f}\")\n"
   ]
  },
  {
   "cell_type": "markdown",
   "metadata": {},
   "source": [
    "# Ensemble of LightGBM & Linear Regression \n",
    "We use linear regression to weigh the different models in the ensemble instead of taking the mean. We use boostrapping to train each model on a different subset of the data."
   ]
  },
  {
   "cell_type": "code",
   "execution_count": 113,
   "metadata": {},
   "outputs": [
    {
     "name": "stderr",
     "output_type": "stream",
     "text": [
      "Training Bootstrapped LightGBM Models: 100%|██████████| 100/100 [00:38<00:00,  2.59it/s]"
     ]
    },
    {
     "name": "stdout",
     "output_type": "stream",
     "text": [
      "Bootstrapped LightGBM Ensemble Spearman Correlation: 0.4910\n"
     ]
    },
    {
     "name": "stderr",
     "output_type": "stream",
     "text": [
      "\n"
     ]
    }
   ],
   "source": [
    "import lightgbm as lgb\n",
    "import numpy as np\n",
    "from scipy.stats import spearmanr\n",
    "from tqdm import tqdm\n",
    "from sklearn.utils import resample\n",
    "\n",
    "# Define hyperparameters for LightGBM\n",
    "lgb_params = {\"objective\": \"regression\", \"metric\": \"rmse\",'learning_rate': 0.04931791757724383, 'num_leaves': 85, 'min_child_samples': 48, 'max_depth': 7, 'subsample': 0.5749253739933733, 'colsample_bytree': 0.8371746709650121,'verbosity':-1}\n",
    "\n",
    "# Number of bootstrapped models\n",
    "num_bootstraps = 100\n",
    "lgb_boot_models = []\n",
    "lgb_predictions = []\n",
    "\n",
    "progress = tqdm(total=num_bootstraps, desc=\"Training Bootstrapped LightGBM Models\")\n",
    "\n",
    "for i in range(num_bootstraps):\n",
    "    # Bootstrap resampling\n",
    "    X_resampled, y_resampled = resample(X_train.cpu().numpy(), y_train.cpu().numpy().flatten(), random_state=i)\n",
    "    \n",
    "    # Train LightGBM model on resampled data\n",
    "    lgb_train = lgb.Dataset(X_resampled, label=y_resampled)\n",
    "    lgb_model = lgb.train(lgb_params, lgb_train, num_boost_round=100)\n",
    "    \n",
    "    # Store trained model\n",
    "    lgb_boot_models.append(lgb_model)\n",
    "\n",
    "    # Predict on test set\n",
    "    y_pred_lgb = lgb_model.predict(X_test.cpu().numpy())\n",
    "    lgb_predictions.append(y_pred_lgb)\n",
    "\n",
    "    progress.update(1)\n",
    "\n",
    "progress.close()\n",
    "\n",
    "# Average predictions from bootstrapped models\n",
    "y_pred_ensemble = np.mean(np.column_stack(lgb_predictions), axis=1)\n",
    "\n",
    "# Compute Spearman correlation\n",
    "spearman_corr_ensemble, _ = spearmanr(y_test.cpu().numpy().flatten(), y_pred_ensemble)\n",
    "print(f\"Bootstrapped LightGBM Ensemble Spearman Correlation: {spearman_corr_ensemble:.4f}\")\n"
   ]
  },
  {
   "cell_type": "code",
   "execution_count": 114,
   "metadata": {},
   "outputs": [
    {
     "name": "stdout",
     "output_type": "stream",
     "text": [
      "Stacked LightGBM Model Spearman Correlation: 0.6692\n"
     ]
    }
   ],
   "source": [
    "from sklearn.linear_model import Ridge\n",
    "\n",
    "X_meta_train = np.column_stack(lgb_predictions)\n",
    "y_train_np = y_test.cpu().numpy().flatten()\n",
    "\n",
    "# Train a Ridge Regression as the meta-model\n",
    "meta_model = Ridge(alpha=1.0)\n",
    "meta_model.fit(X_meta_train, y_train_np)\n",
    "\n",
    "# Predict with stacked model\n",
    "y_pred_stacked = meta_model.predict(X_meta_train)\n",
    "\n",
    "# Compute Spearman correlation\n",
    "spearman_corr_stacked, _ = spearmanr(y_train_np, y_pred_stacked)\n",
    "print(f\"Stacked LightGBM Model Spearman Correlation: {spearman_corr_stacked:.4f}\")\n"
   ]
  },
  {
   "cell_type": "markdown",
   "metadata": {},
   "source": [
    "# Predictions"
   ]
  },
  {
   "cell_type": "code",
   "execution_count": 115,
   "metadata": {},
   "outputs": [],
   "source": [
    "df_test = pd.read_parquet('protein_embeddings_test.parquet')\n",
    "X_unlabeled = df_test['Embedding'].values"
   ]
  },
  {
   "cell_type": "code",
   "execution_count": 116,
   "metadata": {},
   "outputs": [],
   "source": [
    "X_unlabeled = np.vstack(X_unlabeled)\n",
    "X_unlabeled = torch.tensor(X_unlabeled, dtype=torch.float32, device=device)"
   ]
  },
  {
   "cell_type": "code",
   "execution_count": 117,
   "metadata": {},
   "outputs": [
    {
     "name": "stderr",
     "output_type": "stream",
     "text": [
      "/Users/saianoopavunuri/miniforge3/envs/compbiohack/lib/python3.13/site-packages/lightgbm/basic.py:1238: UserWarning: Converting data to scipy sparse matrix.\n",
      "  _log_warning(\"Converting data to scipy sparse matrix.\")\n"
     ]
    }
   ],
   "source": [
    "import numpy as np\n",
    "\n",
    "# Compute UCB for LightGBM ensemble\n",
    "beta = 1.5  # Adjust exploration factor\n",
    "\n",
    "y_pred_all = np.column_stack([model.predict(X_unlabeled) for model in lgb_boot_models])\n",
    "std_pred = np.std(y_pred_all, axis=1)    # Uncertainty (std dev)\n",
    "mean_pred = meta_model.predict(y_pred_all)"
   ]
  },
  {
   "cell_type": "code",
   "execution_count": 118,
   "metadata": {},
   "outputs": [
    {
     "data": {
      "text/plain": [
       "array(['P384F', 'R356I', 'E585F', 'A301G', 'L479I', 'D27A', 'H212Y',\n",
       "       'F405G', 'D456N', 'P564T', 'F431G', 'F515G', 'F579G', 'F236G',\n",
       "       'D244C', 'E601F', 'R644F', 'P495G', 'K47V', 'K410V', 'F171G',\n",
       "       'K280V', 'L553T', 'E519F', 'R362F', 'E379F', 'F230G', 'D91Q',\n",
       "       'D575Q', 'D494N', 'K269V', 'R472F', 'E567F', 'F581G', 'E427F',\n",
       "       'F59G', 'F64G', 'N546G', 'K583V', 'F238G', 'F235G', 'R593F',\n",
       "       'K240V', 'K408V', 'A510G', 'A395G', 'N445G', 'D209Q', 'K490V',\n",
       "       'N323G', 'E441F', 'H612Y', 'R605F', 'D381Q', 'K145V', 'R30F',\n",
       "       'K272V', 'F579T', 'R356F', 'K143V', 'K150V', 'P370F', 'W338N',\n",
       "       'D37Q', 'N11G', 'R156F', 'A523G', 'D288Y', 'K467V', 'K333V',\n",
       "       'R131F', 'K198V', 'N541G', 'E274W', 'E299F', 'R650F', 'K355V',\n",
       "       'R387F', 'E15F', 'R50F', 'E592F', 'A352G', 'N536G', 'E599F',\n",
       "       'E39F', 'E552F', 'E636F', 'R444F', 'K596V', 'K287V', 'N614G',\n",
       "       'Q306C', 'A349G', 'D624A', 'N486G', 'W94P', 'R43F', 'D494Q',\n",
       "       'N74G', 'D613N'], dtype=object)"
      ]
     },
     "execution_count": 118,
     "metadata": {},
     "output_type": "execute_result"
    }
   ],
   "source": [
    "ucb_scores = std_pred\n",
    "top_mutations = np.argsort(ucb_scores)[-100:]\n",
    "df_test.iloc[top_mutations]['mutant'].values"
   ]
  },
  {
   "cell_type": "code",
   "execution_count": 112,
   "metadata": {},
   "outputs": [],
   "source": [
    "arr = list(df_test.iloc[top_mutations]['mutant'].values)\n",
    "f = open('query.txt','w')\n",
    "for i in arr:\n",
    "    f.write(i+'\\n')\n",
    "f.close()"
   ]
  },
  {
   "cell_type": "markdown",
   "metadata": {},
   "source": [
    "# Generating protein_embeddings_test.parquet"
   ]
  },
  {
   "cell_type": "code",
   "execution_count": null,
   "metadata": {},
   "outputs": [
    {
     "name": "stdout",
     "output_type": "stream",
     "text": [
      "Using device: mps\n"
     ]
    },
    {
     "name": "stderr",
     "output_type": "stream",
     "text": [
      "Downloading: \"https://dl.fbaipublicfiles.com/fair-esm/models/esm2_t33_650M_UR50D.pt\" to /Users/saianoopavunuri/.cache/torch/hub/checkpoints/esm2_t33_650M_UR50D.pt\n",
      "Downloading: \"https://dl.fbaipublicfiles.com/fair-esm/regression/esm2_t33_650M_UR50D-contact-regression.pt\" to /Users/saianoopavunuri/.cache/torch/hub/checkpoints/esm2_t33_650M_UR50D-contact-regression.pt\n"
     ]
    }
   ],
   "source": [
    "import torch\n",
    "import esm\n",
    "import numpy as np\n",
    "import pandas as pd\n",
    "from sklearn.model_selection import train_test_split\n",
    "import torch.nn as nn\n",
    "import torch.optim as optim\n",
    "\n",
    "# Check for GPU\n",
    "device = torch.device(\"cuda\" if torch.cuda.is_available() else \"cpu\")\n",
    "device = torch.device(\"mps\" if torch.backends.mps.is_available() else \"cpu\")\n",
    "print(f\"Using device: {device}\")\n",
    "\n",
    "# Load pre-trained ESM model and move it to GPU\n",
    "esm_model, alphabet = esm.pretrained.esm2_t33_650M_UR50D()  # Example: ESM-2 model\n",
    "batch_converter = alphabet.get_batch_converter()\n",
    "esm_model = esm_model.to(device)\n",
    "esm_model.eval()  # Set to eval mode\n",
    "\n",
    "# Extract ESM embeddings using GPU\n",
    "def extract_esm_embedding(sequence):\n",
    "    batch_labels, batch_strs, batch_tokens = batch_converter([(None, sequence)])\n",
    "    batch_tokens = batch_tokens.to(device)  # Move input to GPU\n",
    "\n",
    "    with torch.no_grad():\n",
    "        results = esm_model(batch_tokens, repr_layers=[33], return_contacts=False)\n",
    "    \n",
    "    token_representations = results[\"representations\"][33]  # Use final layer\n",
    "    sequence_embedding = token_representations.mean(dim=1).squeeze().cpu().numpy()  # Move back to CPU for NumPy\n",
    "    return sequence_embedding"
   ]
  },
  {
   "cell_type": "code",
   "execution_count": 9,
   "metadata": {},
   "outputs": [],
   "source": [
    "df_test = pd.read_csv('test.csv')\n",
    "df_test['Sequence'] = df_test['mutant'].apply(lambda x: seq[:int(x[1:-1])] + x[-1] + seq[int(x[1:-1])+1:])\n",
    "df_test['Embedding'] = df_test['Sequence'].apply(lambda seq: extract_esm_embedding(seq))\n",
    "df_test.to_parquet(\"protein_embeddings_test.parquet\", engine=\"pyarrow\")"
   ]
  },
  {
   "cell_type": "markdown",
   "metadata": {},
   "source": [
    "# Finding Optimal Hyperparams for LightGBM"
   ]
  },
  {
   "cell_type": "code",
   "execution_count": 35,
   "metadata": {},
   "outputs": [
    {
     "name": "stderr",
     "output_type": "stream",
     "text": [
      "[I 2025-03-10 00:15:24,680] A new study created in memory with name: no-name-f5c83e0b-a90a-424a-9b32-5231e3e74cd6\n",
      "/tmp/ipykernel_1518685/3917881178.py:7: FutureWarning: suggest_loguniform has been deprecated in v3.0.0. This feature will be removed in v6.0.0. See https://github.com/optuna/optuna/releases/tag/v3.0.0. Use suggest_float(..., log=True) instead.\n",
      "  \"learning_rate\": trial.suggest_loguniform(\"learning_rate\", 0.01, 0.2),\n",
      "/tmp/ipykernel_1518685/3917881178.py:11: FutureWarning: suggest_uniform has been deprecated in v3.0.0. This feature will be removed in v6.0.0. See https://github.com/optuna/optuna/releases/tag/v3.0.0. Use suggest_float instead.\n",
      "  \"subsample\": trial.suggest_uniform(\"subsample\", 0.5, 1.0),\n",
      "/tmp/ipykernel_1518685/3917881178.py:12: FutureWarning: suggest_uniform has been deprecated in v3.0.0. This feature will be removed in v6.0.0. See https://github.com/optuna/optuna/releases/tag/v3.0.0. Use suggest_float instead.\n",
      "  \"colsample_bytree\": trial.suggest_uniform(\"colsample_bytree\", 0.5, 1.0),\n",
      "[I 2025-03-10 00:15:27,372] Trial 0 finished with value: 0.48682221872956294 and parameters: {'learning_rate': 0.020241813661913466, 'num_leaves': 75, 'min_child_samples': 17, 'max_depth': 9, 'subsample': 0.9668683023238955, 'colsample_bytree': 0.6882141183975881}. Best is trial 0 with value: 0.48682221872956294.\n",
      "[I 2025-03-10 00:15:29,431] Trial 1 finished with value: 0.4819516931547437 and parameters: {'learning_rate': 0.05180092726555603, 'num_leaves': 80, 'min_child_samples': 14, 'max_depth': 6, 'subsample': 0.877212391871884, 'colsample_bytree': 0.8325616995237557}. Best is trial 0 with value: 0.48682221872956294.\n",
      "[I 2025-03-10 00:15:30,595] Trial 2 finished with value: 0.504966837548051 and parameters: {'learning_rate': 0.038174816968474155, 'num_leaves': 69, 'min_child_samples': 41, 'max_depth': 7, 'subsample': 0.5871925776790126, 'colsample_bytree': 0.7109854542671246}. Best is trial 2 with value: 0.504966837548051.\n",
      "[I 2025-03-10 00:15:32,604] Trial 3 finished with value: 0.4797925837506688 and parameters: {'learning_rate': 0.037586611560932966, 'num_leaves': 29, 'min_child_samples': 11, 'max_depth': 5, 'subsample': 0.672983531173312, 'colsample_bytree': 0.9617587881134873}. Best is trial 2 with value: 0.504966837548051.\n",
      "[I 2025-03-10 00:15:34,052] Trial 4 finished with value: 0.4797298101126605 and parameters: {'learning_rate': 0.06811545475964273, 'num_leaves': 44, 'min_child_samples': 33, 'max_depth': 8, 'subsample': 0.5674029240216472, 'colsample_bytree': 0.6874925621861503}. Best is trial 2 with value: 0.504966837548051.\n",
      "[I 2025-03-10 00:15:34,738] Trial 5 finished with value: 0.49182487268760927 and parameters: {'learning_rate': 0.09202036693219687, 'num_leaves': 68, 'min_child_samples': 19, 'max_depth': 3, 'subsample': 0.9529592991835274, 'colsample_bytree': 0.9517242284906431}. Best is trial 2 with value: 0.504966837548051.\n",
      "[I 2025-03-10 00:15:38,473] Trial 6 finished with value: 0.4868039941249798 and parameters: {'learning_rate': 0.031045297341530657, 'num_leaves': 71, 'min_child_samples': 16, 'max_depth': 10, 'subsample': 0.7640926739690383, 'colsample_bytree': 0.919777896145082}. Best is trial 2 with value: 0.504966837548051.\n",
      "[I 2025-03-10 00:15:40,102] Trial 7 finished with value: 0.5140680025812182 and parameters: {'learning_rate': 0.06000700484999641, 'num_leaves': 89, 'min_child_samples': 42, 'max_depth': 4, 'subsample': 0.6636936576304753, 'colsample_bytree': 0.8018144705228454}. Best is trial 7 with value: 0.5140680025812182.\n",
      "[I 2025-03-10 00:15:41,496] Trial 8 finished with value: 0.48647746995953367 and parameters: {'learning_rate': 0.07887704458051503, 'num_leaves': 26, 'min_child_samples': 26, 'max_depth': 10, 'subsample': 0.7442436963420866, 'colsample_bytree': 0.5002563094715652}. Best is trial 7 with value: 0.5140680025812182.\n",
      "[I 2025-03-10 00:15:42,893] Trial 9 finished with value: 0.45069345886072076 and parameters: {'learning_rate': 0.012210661415020831, 'num_leaves': 61, 'min_child_samples': 26, 'max_depth': 5, 'subsample': 0.7298553579863065, 'colsample_bytree': 0.8107527599014115}. Best is trial 7 with value: 0.5140680025812182.\n",
      "[I 2025-03-10 00:15:43,397] Trial 10 finished with value: 0.49880439000390014 and parameters: {'learning_rate': 0.1325912694521299, 'num_leaves': 100, 'min_child_samples': 50, 'max_depth': 3, 'subsample': 0.6391633638403935, 'colsample_bytree': 0.5736304022161385}. Best is trial 7 with value: 0.5140680025812182.\n",
      "[I 2025-03-10 00:15:44,576] Trial 11 finished with value: 0.46168897029249256 and parameters: {'learning_rate': 0.18524250383932483, 'num_leaves': 94, 'min_child_samples': 43, 'max_depth': 7, 'subsample': 0.5206785841733339, 'colsample_bytree': 0.7513777681711267}. Best is trial 7 with value: 0.5140680025812182.\n",
      "[I 2025-03-10 00:15:45,550] Trial 12 finished with value: 0.46551107486477045 and parameters: {'learning_rate': 0.026173463701862253, 'num_leaves': 48, 'min_child_samples': 39, 'max_depth': 5, 'subsample': 0.6245233667459995, 'colsample_bytree': 0.6544527854076914}. Best is trial 7 with value: 0.5140680025812182.\n",
      "[I 2025-03-10 00:15:46,873] Trial 13 finished with value: 0.5186464282436927 and parameters: {'learning_rate': 0.04931791757724383, 'num_leaves': 85, 'min_child_samples': 48, 'max_depth': 7, 'subsample': 0.5749253739933733, 'colsample_bytree': 0.8371746709650121}. Best is trial 13 with value: 0.5186464282436927.\n",
      "[I 2025-03-10 00:15:47,691] Trial 14 finished with value: 0.4772806257523054 and parameters: {'learning_rate': 0.057196341078644436, 'num_leaves': 86, 'min_child_samples': 50, 'max_depth': 4, 'subsample': 0.5171139121784507, 'colsample_bytree': 0.8360391998280103}. Best is trial 13 with value: 0.5186464282436927.\n",
      "[I 2025-03-10 00:15:49,390] Trial 15 finished with value: 0.4875304471132209 and parameters: {'learning_rate': 0.10523239065082168, 'num_leaves': 88, 'min_child_samples': 35, 'max_depth': 8, 'subsample': 0.826777314153152, 'colsample_bytree': 0.8785287473462736}. Best is trial 13 with value: 0.5186464282436927.\n",
      "[I 2025-03-10 00:15:50,582] Trial 16 finished with value: 0.48750867883552446 and parameters: {'learning_rate': 0.020850977354443207, 'num_leaves': 98, 'min_child_samples': 45, 'max_depth': 6, 'subsample': 0.6857520095651832, 'colsample_bytree': 0.7736851707673146}. Best is trial 13 with value: 0.5186464282436927.\n",
      "[I 2025-03-10 00:15:51,761] Trial 17 finished with value: 0.446737200949151 and parameters: {'learning_rate': 0.011840821866313498, 'num_leaves': 56, 'min_child_samples': 33, 'max_depth': 4, 'subsample': 0.5848693398306174, 'colsample_bytree': 0.879938718998974}. Best is trial 13 with value: 0.5186464282436927.\n",
      "[I 2025-03-10 00:15:53,361] Trial 18 finished with value: 0.43029303898606447 and parameters: {'learning_rate': 0.046524799326195826, 'num_leaves': 10, 'min_child_samples': 5, 'max_depth': 8, 'subsample': 0.7916067786302976, 'colsample_bytree': 0.996033691895372}. Best is trial 13 with value: 0.5186464282436927.\n",
      "[I 2025-03-10 00:15:54,167] Trial 19 finished with value: 0.4889296917539859 and parameters: {'learning_rate': 0.1182871336918785, 'num_leaves': 85, 'min_child_samples': 46, 'max_depth': 4, 'subsample': 0.6921295726809694, 'colsample_bytree': 0.7754472857141295}. Best is trial 13 with value: 0.5186464282436927.\n"
     ]
    },
    {
     "name": "stdout",
     "output_type": "stream",
     "text": [
      "Best LightGBM Parameters: {'learning_rate': 0.04931791757724383, 'num_leaves': 85, 'min_child_samples': 48, 'max_depth': 7, 'subsample': 0.5749253739933733, 'colsample_bytree': 0.8371746709650121}\n"
     ]
    }
   ],
   "source": [
    "#Best LightGBM Parameters: {'learning_rate': 0.04931791757724383, 'num_leaves': 85, 'min_child_samples': 48, 'max_depth': 7, 'subsample': 0.5749253739933733, 'colsample_bytree': 0.8371746709650121}\n",
    "import optuna\n",
    "\n",
    "def objective(trial):\n",
    "    params = {\n",
    "        \"objective\": \"regression\",\n",
    "        \"metric\": \"rmse\",\n",
    "        \"learning_rate\": trial.suggest_loguniform(\"learning_rate\", 0.01, 0.2),\n",
    "        \"num_leaves\": trial.suggest_int(\"num_leaves\", 10, 100),\n",
    "        \"min_child_samples\": trial.suggest_int(\"min_child_samples\", 5, 50),\n",
    "        \"max_depth\": trial.suggest_int(\"max_depth\", 3, 10),\n",
    "        \"subsample\": trial.suggest_uniform(\"subsample\", 0.5, 1.0),\n",
    "        \"colsample_bytree\": trial.suggest_uniform(\"colsample_bytree\", 0.5, 1.0),\n",
    "    }\n",
    "\n",
    "    lgb_train = lgb.Dataset(X_train.cpu().numpy(), label=y_train.cpu().numpy().flatten())\n",
    "    lgb_model = lgb.train(params, lgb_train, num_boost_round=100)\n",
    "    \n",
    "    y_pred = lgb_model.predict(X_test.cpu().numpy())\n",
    "    spearman_corr, _ = spearmanr(y_test.cpu().numpy().flatten(), y_pred)\n",
    "    \n",
    "    return spearman_corr\n",
    "\n",
    "# Run Bayesian Optimization\n",
    "study = optuna.create_study(direction=\"maximize\")\n",
    "study.optimize(objective, n_trials=20)\n",
    "\n",
    "# Best parameters\n",
    "print(\"Best LightGBM Parameters:\", study.best_params)\n"
   ]
  },
  {
   "cell_type": "markdown",
   "metadata": {},
   "source": [
    "# Best Beta\n",
    "There is not much difference amongst the top options, so we just use 1.5 for simplicity."
   ]
  },
  {
   "cell_type": "code",
   "execution_count": 67,
   "metadata": {},
   "outputs": [
    {
     "name": "stderr",
     "output_type": "stream",
     "text": [
      "[I 2025-03-17 16:03:03,560] A new study created in memory with name: no-name-851416c2-c7fe-49b6-80d7-f0afdc401062\n",
      "/var/folders/2t/mfs621pj7r38pl663d60tjmw0000gn/T/ipykernel_44873/4085903822.py:6: FutureWarning: suggest_uniform has been deprecated in v3.0.0. This feature will be removed in v6.0.0. See https://github.com/optuna/optuna/releases/tag/v3.0.0. Use suggest_float instead.\n",
      "  beta = trial.suggest_uniform(\"beta\", 0.1, 5.0)  # Search range\n",
      "[I 2025-03-17 16:03:03,563] Trial 0 finished with value: 0.6385678700732556 and parameters: {'beta': 3.3069204246460018}. Best is trial 0 with value: 0.6385678700732556.\n",
      "[I 2025-03-17 16:03:03,564] Trial 1 finished with value: 0.6579983359928808 and parameters: {'beta': 1.4317035811412975}. Best is trial 1 with value: 0.6579983359928808.\n",
      "[I 2025-03-17 16:03:03,565] Trial 2 finished with value: 0.6536122811565609 and parameters: {'beta': 1.8821328093500957}. Best is trial 1 with value: 0.6579983359928808.\n",
      "[I 2025-03-17 16:03:03,566] Trial 3 finished with value: 0.6241623326283892 and parameters: {'beta': 4.752371274581152}. Best is trial 1 with value: 0.6579983359928808.\n",
      "[I 2025-03-17 16:03:03,567] Trial 4 finished with value: 0.6446123639266328 and parameters: {'beta': 2.8106424962011256}. Best is trial 1 with value: 0.6579983359928808.\n",
      "[I 2025-03-17 16:03:03,567] Trial 5 finished with value: 0.6608970605996177 and parameters: {'beta': 1.0642573616828532}. Best is trial 5 with value: 0.6608970605996177.\n",
      "[I 2025-03-17 16:03:03,568] Trial 6 finished with value: 0.6490034811531147 and parameters: {'beta': 2.3524158730949294}. Best is trial 5 with value: 0.6608970605996177.\n",
      "[I 2025-03-17 16:03:03,569] Trial 7 finished with value: 0.6229402716432927 and parameters: {'beta': 4.851141237831299}. Best is trial 5 with value: 0.6608970605996177.\n",
      "[I 2025-03-17 16:03:03,569] Trial 8 finished with value: 0.6287427832469283 and parameters: {'beta': 4.387212695418065}. Best is trial 5 with value: 0.6608970605996177.\n",
      "[I 2025-03-17 16:03:03,570] Trial 9 finished with value: 0.6671637933811049 and parameters: {'beta': 0.37561081263440704}. Best is trial 9 with value: 0.6671637933811049.\n",
      "[I 2025-03-17 16:03:03,573] Trial 10 finished with value: 0.6681489345066218 and parameters: {'beta': 0.20284907395723925}. Best is trial 10 with value: 0.6681489345066218.\n",
      "[I 2025-03-17 16:03:03,576] Trial 11 finished with value: 0.6685331699199144 and parameters: {'beta': 0.13374529596000917}. Best is trial 11 with value: 0.6685331699199144.\n",
      "[I 2025-03-17 16:03:03,578] Trial 12 finished with value: 0.6683453552449058 and parameters: {'beta': 0.18263735555127378}. Best is trial 11 with value: 0.6685331699199144.\n",
      "[I 2025-03-17 16:03:03,580] Trial 13 finished with value: 0.6620006616549244 and parameters: {'beta': 0.886558610587969}. Best is trial 11 with value: 0.6685331699199144.\n",
      "[I 2025-03-17 16:03:03,611] Trial 14 finished with value: 0.6683418115717924 and parameters: {'beta': 0.1933562235288623}. Best is trial 11 with value: 0.6685331699199144.\n",
      "[I 2025-03-17 16:03:03,625] Trial 15 finished with value: 0.6615237845016682 and parameters: {'beta': 0.9762844956129665}. Best is trial 11 with value: 0.6685331699199144.\n",
      "[I 2025-03-17 16:03:03,628] Trial 16 finished with value: 0.6553279251824483 and parameters: {'beta': 1.6830032040180354}. Best is trial 11 with value: 0.6685331699199144.\n",
      "[I 2025-03-17 16:03:03,631] Trial 17 finished with value: 0.6375118554854712 and parameters: {'beta': 3.464843564378355}. Best is trial 11 with value: 0.6685331699199144.\n",
      "[I 2025-03-17 16:03:03,639] Trial 18 finished with value: 0.6640934537478776 and parameters: {'beta': 0.6801078197750283}. Best is trial 11 with value: 0.6685331699199144.\n",
      "[I 2025-03-17 16:03:03,641] Trial 19 finished with value: 0.652110269995508 and parameters: {'beta': 2.02926563529833}. Best is trial 11 with value: 0.6685331699199144.\n",
      "[I 2025-03-17 16:03:03,643] Trial 20 finished with value: 0.657287576414142 and parameters: {'beta': 1.476234710072379}. Best is trial 11 with value: 0.6685331699199144.\n",
      "[I 2025-03-17 16:03:03,645] Trial 21 finished with value: 0.668472927476987 and parameters: {'beta': 0.15948596625259193}. Best is trial 11 with value: 0.6685331699199144.\n",
      "[I 2025-03-17 16:03:03,648] Trial 22 finished with value: 0.666015643292373 and parameters: {'beta': 0.526927985454233}. Best is trial 11 with value: 0.6685331699199144.\n",
      "[I 2025-03-17 16:03:03,650] Trial 23 finished with value: 0.6603042547116525 and parameters: {'beta': 1.1368151616188167}. Best is trial 11 with value: 0.6685331699199144.\n",
      "[I 2025-03-17 16:03:03,653] Trial 24 finished with value: 0.6684526779163393 and parameters: {'beta': 0.1802161053092307}. Best is trial 11 with value: 0.6685331699199144.\n",
      "[I 2025-03-17 16:03:03,655] Trial 25 finished with value: 0.6640954787039425 and parameters: {'beta': 0.6673265871009065}. Best is trial 11 with value: 0.6685331699199144.\n",
      "[I 2025-03-17 16:03:03,657] Trial 26 finished with value: 0.6588437551499278 and parameters: {'beta': 1.2559564818317748}. Best is trial 11 with value: 0.6685331699199144.\n",
      "[I 2025-03-17 16:03:03,659] Trial 27 finished with value: 0.6650851759806052 and parameters: {'beta': 0.6367844104072098}. Best is trial 11 with value: 0.6685331699199144.\n",
      "[I 2025-03-17 16:03:03,662] Trial 28 finished with value: 0.6685539257195784 and parameters: {'beta': 0.11252458660094038}. Best is trial 28 with value: 0.6685539257195784.\n",
      "[I 2025-03-17 16:03:03,664] Trial 29 finished with value: 0.6360959049571716 and parameters: {'beta': 3.5476487947952866}. Best is trial 28 with value: 0.6685539257195784.\n",
      "[I 2025-03-17 16:03:03,667] Trial 30 finished with value: 0.6430050550502112 and parameters: {'beta': 2.9760571818073918}. Best is trial 28 with value: 0.6685539257195784.\n",
      "[I 2025-03-17 16:03:03,669] Trial 31 finished with value: 0.6684855834523921 and parameters: {'beta': 0.13654388345756283}. Best is trial 28 with value: 0.6685539257195784.\n",
      "[I 2025-03-17 16:03:03,671] Trial 32 finished with value: 0.6665466880203623 and parameters: {'beta': 0.45254418338948393}. Best is trial 28 with value: 0.6685539257195784.\n",
      "[I 2025-03-17 16:03:03,673] Trial 33 finished with value: 0.6627347082284083 and parameters: {'beta': 0.8491870086561186}. Best is trial 28 with value: 0.6685539257195784.\n",
      "[I 2025-03-17 16:03:03,675] Trial 34 finished with value: 0.6687159222047611 and parameters: {'beta': 0.11837353963334064}. Best is trial 34 with value: 0.6687159222047611.\n",
      "[I 2025-03-17 16:03:03,678] Trial 35 finished with value: 0.6575862574336976 and parameters: {'beta': 1.3364264166198438}. Best is trial 34 with value: 0.6687159222047611.\n",
      "[I 2025-03-17 16:03:03,680] Trial 36 finished with value: 0.6310856574138823 and parameters: {'beta': 4.138802078317221}. Best is trial 34 with value: 0.6687159222047611.\n",
      "[I 2025-03-17 16:03:03,682] Trial 37 finished with value: 0.6663826665791149 and parameters: {'beta': 0.4715550727633027}. Best is trial 34 with value: 0.6687159222047611.\n",
      "[I 2025-03-17 16:03:03,684] Trial 38 finished with value: 0.6515777065504702 and parameters: {'beta': 2.06681850393121}. Best is trial 34 with value: 0.6687159222047611.\n",
      "[I 2025-03-17 16:03:03,687] Trial 39 finished with value: 0.6557202604199999 and parameters: {'beta': 1.6005176712312592}. Best is trial 34 with value: 0.6687159222047611.\n",
      "[I 2025-03-17 16:03:03,689] Trial 40 finished with value: 0.6632196852059238 and parameters: {'beta': 0.7970536800113159}. Best is trial 34 with value: 0.6687159222047611.\n",
      "[I 2025-03-17 16:03:03,691] Trial 41 finished with value: 0.6684152162291407 and parameters: {'beta': 0.1491076644971879}. Best is trial 34 with value: 0.6687159222047611.\n",
      "[I 2025-03-17 16:03:03,693] Trial 42 finished with value: 0.6669359858238169 and parameters: {'beta': 0.39093209638102977}. Best is trial 34 with value: 0.6687159222047611.\n",
      "[I 2025-03-17 16:03:03,695] Trial 43 finished with value: 0.6667881640310876 and parameters: {'beta': 0.4052508909681628}. Best is trial 34 with value: 0.6687159222047611.\n",
      "[I 2025-03-17 16:03:03,698] Trial 44 finished with value: 0.6685539257195784 and parameters: {'beta': 0.11231763957293317}. Best is trial 34 with value: 0.6687159222047611.\n",
      "[I 2025-03-17 16:03:03,701] Trial 45 finished with value: 0.6608859233412614 and parameters: {'beta': 1.0535156151243967}. Best is trial 34 with value: 0.6687159222047611.\n",
      "[I 2025-03-17 16:03:03,703] Trial 46 finished with value: 0.6650689763320868 and parameters: {'beta': 0.6030950139749897}. Best is trial 34 with value: 0.6687159222047611.\n",
      "[I 2025-03-17 16:03:03,705] Trial 47 finished with value: 0.6673592016413564 and parameters: {'beta': 0.3260773758855179}. Best is trial 34 with value: 0.6687159222047611.\n",
      "[I 2025-03-17 16:03:03,707] Trial 48 finished with value: 0.6687159222047611 and parameters: {'beta': 0.12021944913527083}. Best is trial 34 with value: 0.6687159222047611.\n",
      "[I 2025-03-17 16:03:03,709] Trial 49 finished with value: 0.6481185753528046 and parameters: {'beta': 2.4593301918713544}. Best is trial 34 with value: 0.6687159222047611.\n"
     ]
    },
    {
     "name": "stdout",
     "output_type": "stream",
     "text": [
      "Optimized Beta: 0.1184\n"
     ]
    }
   ],
   "source": [
    "import optuna\n",
    "from scipy.stats import spearmanr\n",
    "\n",
    "# Function to optimize beta\n",
    "def optimize_beta(trial):\n",
    "    beta = trial.suggest_uniform(\"beta\", 0.1, 5.0)  # Search range\n",
    "\n",
    "    # Compute UCB scores with candidate beta\n",
    "    mean_pred = y_pred_stacked\n",
    "\n",
    "    ucb_scores = mean_pred + beta * std_pred\n",
    "\n",
    "\n",
    "    # Compute Spearman correlation on these selected samples\n",
    "    spearman_corr, _ = spearmanr(y_test.cpu().numpy().flatten(), ucb_scores)\n",
    "\n",
    "    return spearman_corr\n",
    "\n",
    "# Run optimization\n",
    "study = optuna.create_study(direction=\"maximize\")\n",
    "study.optimize(optimize_beta, n_trials=50)\n",
    "\n",
    "# Get best beta value\n",
    "best_beta = study.best_params[\"beta\"]\n",
    "print(f\"Optimized Beta: {best_beta:.4f}\")"
   ]
  }
 ],
 "metadata": {
  "kernelspec": {
   "display_name": "compbiohack",
   "language": "python",
   "name": "python3"
  },
  "language_info": {
   "codemirror_mode": {
    "name": "ipython",
    "version": 3
   },
   "file_extension": ".py",
   "mimetype": "text/x-python",
   "name": "python",
   "nbconvert_exporter": "python",
   "pygments_lexer": "ipython3",
   "version": "3.13.2"
  }
 },
 "nbformat": 4,
 "nbformat_minor": 2
}
