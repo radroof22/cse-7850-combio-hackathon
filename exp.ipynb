{
 "cells": [
  {
   "cell_type": "markdown",
   "metadata": {},
   "source": [
    "# Preprocessing Data to `protein_embeddings.parquet`\n",
    "The following cells were used to first preprocess the train.csv file to create the mutated sequences. Then, we run the ESM model to get the embeddings and store these in a parquet file for later use."
   ]
  },
  {
   "cell_type": "code",
   "execution_count": 1,
   "metadata": {},
   "outputs": [],
   "source": [
    "import pandas as pd"
   ]
  },
  {
   "cell_type": "code",
   "execution_count": 81,
   "metadata": {},
   "outputs": [],
   "source": [
    "df = pd.read_csv('train.csv')\n",
    "\n",
    "# get the sequence\n",
    "seq = open('sequence.fasta', 'r').read()\n",
    "seq = seq.split(\"\\n\")[1]\n",
    "\n",
    "# create each mutated sequence using the info\n",
    "sequences = []\n",
    "for i in df['mutant']:\n",
    "    ind = int(i[1:-1])\n",
    "    tmp = seq[:ind] + i[-1] + seq[ind+1:]\n",
    "    sequences.append(tmp)\n",
    "df['Sequence'] = sequences"
   ]
  },
  {
   "cell_type": "code",
   "execution_count": 2,
   "metadata": {},
   "outputs": [
    {
     "name": "stdout",
     "output_type": "stream",
     "text": [
      "Using device: cuda\n"
     ]
    }
   ],
   "source": [
    "import torch\n",
    "import esm\n",
    "\n",
    "# Check for GPU\n",
    "device = 'cpu'\n",
    "if torch.cuda.is_available():\n",
    "    device='cuda'\n",
    "elif torch.mps.is_available():\n",
    "    device='mps'\n",
    "print(f\"Using device: {device}\")\n",
    "\n",
    "# Load pre-trained ESM model and move it to GPU\n",
    "esm_model, alphabet = esm.pretrained.esm2_t33_650M_UR50D()  # Example: ESM-2 model\n",
    "batch_converter = alphabet.get_batch_converter()\n",
    "esm_model = esm_model.to(device)\n",
    "esm_model.eval()  # Set to eval mode\n",
    "\n",
    "# Extract ESM embeddings using GPU\n",
    "def extract_esm_embedding(sequence):\n",
    "    batch_labels, batch_strs, batch_tokens = batch_converter([(None, sequence)])\n",
    "    batch_tokens = batch_tokens.to(device)  # Move input to GPU\n",
    "\n",
    "    with torch.no_grad():\n",
    "        results = esm_model(batch_tokens, repr_layers=[33], return_contacts=False)\n",
    "    \n",
    "    token_representations = results[\"representations\"][33]  # Use final layer\n",
    "    sequence_embedding = token_representations.mean(dim=1).squeeze().cpu().numpy()  # Move back to CPU for NumPy\n",
    "    return sequence_embedding"
   ]
  },
  {
   "cell_type": "code",
   "execution_count": 4,
   "metadata": {},
   "outputs": [],
   "source": [
    "df_query2 = pd.read_csv('query2.csv')\n",
    "df_query2.rename(columns={\"sequence\": \"Sequence\"}, inplace=True)\n",
    "df_query2['Embedding'] = df_query2['Sequence'].apply(lambda seq: extract_esm_embedding(seq))"
   ]
  },
  {
   "cell_type": "code",
   "execution_count": 6,
   "metadata": {},
   "outputs": [],
   "source": [
    "df = pd.concat([df, df_query2], ignore_index=True)"
   ]
  },
  {
   "cell_type": "code",
   "execution_count": 54,
   "metadata": {},
   "outputs": [],
   "source": [
    "# load and merge in query 1 results\n",
    "df_query1 = pd.read_csv('query1.csv')\n",
    "df_query1.rename(columns={\"sequence\": \"Sequence\"}, inplace=True)\n",
    "\n",
    "df = pd.concat([df, df_query1], ignore_index=True)"
   ]
  },
  {
   "cell_type": "code",
   "execution_count": 43,
   "metadata": {},
   "outputs": [],
   "source": [
    "# Apply embedding extraction\n",
    "df[\"Embedding\"] = df[\"Sequence\"].apply(lambda seq: extract_esm_embedding(seq))\n",
    "\n",
    "df.to_parquet(\"protein_embeddings.parquet\", engine=\"pyarrow\")"
   ]
  },
  {
   "cell_type": "code",
   "execution_count": 5,
   "metadata": {},
   "outputs": [],
   "source": [
    "df = pd.read_parquet('protein_embeddings.parquet')"
   ]
  },
  {
   "cell_type": "code",
   "execution_count": 11,
   "metadata": {},
   "outputs": [],
   "source": [
    "df.to_parquet('protein_embeddings_q2.parquet')"
   ]
  },
  {
   "cell_type": "markdown",
   "metadata": {},
   "source": [
    "# Training Models\n",
    "We initially train a MLP, LightGBM, and XGBoost."
   ]
  },
  {
   "cell_type": "code",
   "execution_count": 2,
   "metadata": {},
   "outputs": [],
   "source": [
    "df = pd.read_parquet('protein_embeddings_q2.parquet')"
   ]
  },
  {
   "cell_type": "code",
   "execution_count": 3,
   "metadata": {},
   "outputs": [],
   "source": [
    "import pandas as pd\n",
    "import numpy as np\n",
    "\n",
    "# --- Define Amino Acid Properties ---\n",
    "# (Expanded example with more properties)\n",
    "\n",
    "# Sources for values can include textbooks, review articles, or online databases like AAindex.\n",
    "# Make sure to note the scale/source if it matters (e.g., different hydrophobicity scales exist).\n",
    "aa_properties = {\n",
    "    # AA: {prop1: val1, prop2: val2, ...}\n",
    "    'A': {'hydro_KD': 1.8,  'volume': 88.6,  'charge': 0, 'polarity': 8.1, 'flexibility': 0.357},\n",
    "    'R': {'hydro_KD': -4.5, 'volume': 173.4, 'charge': 1, 'polarity': 10.5, 'flexibility': 0.529},\n",
    "    'N': {'hydro_KD': -3.5, 'volume': 114.1, 'charge': 0, 'polarity': 11.6, 'flexibility': 0.463},\n",
    "    'D': {'hydro_KD': -3.5, 'volume': 111.1, 'charge': -1, 'polarity': 13.0, 'flexibility': 0.511},\n",
    "    'C': {'hydro_KD': 2.5,  'volume': 108.5, 'charge': 0, 'polarity': 5.5, 'flexibility': 0.346},\n",
    "    'Q': {'hydro_KD': -3.5, 'volume': 143.8, 'charge': 0, 'polarity': 10.5, 'flexibility': 0.493},\n",
    "    'E': {'hydro_KD': -3.5, 'volume': 138.4, 'charge': -1, 'polarity': 12.3, 'flexibility': 0.497},\n",
    "    'G': {'hydro_KD': -0.4, 'volume': 60.1,  'charge': 0, 'polarity': 9.0, 'flexibility': 0.544},\n",
    "    'H': {'hydro_KD': -3.2, 'volume': 153.2, 'charge': 0, 'polarity': 10.4, 'flexibility': 0.323}, # Note: Charge is pH dependent; 0 here is simplified neutral form\n",
    "    'I': {'hydro_KD': 4.5,  'volume': 166.7, 'charge': 0, 'polarity': 5.2, 'flexibility': 0.462},\n",
    "    'L': {'hydro_KD': 3.8,  'volume': 166.7, 'charge': 0, 'polarity': 4.9, 'flexibility': 0.365},\n",
    "    'K': {'hydro_KD': -3.9, 'volume': 168.6, 'charge': 1, 'polarity': 11.3, 'flexibility': 0.466},\n",
    "    'M': {'hydro_KD': 1.9,  'volume': 162.9, 'charge': 0, 'polarity': 5.7, 'flexibility': 0.295},\n",
    "    'F': {'hydro_KD': 2.8,  'volume': 189.9, 'charge': 0, 'polarity': 5.2, 'flexibility': 0.314},\n",
    "    'P': {'hydro_KD': -1.6, 'volume': 112.7, 'charge': 0, 'polarity': 8.0, 'flexibility': 0.509}, # Proline is conformationally restricted\n",
    "    'S': {'hydro_KD': -0.8, 'volume': 89.0,  'charge': 0, 'polarity': 9.2, 'flexibility': 0.507},\n",
    "    'T': {'hydro_KD': -0.7, 'volume': 116.1, 'charge': 0, 'polarity': 8.6, 'flexibility': 0.444},\n",
    "    'W': {'hydro_KD': -0.9, 'volume': 227.8, 'charge': 0, 'polarity': 5.4, 'flexibility': 0.305},\n",
    "    'Y': {'hydro_KD': -1.3, 'volume': 193.6, 'charge': 0, 'polarity': 6.2, 'flexibility': 0.420},\n",
    "    'V': {'hydro_KD': 4.2,  'volume': 140.0, 'charge': 0, 'polarity': 5.9, 'flexibility': 0.386},\n",
    "    # Handle non-standard/unknown amino acids if necessary\n",
    "    'X': {'hydro_KD': np.nan, 'volume': np.nan, 'charge': np.nan, 'polarity': np.nan, 'flexibility': np.nan},\n",
    "    '-': {'hydro_KD': np.nan, 'volume': np.nan, 'charge': np.nan, 'polarity': np.nan, 'flexibility': np.nan} # Gap character\n",
    "}\n",
    "\n",
    "# --- How to use it in your feature engineering function ---\n",
    "# (Integrating with the previous code example structure)\n",
    "\n",
    "def calculate_features_with_props(row, properties_dict):\n",
    "    wt_aa = row['WT_AA']\n",
    "    mut_aa = row['Mutant_AA']\n",
    "    features = {}\n",
    "\n",
    "    # Get properties\n",
    "    wt_props = properties_dict.get(wt_aa, properties_dict.get('X')) # Default to 'X' if AA not found\n",
    "    mut_props = properties_dict.get(mut_aa, properties_dict.get('X'))\n",
    "\n",
    "    # Create features for each property\n",
    "    for prop_name in wt_props.keys(): # Iterate through property names (hydro_KD, volume, etc.)\n",
    "        wt_val = wt_props[prop_name]\n",
    "        mut_val = mut_props.get(prop_name, np.nan) # Get corresponding mutant prop\n",
    "\n",
    "        features[f'wt_{prop_name}'] = wt_val\n",
    "        features[f'mut_{prop_name}'] = mut_val\n",
    "\n",
    "        # Calculate the difference (Delta feature)\n",
    "        if pd.notna(wt_val) and pd.notna(mut_val):\n",
    "            features[f'delta_{prop_name}'] = mut_val - wt_val\n",
    "        else:\n",
    "            features[f'delta_{prop_name}'] = np.nan\n",
    "\n",
    "    # ... add other features like position, one-hot encoding, etc. ...\n",
    "    features['position'] = row['Position']\n",
    "\n",
    "    return pd.Series(features)\n",
    "\n",
    "# --- Example Usage with your DataFrame 'df' ---\n",
    "# Assuming df has 'WT_AA' and 'Mutant_AA' columns\n",
    "\n",
    "# df = pd.read_csv('../train.csv')\n",
    "\n",
    "def add_physical(df):\n",
    "    df['WT_AA'] = df[\"mutant\"].apply(lambda seq: seq[0])\n",
    "    df['Mutant_AA'] = df[\"mutant\"].apply(lambda seq: seq[-1])\n",
    "    df['Position'] = df[\"mutant\"].apply(lambda seq: int(seq[1:-1]))\n",
    "\n",
    "    feature_df = df.apply(lambda row: calculate_features_with_props(row, aa_properties), axis=1)\n",
    "    return feature_df\n",
    "\n",
    "# # ... proceed with combining features, handling NaNs, splitting data, training ...\n",
    "# print(feature_df.head())\n"
   ]
  },
  {
   "cell_type": "code",
   "execution_count": 4,
   "metadata": {},
   "outputs": [],
   "source": [
    "feature_df = add_physical(df)\n",
    "df = pd.concat((df, feature_df),axis=1)"
   ]
  },
  {
   "cell_type": "code",
   "execution_count": 5,
   "metadata": {},
   "outputs": [
    {
     "data": {
      "text/plain": [
       "(1340, 23)"
      ]
     },
     "execution_count": 5,
     "metadata": {},
     "output_type": "execute_result"
    }
   ],
   "source": [
    "df.shape"
   ]
  },
  {
   "cell_type": "code",
   "execution_count": 6,
   "metadata": {},
   "outputs": [
    {
     "data": {
      "text/plain": [
       "Text(0.5, 1.0, 'Total Dataset Labels')"
      ]
     },
     "execution_count": 6,
     "metadata": {},
     "output_type": "execute_result"
    },
    {
     "data": {
      "image/png": "[encoded data removed]",
      "text/plain": [
       "<Figure size 640x480 with 1 Axes>"
      ]
     },
     "metadata": {},
     "output_type": "display_data"
    }
   ],
   "source": [
    "import matplotlib.pyplot as plt\n",
    "plt.hist(df.DMS_score)\n",
    "plt.title(\"Total Dataset Labels\")"
   ]
  },
  {
   "cell_type": "code",
   "execution_count": 7,
   "metadata": {},
   "outputs": [],
   "source": [
    "import torch\n",
    "import numpy as np\n",
    "import pandas as pd\n",
    "from sklearn.model_selection import train_test_split\n",
    "import torch.nn as nn\n",
    "import torch.optim as optim\n",
    "\n",
    "# Check for GPU\n",
    "device = torch.device(\"cuda\" if torch.cuda.is_available() else \"cpu\")\n",
    "\n",
    "X = np.vstack(df[\"Embedding\"].values)\n",
    "X = np.concatenate((X,feature_df.values), axis=1)\n",
    "y = df[\"DMS_score\"].values\n",
    "\n",
    "# Convert to PyTorch tensors and move to GPU\n",
    "X_tensor = torch.tensor(X, dtype=torch.float32, device=device)\n",
    "y_tensor = torch.tensor(y, dtype=torch.float32, device=device).view(-1, 1)  # Reshape for MLP\n",
    "\n",
    "# Train/test split\n",
    "X_train, X_test, y_train, y_test = train_test_split(X_tensor, y_tensor, test_size=0.2, random_state=42)\n"
   ]
  },
  {
   "cell_type": "code",
   "execution_count": 8,
   "metadata": {},
   "outputs": [
    {
     "data": {
      "text/plain": [
       "(1340, 1296)"
      ]
     },
     "execution_count": 8,
     "metadata": {},
     "output_type": "execute_result"
    }
   ],
   "source": [
    "X.shape"
   ]
  },
  {
   "cell_type": "markdown",
   "metadata": {},
   "source": [
    "## MLP"
   ]
  },
  {
   "cell_type": "code",
   "execution_count": null,
   "metadata": {},
   "outputs": [],
   "source": [
    "from scipy.stats import spearmanr\n",
    "\n",
    "# Define a simple MLP regression model using GPU\n",
    "class MLPRegressor(nn.Module):\n",
    "    def __init__(self, input_dim):\n",
    "        super(MLPRegressor, self).__init__()\n",
    "        self.model = nn.Sequential(\n",
    "            nn.Linear(input_dim, 512),\n",
    "            nn.ReLU(),\n",
    "            nn.Linear(512, 512),\n",
    "            nn.ReLU(),\n",
    "            nn.Linear(512, 256),\n",
    "            nn.ReLU(),\n",
    "            nn.Linear(256, 64),\n",
    "            nn.ReLU(),\n",
    "            nn.Linear(64, 1)  # Single output value\n",
    "        )\n",
    "\n",
    "    def forward(self, x):\n",
    "        return self.model(x)\n",
    "\n",
    "# Initialize model, loss function, and optimizer\n",
    "model = MLPRegressor(input_dim=X.shape[1]).to(device)\n",
    "criterion = nn.MSELoss()\n",
    "optimizer = optim.Adam(model.parameters(), lr=0.00005)\n",
    "\n",
    "# Training loop\n",
    "epochs = 40000\n",
    "for epoch in range(epochs):\n",
    "    model.train()\n",
    "    optimizer.zero_grad()\n",
    "    predictions = model(X_train)\n",
    "    loss = criterion(predictions, y_train)\n",
    "    loss.backward()\n",
    "    optimizer.step()\n",
    "\n",
    "    if (epoch + 1) % 1000 == 0:\n",
    "        print(f\"Epoch {epoch+1}/{epochs}, Loss: {loss.item():.4f}\")\n",
    "\n",
    "# Evaluate on test set\n",
    "model.eval()\n",
    "with torch.no_grad():\n",
    "    test_predictions = model(X_test)\n",
    "    test_loss = criterion(test_predictions, y_test)\n",
    "print(f\"Test MSE: {test_loss.item():.4f}\")\n",
    "\n",
    "spearman_corr_xgb, _ = spearmanr(y_test.cpu().numpy().flatten(), test_predictions.cpu().numpy().flatten())\n",
    "print(f\"MLP Spearman Correlation: {spearman_corr_xgb:.4f}\")"
   ]
  },
  {
   "cell_type": "markdown",
   "metadata": {},
   "source": [
    "modified MLP:"
   ]
  },
  {
   "cell_type": "code",
   "execution_count": 9,
   "metadata": {},
   "outputs": [
    {
     "name": "stderr",
     "output_type": "stream",
     "text": [
      "/home/hice1/savunuri3/.conda/envs/compbiohack/lib/python3.13/site-packages/torch/optim/lr_scheduler.py:62: UserWarning: The verbose parameter is deprecated. Please use get_last_lr() to access the learning rate.\n",
      "  warnings.warn(\n"
     ]
    },
    {
     "name": "stdout",
     "output_type": "stream",
     "text": [
      "Epoch 1000/40000, Loss: -0.8678\n",
      "Epoch 2000/40000, Loss: -0.8678\n",
      "Epoch 3000/40000, Loss: -0.8694\n",
      "Epoch 4000/40000, Loss: -0.8656\n",
      "Epoch 5000/40000, Loss: -0.8669\n",
      "Epoch 6000/40000, Loss: -0.8695\n",
      "Epoch 7000/40000, Loss: -0.8700\n",
      "Epoch 8000/40000, Loss: -0.8685\n",
      "Epoch 9000/40000, Loss: -0.8707\n",
      "Epoch 10000/40000, Loss: -0.8697\n",
      "Epoch 11000/40000, Loss: -0.8679\n",
      "Epoch 12000/40000, Loss: -0.8707\n",
      "Epoch 13000/40000, Loss: -0.8651\n",
      "Epoch 14000/40000, Loss: -0.8704\n",
      "Epoch 15000/40000, Loss: -0.8683\n",
      "Early stopping triggered.\n",
      "Test Spearman Loss: -0.8746\n",
      "MLP Spearman Correlation: 0.5604\n"
     ]
    }
   ],
   "source": [
    "import torch\n",
    "import torch.nn as nn\n",
    "import torch.optim as optim\n",
    "from scipy.stats import spearmanr\n",
    "\n",
    "# Define a more robust MLP regression model\n",
    "class MLPRegressor(nn.Module):\n",
    "    def __init__(self, input_dim):\n",
    "        super(MLPRegressor, self).__init__()\n",
    "        self.model = nn.Sequential(\n",
    "            nn.Linear(input_dim, 512),\n",
    "            nn.BatchNorm1d(512),  # Normalization to stabilize training\n",
    "            nn.ReLU(),\n",
    "            nn.Dropout(0.2),  # Prevent overfitting\n",
    "            nn.Linear(512, 512),\n",
    "            nn.BatchNorm1d(512),\n",
    "            nn.ReLU(),\n",
    "            nn.Dropout(0.2),\n",
    "            nn.Linear(512, 256),\n",
    "            nn.BatchNorm1d(256),\n",
    "            nn.ReLU(),\n",
    "            nn.Linear(256, 64),\n",
    "            nn.ReLU(),\n",
    "            nn.Linear(64, 1)\n",
    "        )\n",
    "\n",
    "    def forward(self, x):\n",
    "        return self.model(x)\n",
    "\n",
    "# Custom Spearman-friendly loss function\n",
    "def spearman_loss(y_pred, y_true):\n",
    "    return -torch.cosine_similarity(y_pred.view(1, -1), y_true.view(1, -1))\n",
    "\n",
    "# Initialize model, loss function, and optimizer\n",
    "model = MLPRegressor(input_dim=X.shape[1]).to(device)\n",
    "optimizer = optim.Adam(model.parameters(), lr=0.00005, weight_decay=1e-5)  # Weight decay added\n",
    "scheduler = optim.lr_scheduler.ReduceLROnPlateau(optimizer, mode='min', factor=0.5, patience=10, verbose=True)\n",
    "\n",
    "# Training loop\n",
    "epochs = 40000\n",
    "best_val_loss = float('inf')\n",
    "patience, patience_counter = 5000, 0  # Early stopping\n",
    "\n",
    "for epoch in range(epochs):\n",
    "    model.train()\n",
    "    optimizer.zero_grad()\n",
    "    \n",
    "    predictions = model(X_train)\n",
    "    loss = spearman_loss(predictions, y_train)  # Rank-based loss\n",
    "    loss.backward()\n",
    "    optimizer.step()\n",
    "    \n",
    "    # Learning rate scheduling\n",
    "    scheduler.step(loss)\n",
    "\n",
    "    if (epoch + 1) % 1000 == 0:\n",
    "        print(f\"Epoch {epoch+1}/{epochs}, Loss: {loss.item():.4f}\")\n",
    "\n",
    "    # Early stopping\n",
    "    if loss.item() < best_val_loss:\n",
    "        best_val_loss = loss.item()\n",
    "        patience_counter = 0\n",
    "    else:\n",
    "        patience_counter += 1\n",
    "        if patience_counter >= patience:\n",
    "            print(\"Early stopping triggered.\")\n",
    "            break\n",
    "\n",
    "# Evaluate on test set\n",
    "model.eval()\n",
    "with torch.no_grad():\n",
    "    test_predictions = model(X_test)\n",
    "    test_loss = spearman_loss(test_predictions, y_test)\n",
    "\n",
    "print(f\"Test Spearman Loss: {test_loss.item():.4f}\")\n",
    "\n",
    "# Compute Spearman correlation\n",
    "spearman_corr, _ = spearmanr(y_test.cpu().numpy().flatten(), test_predictions.cpu().numpy().flatten())\n",
    "print(f\"MLP Spearman Correlation: {spearman_corr:.4f}\")\n"
   ]
  },
  {
   "cell_type": "code",
   "execution_count": 10,
   "metadata": {},
   "outputs": [],
   "source": [
    "df_test = pd.read_parquet('protein_embeddings_test.parquet')\n",
    "X_unlabeled = df_test['Embedding'].values\n",
    "X_unlabeled = np.vstack(X_unlabeled)\n",
    "feature_df_test = add_physical(df_test)\n",
    "X_unlabeled = np.concatenate((X_unlabeled, feature_df_test),axis=1)\n",
    "\n",
    "X_unlabeled = torch.tensor(X_unlabeled, dtype=torch.float32, device=device)\n"
   ]
  },
  {
   "cell_type": "markdown",
   "metadata": {},
   "source": [
    "Predictions for MLP --> Go to Test Set Predictions after running Generating protein_embeddings_test.parquet section"
   ]
  },
  {
   "cell_type": "code",
   "execution_count": 11,
   "metadata": {},
   "outputs": [
    {
     "data": {
      "text/plain": [
       "(array([ 200.,  706., 2015., 1491., 1168.,  889., 2189., 2149.,  411.,\n",
       "         106.]),\n",
       " array([-0.10231828,  0.0880535 ,  0.27842528,  0.46879709,  0.65916884,\n",
       "         0.84954059,  1.03991246,  1.23028421,  1.42065597,  1.61102772,\n",
       "         1.80139959]),\n",
       " <BarContainer object of 10 artists>)"
      ]
     },
     "execution_count": 11,
     "metadata": {},
     "output_type": "execute_result"
    },
    {
     "data": {
      "image/png": "[encoded data removed]",
      "text/plain": [
       "<Figure size 640x480 with 1 Axes>"
      ]
     },
     "metadata": {},
     "output_type": "display_data"
    }
   ],
   "source": [
    "# Rohan's Version\n",
    "%matplotlib inline\n",
    "import matplotlib.pyplot as plt\n",
    "pred = model(X_unlabeled)\n",
    "pred = pred.detach().cpu().numpy()\n",
    "plt.hist(pred)"
   ]
  },
  {
   "cell_type": "markdown",
   "metadata": {},
   "source": [
    "## XGBoost"
   ]
  },
  {
   "cell_type": "code",
   "execution_count": 13,
   "metadata": {},
   "outputs": [
    {
     "name": "stdout",
     "output_type": "stream",
     "text": [
      "XGBoost Spearman Correlation: 0.4610\n"
     ]
    }
   ],
   "source": [
    "import xgboost as xgb\n",
    "from scipy.stats import spearmanr\n",
    "\n",
    "# Convert to DMatrix (XGBoost's optimized data structure)\n",
    "dtrain = xgb.DMatrix(X_train.cpu().numpy(), label=y_train.cpu().numpy().flatten())\n",
    "dtest = xgb.DMatrix(X_test.cpu().numpy(), label=y_test.cpu().numpy().flatten())\n",
    "\n",
    "# Train XGBoost Model\n",
    "params = {\"objective\": \"reg:squarederror\", \"eval_metric\": \"rmse\"}\n",
    "xgb_model = xgb.train(params, dtrain, num_boost_round=100)\n",
    "\n",
    "# Predict\n",
    "y_pred_xgb = xgb_model.predict(dtest)\n",
    "\n",
    "# Compute Spearman correlation\n",
    "spearman_corr_xgb, _ = spearmanr(y_test.cpu().numpy().flatten(), y_pred_xgb)\n",
    "print(f\"XGBoost Spearman Correlation: {spearman_corr_xgb:.4f}\")\n"
   ]
  },
  {
   "cell_type": "markdown",
   "metadata": {},
   "source": [
    "## LightGBM"
   ]
  },
  {
   "cell_type": "code",
   "execution_count": 14,
   "metadata": {},
   "outputs": [
    {
     "name": "stdout",
     "output_type": "stream",
     "text": [
      "[LightGBM] [Info] Auto-choosing col-wise multi-threading, the overhead of testing was 0.012740 seconds.\n",
      "You can set `force_col_wise=true` to remove the overhead.\n",
      "[LightGBM] [Info] Total Bins 326399\n",
      "[LightGBM] [Info] Number of data points in the train set: 992, number of used features: 1280\n",
      "[LightGBM] [Info] Start training from score 0.267666\n",
      "LightGBM Spearman Correlation: 0.5398\n"
     ]
    }
   ],
   "source": [
    "import lightgbm as lgb\n",
    "\n",
    "# Train LightGBM Model\n",
    "lgb_train = lgb.Dataset(X_train.cpu().numpy(), label=y_train.cpu().numpy().flatten())\n",
    "\n",
    "params = {\"objective\": \"regression\", \"metric\": \"rmse\"}\n",
    "lgb_model = lgb.train(params, lgb_train, num_boost_round=100)\n",
    "\n",
    "# Predict\n",
    "y_pred_lgb = lgb_model.predict(X_test.cpu().numpy())\n",
    "\n",
    "# Compute Spearman correlation\n",
    "spearman_corr_lgb, _ = spearmanr(y_test.cpu().numpy().flatten(), y_pred_lgb)\n",
    "print(f\"LightGBM Spearman Correlation: {spearman_corr_lgb:.4f}\")\n"
   ]
  },
  {
   "cell_type": "markdown",
   "metadata": {},
   "source": [
    "# Ensemble of LightGBM & Linear Regression \n",
    "We use linear regression to weigh the different models in the ensemble instead of taking the mean. We use boostrapping to train each model on a different subset of the data."
   ]
  },
  {
   "cell_type": "code",
   "execution_count": 15,
   "metadata": {},
   "outputs": [
    {
     "data": {
      "text/plain": [
       "tensor(0.9957, device='cuda:0')"
      ]
     },
     "execution_count": 15,
     "metadata": {},
     "output_type": "execute_result"
    }
   ],
   "source": [
    "y_train.max()"
   ]
  },
  {
   "cell_type": "code",
   "execution_count": 16,
   "metadata": {},
   "outputs": [
    {
     "name": "stderr",
     "output_type": "stream",
     "text": [
      "\r\n",
      "Training Bootstrapped LightGBM Models:   0%|          | 0/100 [00:00<?, ?it/s]"
     ]
    },
    {
     "name": "stdout",
     "output_type": "stream",
     "text": [
      "[LightGBM] [Info] Auto-choosing col-wise multi-threading, the overhead of testing was 0.011880 seconds.\n",
      "You can set `force_col_wise=true` to remove the overhead.\n",
      "[LightGBM] [Info] Total Bins 324023\n",
      "[LightGBM] [Info] Number of data points in the train set: 992, number of used features: 1280\n",
      "[LightGBM] [Info] Start training from score 0.267560\n",
      "[LightGBM] [Warning] No further splits with positive gain, best gain: -inf\n",
      "[LightGBM] [Warning] No further splits with positive gain, best gain: -inf\n",
      "[LightGBM] [Warning] No further splits with positive gain, best gain: -inf\n",
      "[LightGBM] [Warning] No further splits with positive gain, best gain: -inf\n",
      "[LightGBM] [Warning] No further splits with positive gain, best gain: -inf\n",
      "[LightGBM] [Warning] No further splits with positive gain, best gain: -inf\n",
      "[LightGBM] [Warning] No further splits with positive gain, best gain: -inf\n",
      "[LightGBM] [Warning] No further splits with positive gain, best gain: -inf\n",
      "[LightGBM] [Warning] No further splits with positive gain, best gain: -inf\n",
      "[LightGBM] [Warning] No further splits with positive gain, best gain: -inf\n",
      "[LightGBM] [Warning] No further splits with positive gain, best gain: -inf\n",
      "[LightGBM] [Warning] No further splits with positive gain, best gain: -inf\n",
      "[LightGBM] [Warning] No further splits with positive gain, best gain: -inf\n",
      "[LightGBM] [Warning] No further splits with positive gain, best gain: -inf\n",
      "[LightGBM] [Warning] No further splits with positive gain, best gain: -inf\n",
      "[LightGBM] [Warning] No further splits with positive gain, best gain: -inf\n",
      "[LightGBM] [Warning] No further splits with positive gain, best gain: -inf\n",
      "[LightGBM] [Warning] No further splits with positive gain, best gain: -inf\n",
      "[LightGBM] [Warning] No further splits with positive gain, best gain: -inf\n",
      "[LightGBM] [Warning] No further splits with positive gain, best gain: -inf\n",
      "[LightGBM] [Warning] No further splits with positive gain, best gain: -inf\n",
      "[LightGBM] [Warning] No further splits with positive gain, best gain: -inf\n",
      "[LightGBM] [Warning] No further splits with positive gain, best gain: -inf\n",
      "[LightGBM] [Warning] No further splits with positive gain, best gain: -inf\n",
      "[LightGBM] [Warning] No further splits with positive gain, best gain: -inf\n",
      "[LightGBM] [Warning] No further splits with positive gain, best gain: -inf\n",
      "[LightGBM] [Warning] No further splits with positive gain, best gain: -inf\n",
      "[LightGBM] [Warning] No further splits with positive gain, best gain: -inf\n",
      "[LightGBM] [Warning] No further splits with positive gain, best gain: -inf\n",
      "[LightGBM] [Warning] No further splits with positive gain, best gain: -inf\n",
      "[LightGBM] [Warning] No further splits with positive gain, best gain: -inf\n",
      "[LightGBM] [Warning] No further splits with positive gain, best gain: -inf\n",
      "[LightGBM] [Warning] No further splits with positive gain, best gain: -inf\n",
      "[LightGBM] [Warning] No further splits with positive gain, best gain: -inf\n",
      "[LightGBM] [Warning] No further splits with positive gain, best gain: -inf\n",
      "[LightGBM] [Warning] No further splits with positive gain, best gain: -inf\n",
      "[LightGBM] [Warning] No further splits with positive gain, best gain: -inf\n",
      "[LightGBM] [Warning] No further splits with positive gain, best gain: -inf\n",
      "[LightGBM] [Warning] No further splits with positive gain, best gain: -inf\n",
      "[LightGBM] [Warning] No further splits with positive gain, best gain: -inf\n",
      "[LightGBM] [Warning] No further splits with positive gain, best gain: -inf\n",
      "[LightGBM] [Warning] No further splits with positive gain, best gain: -inf\n",
      "[LightGBM] [Warning] No further splits with positive gain, best gain: -inf\n",
      "[LightGBM] [Warning] No further splits with positive gain, best gain: -inf\n",
      "[LightGBM] [Warning] No further splits with positive gain, best gain: -inf\n",
      "[LightGBM] [Warning] No further splits with positive gain, best gain: -inf\n",
      "[LightGBM] [Warning] No further splits with positive gain, best gain: -inf\n",
      "[LightGBM] [Warning] No further splits with positive gain, best gain: -inf\n",
      "[LightGBM] [Warning] No further splits with positive gain, best gain: -inf\n",
      "[LightGBM] [Warning] No further splits with positive gain, best gain: -inf\n",
      "[LightGBM] [Warning] No further splits with positive gain, best gain: -inf\n",
      "[LightGBM] [Warning] No further splits with positive gain, best gain: -inf\n",
      "[LightGBM] [Warning] No further splits with positive gain, best gain: -inf\n",
      "[LightGBM] [Warning] No further splits with positive gain, best gain: -inf\n",
      "[LightGBM] [Warning] No further splits with positive gain, best gain: -inf\n",
      "[LightGBM] [Warning] No further splits with positive gain, best gain: -inf\n",
      "[LightGBM] [Warning] No further splits with positive gain, best gain: -inf\n",
      "[LightGBM] [Warning] No further splits with positive gain, best gain: -inf\n",
      "[LightGBM] [Warning] No further splits with positive gain, best gain: -inf\n",
      "[LightGBM] [Warning] No further splits with positive gain, best gain: -inf\n",
      "[LightGBM] [Warning] No further splits with positive gain, best gain: -inf\n",
      "[LightGBM] [Warning] No further splits with positive gain, best gain: -inf\n",
      "[LightGBM] [Warning] No further splits with positive gain, best gain: -inf\n",
      "[LightGBM] [Warning] No further splits with positive gain, best gain: -inf\n",
      "[LightGBM] [Warning] No further splits with positive gain, best gain: -inf\n",
      "[LightGBM] [Warning] No further splits with positive gain, best gain: -inf\n",
      "[LightGBM] [Warning] No further splits with positive gain, best gain: -inf\n",
      "[LightGBM] [Warning] No further splits with positive gain, best gain: -inf\n",
      "[LightGBM] [Warning] No further splits with positive gain, best gain: -inf\n",
      "[LightGBM] [Warning] No further splits with positive gain, best gain: -inf\n",
      "[LightGBM] [Warning] No further splits with positive gain, best gain: -inf\n",
      "[LightGBM] [Warning] No further splits with positive gain, best gain: -inf\n",
      "[LightGBM] [Warning] No further splits with positive gain, best gain: -inf\n",
      "[LightGBM] [Warning] No further splits with positive gain, best gain: -inf\n",
      "[LightGBM] [Warning] No further splits with positive gain, best gain: -inf\n",
      "[LightGBM] [Warning] No further splits with positive gain, best gain: -inf\n",
      "[LightGBM] [Warning] No further splits with positive gain, best gain: -inf\n",
      "[LightGBM] [Warning] No further splits with positive gain, best gain: -inf\n",
      "[LightGBM] [Warning] No further splits with positive gain, best gain: -inf\n",
      "[LightGBM] [Warning] No further splits with positive gain, best gain: -inf\n",
      "[LightGBM] [Warning] No further splits with positive gain, best gain: -inf\n",
      "[LightGBM] [Warning] No further splits with positive gain, best gain: -inf\n",
      "[LightGBM] [Warning] No further splits with positive gain, best gain: -inf\n",
      "[LightGBM] [Warning] No further splits with positive gain, best gain: -inf\n",
      "[LightGBM] [Warning] No further splits with positive gain, best gain: -inf\n",
      "[LightGBM] [Warning] No further splits with positive gain, best gain: -inf\n",
      "[LightGBM] [Warning] No further splits with positive gain, best gain: -inf\n",
      "[LightGBM] [Warning] No further splits with positive gain, best gain: -inf\n",
      "[LightGBM] [Warning] No further splits with positive gain, best gain: -inf\n",
      "[LightGBM] [Warning] No further splits with positive gain, best gain: -inf\n",
      "[LightGBM] [Warning] No further splits with positive gain, best gain: -inf\n",
      "[LightGBM] [Warning] No further splits with positive gain, best gain: -inf\n",
      "[LightGBM] [Warning] No further splits with positive gain, best gain: -inf\n",
      "[LightGBM] [Warning] No further splits with positive gain, best gain: -inf\n",
      "[LightGBM] [Warning] No further splits with positive gain, best gain: -inf\n",
      "[LightGBM] [Warning] No further splits with positive gain, best gain: -inf\n",
      "[LightGBM] [Warning] No further splits with positive gain, best gain: -inf\n"
     ]
    },
    {
     "name": "stderr",
     "output_type": "stream",
     "text": [
      "\r\n",
      "Training Bootstrapped LightGBM Models:   1%|          | 1/100 [00:07<12:29,  7.57s/it]"
     ]
    },
    {
     "name": "stdout",
     "output_type": "stream",
     "text": [
      "[LightGBM] [Warning] No further splits with positive gain, best gain: -inf\n",
      "[LightGBM] [Warning] No further splits with positive gain, best gain: -inf\n",
      "[LightGBM] [Warning] No further splits with positive gain, best gain: -inf\n"
     ]
    },
    {
     "ename": "KeyboardInterrupt",
     "evalue": "",
     "output_type": "error",
     "traceback": [
      "\u001b[0;31m---------------------------------------------------------------------------\u001b[0m",
      "\u001b[0;31mKeyboardInterrupt\u001b[0m                         Traceback (most recent call last)",
      "Cell \u001b[0;32mIn[16], line 24\u001b[0m\n\u001b[1;32m     22\u001b[0m \u001b[38;5;66;03m# Train LightGBM model on resampled data\u001b[39;00m\n\u001b[1;32m     23\u001b[0m lgb_train \u001b[38;5;241m=\u001b[39m lgb\u001b[38;5;241m.\u001b[39mDataset(X_resampled, label\u001b[38;5;241m=\u001b[39my_resampled)\n\u001b[0;32m---> 24\u001b[0m lgb_model \u001b[38;5;241m=\u001b[39m \u001b[43mlgb\u001b[49m\u001b[38;5;241;43m.\u001b[39;49m\u001b[43mtrain\u001b[49m\u001b[43m(\u001b[49m\u001b[43mlgb_params\u001b[49m\u001b[43m,\u001b[49m\u001b[43m \u001b[49m\u001b[43mlgb_train\u001b[49m\u001b[43m,\u001b[49m\u001b[43m \u001b[49m\u001b[43mnum_boost_round\u001b[49m\u001b[38;5;241;43m=\u001b[39;49m\u001b[38;5;241;43m100\u001b[39;49m\u001b[43m)\u001b[49m\n\u001b[1;32m     26\u001b[0m \u001b[38;5;66;03m# Store trained model\u001b[39;00m\n\u001b[1;32m     27\u001b[0m lgb_boot_models\u001b[38;5;241m.\u001b[39mappend(lgb_model)\n",
      "File \u001b[0;32m~/.local/lib/python3.10/site-packages/lightgbm/engine.py:297\u001b[0m, in \u001b[0;36mtrain\u001b[0;34m(params, train_set, num_boost_round, valid_sets, valid_names, feval, init_model, keep_training_booster, callbacks)\u001b[0m\n\u001b[1;32m    295\u001b[0m \u001b[38;5;66;03m# construct booster\u001b[39;00m\n\u001b[1;32m    296\u001b[0m \u001b[38;5;28;01mtry\u001b[39;00m:\n\u001b[0;32m--> 297\u001b[0m     booster \u001b[38;5;241m=\u001b[39m \u001b[43mBooster\u001b[49m\u001b[43m(\u001b[49m\u001b[43mparams\u001b[49m\u001b[38;5;241;43m=\u001b[39;49m\u001b[43mparams\u001b[49m\u001b[43m,\u001b[49m\u001b[43m \u001b[49m\u001b[43mtrain_set\u001b[49m\u001b[38;5;241;43m=\u001b[39;49m\u001b[43mtrain_set\u001b[49m\u001b[43m)\u001b[49m\n\u001b[1;32m    298\u001b[0m     \u001b[38;5;28;01mif\u001b[39;00m is_valid_contain_train:\n\u001b[1;32m    299\u001b[0m         booster\u001b[38;5;241m.\u001b[39mset_train_data_name(train_data_name)\n",
      "File \u001b[0;32m~/.local/lib/python3.10/site-packages/lightgbm/basic.py:3656\u001b[0m, in \u001b[0;36mBooster.__init__\u001b[0;34m(self, params, train_set, model_file, model_str)\u001b[0m\n\u001b[1;32m   3649\u001b[0m     \u001b[38;5;28mself\u001b[39m\u001b[38;5;241m.\u001b[39mset_network(\n\u001b[1;32m   3650\u001b[0m         machines\u001b[38;5;241m=\u001b[39mmachines,\n\u001b[1;32m   3651\u001b[0m         local_listen_port\u001b[38;5;241m=\u001b[39mparams[\u001b[38;5;124m\"\u001b[39m\u001b[38;5;124mlocal_listen_port\u001b[39m\u001b[38;5;124m\"\u001b[39m],\n\u001b[1;32m   3652\u001b[0m         listen_time_out\u001b[38;5;241m=\u001b[39mparams\u001b[38;5;241m.\u001b[39mget(\u001b[38;5;124m\"\u001b[39m\u001b[38;5;124mtime_out\u001b[39m\u001b[38;5;124m\"\u001b[39m, \u001b[38;5;241m120\u001b[39m),\n\u001b[1;32m   3653\u001b[0m         num_machines\u001b[38;5;241m=\u001b[39mparams[\u001b[38;5;124m\"\u001b[39m\u001b[38;5;124mnum_machines\u001b[39m\u001b[38;5;124m\"\u001b[39m],\n\u001b[1;32m   3654\u001b[0m     )\n\u001b[1;32m   3655\u001b[0m \u001b[38;5;66;03m# construct booster object\u001b[39;00m\n\u001b[0;32m-> 3656\u001b[0m \u001b[43mtrain_set\u001b[49m\u001b[38;5;241;43m.\u001b[39;49m\u001b[43mconstruct\u001b[49m\u001b[43m(\u001b[49m\u001b[43m)\u001b[49m\n\u001b[1;32m   3657\u001b[0m \u001b[38;5;66;03m# copy the parameters from train_set\u001b[39;00m\n\u001b[1;32m   3658\u001b[0m params\u001b[38;5;241m.\u001b[39mupdate(train_set\u001b[38;5;241m.\u001b[39mget_params())\n",
      "File \u001b[0;32m~/.local/lib/python3.10/site-packages/lightgbm/basic.py:2590\u001b[0m, in \u001b[0;36mDataset.construct\u001b[0;34m(self)\u001b[0m\n\u001b[1;32m   2585\u001b[0m             \u001b[38;5;28mself\u001b[39m\u001b[38;5;241m.\u001b[39m_set_init_score_by_predictor(\n\u001b[1;32m   2586\u001b[0m                 predictor\u001b[38;5;241m=\u001b[39m\u001b[38;5;28mself\u001b[39m\u001b[38;5;241m.\u001b[39m_predictor, data\u001b[38;5;241m=\u001b[39m\u001b[38;5;28mself\u001b[39m\u001b[38;5;241m.\u001b[39mdata, used_indices\u001b[38;5;241m=\u001b[39mused_indices\n\u001b[1;32m   2587\u001b[0m             )\n\u001b[1;32m   2588\u001b[0m \u001b[38;5;28;01melse\u001b[39;00m:\n\u001b[1;32m   2589\u001b[0m     \u001b[38;5;66;03m# create train\u001b[39;00m\n\u001b[0;32m-> 2590\u001b[0m     \u001b[38;5;28;43mself\u001b[39;49m\u001b[38;5;241;43m.\u001b[39;49m\u001b[43m_lazy_init\u001b[49m\u001b[43m(\u001b[49m\n\u001b[1;32m   2591\u001b[0m \u001b[43m        \u001b[49m\u001b[43mdata\u001b[49m\u001b[38;5;241;43m=\u001b[39;49m\u001b[38;5;28;43mself\u001b[39;49m\u001b[38;5;241;43m.\u001b[39;49m\u001b[43mdata\u001b[49m\u001b[43m,\u001b[49m\n\u001b[1;32m   2592\u001b[0m \u001b[43m        \u001b[49m\u001b[43mlabel\u001b[49m\u001b[38;5;241;43m=\u001b[39;49m\u001b[38;5;28;43mself\u001b[39;49m\u001b[38;5;241;43m.\u001b[39;49m\u001b[43mlabel\u001b[49m\u001b[43m,\u001b[49m\n\u001b[1;32m   2593\u001b[0m \u001b[43m        \u001b[49m\u001b[43mreference\u001b[49m\u001b[38;5;241;43m=\u001b[39;49m\u001b[38;5;28;43;01mNone\u001b[39;49;00m\u001b[43m,\u001b[49m\n\u001b[1;32m   2594\u001b[0m \u001b[43m        \u001b[49m\u001b[43mweight\u001b[49m\u001b[38;5;241;43m=\u001b[39;49m\u001b[38;5;28;43mself\u001b[39;49m\u001b[38;5;241;43m.\u001b[39;49m\u001b[43mweight\u001b[49m\u001b[43m,\u001b[49m\n\u001b[1;32m   2595\u001b[0m \u001b[43m        \u001b[49m\u001b[43mgroup\u001b[49m\u001b[38;5;241;43m=\u001b[39;49m\u001b[38;5;28;43mself\u001b[39;49m\u001b[38;5;241;43m.\u001b[39;49m\u001b[43mgroup\u001b[49m\u001b[43m,\u001b[49m\n\u001b[1;32m   2596\u001b[0m \u001b[43m        \u001b[49m\u001b[43minit_score\u001b[49m\u001b[38;5;241;43m=\u001b[39;49m\u001b[38;5;28;43mself\u001b[39;49m\u001b[38;5;241;43m.\u001b[39;49m\u001b[43minit_score\u001b[49m\u001b[43m,\u001b[49m\n\u001b[1;32m   2597\u001b[0m \u001b[43m        \u001b[49m\u001b[43mpredictor\u001b[49m\u001b[38;5;241;43m=\u001b[39;49m\u001b[38;5;28;43mself\u001b[39;49m\u001b[38;5;241;43m.\u001b[39;49m\u001b[43m_predictor\u001b[49m\u001b[43m,\u001b[49m\n\u001b[1;32m   2598\u001b[0m \u001b[43m        \u001b[49m\u001b[43mfeature_name\u001b[49m\u001b[38;5;241;43m=\u001b[39;49m\u001b[38;5;28;43mself\u001b[39;49m\u001b[38;5;241;43m.\u001b[39;49m\u001b[43mfeature_name\u001b[49m\u001b[43m,\u001b[49m\n\u001b[1;32m   2599\u001b[0m \u001b[43m        \u001b[49m\u001b[43mcategorical_feature\u001b[49m\u001b[38;5;241;43m=\u001b[39;49m\u001b[38;5;28;43mself\u001b[39;49m\u001b[38;5;241;43m.\u001b[39;49m\u001b[43mcategorical_feature\u001b[49m\u001b[43m,\u001b[49m\n\u001b[1;32m   2600\u001b[0m \u001b[43m        \u001b[49m\u001b[43mparams\u001b[49m\u001b[38;5;241;43m=\u001b[39;49m\u001b[38;5;28;43mself\u001b[39;49m\u001b[38;5;241;43m.\u001b[39;49m\u001b[43mparams\u001b[49m\u001b[43m,\u001b[49m\n\u001b[1;32m   2601\u001b[0m \u001b[43m        \u001b[49m\u001b[43mposition\u001b[49m\u001b[38;5;241;43m=\u001b[39;49m\u001b[38;5;28;43mself\u001b[39;49m\u001b[38;5;241;43m.\u001b[39;49m\u001b[43mposition\u001b[49m\u001b[43m,\u001b[49m\n\u001b[1;32m   2602\u001b[0m \u001b[43m    \u001b[49m\u001b[43m)\u001b[49m\n\u001b[1;32m   2603\u001b[0m \u001b[38;5;28;01mif\u001b[39;00m \u001b[38;5;28mself\u001b[39m\u001b[38;5;241m.\u001b[39mfree_raw_data:\n\u001b[1;32m   2604\u001b[0m     \u001b[38;5;28mself\u001b[39m\u001b[38;5;241m.\u001b[39mdata \u001b[38;5;241m=\u001b[39m \u001b[38;5;28;01mNone\u001b[39;00m\n",
      "File \u001b[0;32m~/.local/lib/python3.10/site-packages/lightgbm/basic.py:2187\u001b[0m, in \u001b[0;36mDataset._lazy_init\u001b[0;34m(self, data, label, reference, weight, group, init_score, predictor, feature_name, categorical_feature, params, position)\u001b[0m\n\u001b[1;32m   2185\u001b[0m     \u001b[38;5;28mself\u001b[39m\u001b[38;5;241m.\u001b[39m__init_from_csc(data, params_str, ref_dataset)\n\u001b[1;32m   2186\u001b[0m \u001b[38;5;28;01melif\u001b[39;00m \u001b[38;5;28misinstance\u001b[39m(data, np\u001b[38;5;241m.\u001b[39mndarray):\n\u001b[0;32m-> 2187\u001b[0m     \u001b[38;5;28;43mself\u001b[39;49m\u001b[38;5;241;43m.\u001b[39;49m\u001b[43m__init_from_np2d\u001b[49m\u001b[43m(\u001b[49m\u001b[43mdata\u001b[49m\u001b[43m,\u001b[49m\u001b[43m \u001b[49m\u001b[43mparams_str\u001b[49m\u001b[43m,\u001b[49m\u001b[43m \u001b[49m\u001b[43mref_dataset\u001b[49m\u001b[43m)\u001b[49m\n\u001b[1;32m   2188\u001b[0m \u001b[38;5;28;01melif\u001b[39;00m _is_pyarrow_table(data):\n\u001b[1;32m   2189\u001b[0m     \u001b[38;5;28mself\u001b[39m\u001b[38;5;241m.\u001b[39m__init_from_pyarrow_table(data, params_str, ref_dataset)\n",
      "File \u001b[0;32m~/.local/lib/python3.10/site-packages/lightgbm/basic.py:2319\u001b[0m, in \u001b[0;36mDataset.__init_from_np2d\u001b[0;34m(self, mat, params_str, ref_dataset)\u001b[0m\n\u001b[1;32m   2316\u001b[0m data, layout \u001b[38;5;241m=\u001b[39m _np2d_to_np1d(mat)\n\u001b[1;32m   2317\u001b[0m ptr_data, type_ptr_data, _ \u001b[38;5;241m=\u001b[39m _c_float_array(data)\n\u001b[1;32m   2318\u001b[0m _safe_call(\n\u001b[0;32m-> 2319\u001b[0m     \u001b[43m_LIB\u001b[49m\u001b[38;5;241;43m.\u001b[39;49m\u001b[43mLGBM_DatasetCreateFromMat\u001b[49m\u001b[43m(\u001b[49m\n\u001b[1;32m   2320\u001b[0m \u001b[43m        \u001b[49m\u001b[43mptr_data\u001b[49m\u001b[43m,\u001b[49m\n\u001b[1;32m   2321\u001b[0m \u001b[43m        \u001b[49m\u001b[43mctypes\u001b[49m\u001b[38;5;241;43m.\u001b[39;49m\u001b[43mc_int\u001b[49m\u001b[43m(\u001b[49m\u001b[43mtype_ptr_data\u001b[49m\u001b[43m)\u001b[49m\u001b[43m,\u001b[49m\n\u001b[1;32m   2322\u001b[0m \u001b[43m        \u001b[49m\u001b[43mctypes\u001b[49m\u001b[38;5;241;43m.\u001b[39;49m\u001b[43mc_int32\u001b[49m\u001b[43m(\u001b[49m\u001b[43mmat\u001b[49m\u001b[38;5;241;43m.\u001b[39;49m\u001b[43mshape\u001b[49m\u001b[43m[\u001b[49m\u001b[38;5;241;43m0\u001b[39;49m\u001b[43m]\u001b[49m\u001b[43m)\u001b[49m\u001b[43m,\u001b[49m\n\u001b[1;32m   2323\u001b[0m \u001b[43m        \u001b[49m\u001b[43mctypes\u001b[49m\u001b[38;5;241;43m.\u001b[39;49m\u001b[43mc_int32\u001b[49m\u001b[43m(\u001b[49m\u001b[43mmat\u001b[49m\u001b[38;5;241;43m.\u001b[39;49m\u001b[43mshape\u001b[49m\u001b[43m[\u001b[49m\u001b[38;5;241;43m1\u001b[39;49m\u001b[43m]\u001b[49m\u001b[43m)\u001b[49m\u001b[43m,\u001b[49m\n\u001b[1;32m   2324\u001b[0m \u001b[43m        \u001b[49m\u001b[43mctypes\u001b[49m\u001b[38;5;241;43m.\u001b[39;49m\u001b[43mc_int\u001b[49m\u001b[43m(\u001b[49m\u001b[43mlayout\u001b[49m\u001b[43m)\u001b[49m\u001b[43m,\u001b[49m\n\u001b[1;32m   2325\u001b[0m \u001b[43m        \u001b[49m\u001b[43m_c_str\u001b[49m\u001b[43m(\u001b[49m\u001b[43mparams_str\u001b[49m\u001b[43m)\u001b[49m\u001b[43m,\u001b[49m\n\u001b[1;32m   2326\u001b[0m \u001b[43m        \u001b[49m\u001b[43mref_dataset\u001b[49m\u001b[43m,\u001b[49m\n\u001b[1;32m   2327\u001b[0m \u001b[43m        \u001b[49m\u001b[43mctypes\u001b[49m\u001b[38;5;241;43m.\u001b[39;49m\u001b[43mbyref\u001b[49m\u001b[43m(\u001b[49m\u001b[38;5;28;43mself\u001b[39;49m\u001b[38;5;241;43m.\u001b[39;49m\u001b[43m_handle\u001b[49m\u001b[43m)\u001b[49m\u001b[43m,\u001b[49m\n\u001b[1;32m   2328\u001b[0m \u001b[43m    \u001b[49m\u001b[43m)\u001b[49m\n\u001b[1;32m   2329\u001b[0m )\n\u001b[1;32m   2330\u001b[0m \u001b[38;5;28;01mreturn\u001b[39;00m \u001b[38;5;28mself\u001b[39m\n",
      "\u001b[0;31mKeyboardInterrupt\u001b[0m: "
     ]
    }
   ],
   "source": [
    "# Step 1 - Train Ensemble\n",
    "import lightgbm as lgb\n",
    "import numpy as np\n",
    "from scipy.stats import spearmanr\n",
    "from tqdm import tqdm\n",
    "from sklearn.utils import resample\n",
    "\n",
    "# Define hyperparameters for LightGBM\n",
    "lgb_params = {\"objective\":\"regression\", \"metric\": \"rmse\", 'learning_rate': 0.0436032560500989,  'num_leaves': 76, 'min_child_samples': 6, 'max_depth': 7, 'subsample': 0.5939560221912161, 'colsample_bytree': 0.6618044618804528, }\n",
    "\n",
    "# Number of bootstrapped models\n",
    "num_bootstraps = 100\n",
    "lgb_boot_models = []\n",
    "lgb_predictions = []\n",
    "\n",
    "progress = tqdm(total=num_bootstraps, desc=\"Training Bootstrapped LightGBM Models\")\n",
    "\n",
    "for i in range(num_bootstraps):\n",
    "    # Bootstrap resampling\n",
    "    X_resampled, y_resampled = resample(X_train.cpu().numpy(), y_train.cpu().numpy().flatten(), replace=True, n_samples=X_train.shape[0], random_state=i)\n",
    "\n",
    "    # Train LightGBM model on resampled data\n",
    "    lgb_train = lgb.Dataset(X_resampled, label=y_resampled)\n",
    "    lgb_model = lgb.train(lgb_params, lgb_train, num_boost_round=100)\n",
    "    \n",
    "    # Store trained model\n",
    "    lgb_boot_models.append(lgb_model)\n",
    "\n",
    "    # Predict on test set\n",
    "    y_pred_lgb = lgb_model.predict(X_test.cpu().numpy())\n",
    "    lgb_predictions.append(y_pred_lgb)\n",
    "\n",
    "    progress.update(1)\n",
    "\n",
    "progress.close()\n",
    "\n",
    "# Average predictions from bootstrapped models\n",
    "y_pred_ensemble = np.mean(np.column_stack(lgb_predictions), axis=1)\n",
    "\n",
    "# Compute Spearman correlation\n",
    "spearman_corr_ensemble, _ = spearmanr(y_test.cpu().numpy().flatten(), y_pred_ensemble)\n",
    "\n",
    "print(f\"Bootstrapped LightGBM Ensemble Spearman Correlation: {spearman_corr_ensemble:.4f}\")\n"
   ]
  },
  {
   "cell_type": "code",
   "execution_count": 49,
   "metadata": {},
   "outputs": [
    {
     "name": "stderr",
     "output_type": "stream",
     "text": [
      "Generating `X_meta_train`: 100%|██████████| 100/100 [00:00<00:00, 327.01it/s]\n",
      "Predicting for `X_meta_test`: 100%|██████████| 100/100 [00:00<00:00, 559.18it/s]"
     ]
    },
    {
     "name": "stdout",
     "output_type": "stream",
     "text": [
      "(1012,) (1012,)\n",
      "Meta LightGBM Model Spearman Correlation: 0.9550\n"
     ]
    },
    {
     "name": "stderr",
     "output_type": "stream",
     "text": [
      "\n"
     ]
    }
   ],
   "source": [
    "# Step 2: Train Meta Predictor\n",
    "\n",
    "from sklearn.linear_model import Ridge\n",
    "\n",
    "progress = tqdm(total=len(lgb_boot_models), desc=\"Generating `X_meta_train`\")\n",
    "X_meta_train = []\n",
    "for m in lgb_boot_models:\n",
    "    X_meta_train.append(m.predict(X_train.cpu().numpy()))\n",
    "    progress.update(1)\n",
    "\n",
    "progress.close()\n",
    "\n",
    "X_meta_train = np.column_stack(X_meta_train)\n",
    "y_meta_train = y_train.cpu().numpy().flatten()\n",
    "\n",
    "\n",
    "# Train a Ridge Regression as the meta-model\n",
    "meta_model = Ridge(alpha=1.0)\n",
    "meta_model.fit(X_meta_train, y_meta_train)\n",
    "\n",
    "## EVAL::\n",
    "# Predict with stacked model\n",
    "progress = tqdm(total=len(lgb_boot_models), desc=\"Predicting for `X_meta_test`\")\n",
    "X_meta_test = []\n",
    "for m in lgb_boot_models:\n",
    "    X_meta_test.append(m.predict(X_test.cpu().numpy()))\n",
    "    progress.update(1)\n",
    "progress.close()\n",
    "X_meta_test = np.column_stack(X_meta_test)\n",
    "y_meta_test = y_train.cpu().numpy().flatten()\n",
    "\n",
    "y_meta_pred = meta_model.predict(X_meta_train)\n",
    "\n",
    "# Compute Spearman correlation\n",
    "spearman_corr_stacked, _ = spearmanr(y_meta_test, y_meta_pred)\n",
    "print(f\"Meta LightGBM Model Spearman Correlation: {spearman_corr_stacked:.4f}\")\n"
   ]
  },
  {
   "cell_type": "markdown",
   "metadata": {},
   "source": [
    "# Predictions"
   ]
  },
  {
   "cell_type": "code",
   "execution_count": 19,
   "metadata": {},
   "outputs": [],
   "source": [
    "df_test = pd.read_parquet('protein_embeddings_test.parquet')\n",
    "X_unlabeled = df_test['Embedding'].values"
   ]
  },
  {
   "cell_type": "code",
   "execution_count": 20,
   "metadata": {},
   "outputs": [],
   "source": [
    "X_unlabeled = np.vstack(X_unlabeled)\n",
    "X_unlabeled = torch.tensor(X_unlabeled, dtype=torch.float32, device=device)"
   ]
  },
  {
   "cell_type": "code",
   "execution_count": 26,
   "metadata": {},
   "outputs": [
    {
     "ename": "AttributeError",
     "evalue": "'MLPRegressor' object has no attribute 'predict'",
     "output_type": "error",
     "traceback": [
      "\u001b[0;31m---------------------------------------------------------------------------\u001b[0m",
      "\u001b[0;31mAttributeError\u001b[0m                            Traceback (most recent call last)",
      "Cell \u001b[0;32mIn[26], line 7\u001b[0m\n\u001b[1;32m      5\u001b[0m y_pred_all \u001b[38;5;241m=\u001b[39m np\u001b[38;5;241m.\u001b[39mcolumn_stack([model\u001b[38;5;241m.\u001b[39mpredict(X_unlabeled\u001b[38;5;241m.\u001b[39mcpu()\u001b[38;5;241m.\u001b[39mnumpy()) \u001b[38;5;28;01mfor\u001b[39;00m model \u001b[38;5;129;01min\u001b[39;00m lgb_boot_models])\n\u001b[1;32m      6\u001b[0m std_pred \u001b[38;5;241m=\u001b[39m np\u001b[38;5;241m.\u001b[39mstd(y_pred_all, axis\u001b[38;5;241m=\u001b[39m\u001b[38;5;241m1\u001b[39m)    \u001b[38;5;66;03m# Uncertainty (std dev)\u001b[39;00m\n\u001b[0;32m----> 7\u001b[0m mean_pred \u001b[38;5;241m=\u001b[39m \u001b[43mmodel\u001b[49m\u001b[38;5;241;43m.\u001b[39;49m\u001b[43mpredict\u001b[49m(y_pred_all)\n",
      "File \u001b[0;32m~/.local/lib/python3.10/site-packages/torch/nn/modules/module.py:1931\u001b[0m, in \u001b[0;36mModule.__getattr__\u001b[0;34m(self, name)\u001b[0m\n\u001b[1;32m   1929\u001b[0m     \u001b[38;5;28;01mif\u001b[39;00m name \u001b[38;5;129;01min\u001b[39;00m modules:\n\u001b[1;32m   1930\u001b[0m         \u001b[38;5;28;01mreturn\u001b[39;00m modules[name]\n\u001b[0;32m-> 1931\u001b[0m \u001b[38;5;28;01mraise\u001b[39;00m \u001b[38;5;167;01mAttributeError\u001b[39;00m(\n\u001b[1;32m   1932\u001b[0m     \u001b[38;5;124mf\u001b[39m\u001b[38;5;124m\"\u001b[39m\u001b[38;5;124m'\u001b[39m\u001b[38;5;132;01m{\u001b[39;00m\u001b[38;5;28mtype\u001b[39m(\u001b[38;5;28mself\u001b[39m)\u001b[38;5;241m.\u001b[39m\u001b[38;5;18m__name__\u001b[39m\u001b[38;5;132;01m}\u001b[39;00m\u001b[38;5;124m'\u001b[39m\u001b[38;5;124m object has no attribute \u001b[39m\u001b[38;5;124m'\u001b[39m\u001b[38;5;132;01m{\u001b[39;00mname\u001b[38;5;132;01m}\u001b[39;00m\u001b[38;5;124m'\u001b[39m\u001b[38;5;124m\"\u001b[39m\n\u001b[1;32m   1933\u001b[0m )\n",
      "\u001b[0;31mAttributeError\u001b[0m: 'MLPRegressor' object has no attribute 'predict'"
     ]
    }
   ],
   "source": [
    "import numpy as np\n",
    "\n",
    "# Compute UCB for LightGBM ensemble\n",
    "\n",
    "y_pred_all = np.column_stack([model.predict(X_unlabeled.cpu().numpy()) for model in lgb_boot_models])\n",
    "std_pred = np.std(y_pred_all, axis=1)    # Uncertainty (std dev)\n",
    "mean_pred = model.predict(y_pred_all)"
   ]
  },
  {
   "cell_type": "code",
   "execution_count": 22,
   "metadata": {},
   "outputs": [
    {
     "data": {
      "text/plain": [
       "array(['E122R', 'D80R', 'E398V', 'E3L', 'N486I', 'F223I', 'D401I',\n",
       "       'P342I', 'G246A', 'E15Y', 'E168V', 'E468V', 'D103I', 'G186V',\n",
       "       'E340R', 'E552I', 'N546W', 'D637R', 'E379K', 'E168R', 'D27I',\n",
       "       'S9Y', 'E468R', 'Q146Y', 'E340V', 'D360R', 'W560I', 'D381I',\n",
       "       'N648I', 'N546L', 'N614V', 'E414R', 'Q570Y', 'N486Y', 'H353I',\n",
       "       'N648Y', 'E600R', 'E600I', 'G386I', 'E278V', 'D637F', 'D99L',\n",
       "       'E640V', 'E299I', 'D37I', 'G246V', 'E415V', 'G186A', 'S351Y',\n",
       "       'G86V', 'D187I', 'S483Y', 'E15K', 'E600Y', 'Q476Y', 'S411Y',\n",
       "       'E600V', 'E168I', 'E3V', 'E359I', 'N643Y', 'Q163Y', 'Q277Y',\n",
       "       'E135R', 'S20Y', 'E379V', 'N648M', 'E15W', 'E15V', 'Q132Y',\n",
       "       'Q484Y', 'E274R', 'Q526Y', 'G446A', 'D190I', 'S409Y', 'E3W', 'G6A',\n",
       "       'N546Y', 'N486L', 'S429Y', 'S113Y', 'Q378Y', 'E3R', 'E428K',\n",
       "       'E307V', 'S54Y', 'S183Y', 'Q508Y', 'N74Y', 'N614Y', 'P257I',\n",
       "       'E165V', 'E428R', 'E640W', 'N488M', 'N486M', 'E358V', 'N488Y',\n",
       "       'N546M'], dtype=object)"
      ]
     },
     "execution_count": 22,
     "metadata": {},
     "output_type": "execute_result"
    }
   ],
   "source": [
    "# Rohan's Version\n",
    "ucb_scores = mean_pred + 2 * std_pred\n",
    "top_mutations = np.argsort(ucb_scores)[-100:]\n",
    "df_test.iloc[top_mutations]['mutant'].values"
   ]
  },
  {
   "cell_type": "code",
   "execution_count": 51,
   "metadata": {},
   "outputs": [
    {
     "ename": "NameError",
     "evalue": "name 'ucb_scores' is not defined",
     "output_type": "error",
     "traceback": [
      "\u001b[0;31m---------------------------------------------------------------------------\u001b[0m",
      "\u001b[0;31mNameError\u001b[0m                                 Traceback (most recent call last)",
      "Cell \u001b[0;32mIn[51], line 3\u001b[0m\n\u001b[1;32m      1\u001b[0m get_ipython()\u001b[38;5;241m.\u001b[39mrun_line_magic(\u001b[38;5;124m'\u001b[39m\u001b[38;5;124mmatplotlib\u001b[39m\u001b[38;5;124m'\u001b[39m, \u001b[38;5;124m'\u001b[39m\u001b[38;5;124minline\u001b[39m\u001b[38;5;124m'\u001b[39m)\n\u001b[1;32m      2\u001b[0m \u001b[38;5;28;01mimport\u001b[39;00m \u001b[38;5;21;01mmatplotlib\u001b[39;00m\u001b[38;5;21;01m.\u001b[39;00m\u001b[38;5;21;01mpyplot\u001b[39;00m \u001b[38;5;28;01mas\u001b[39;00m \u001b[38;5;21;01mplt\u001b[39;00m\n\u001b[0;32m----> 3\u001b[0m plt\u001b[38;5;241m.\u001b[39mhist(\u001b[43mucb_scores\u001b[49m)\n",
      "\u001b[0;31mNameError\u001b[0m: name 'ucb_scores' is not defined"
     ]
    }
   ],
   "source": [
    "%matplotlib inline\n",
    "import matplotlib.pyplot as plt\n",
    "plt.hist(ucb_scores)"
   ]
  },
  {
   "cell_type": "code",
   "execution_count": 18,
   "metadata": {},
   "outputs": [
    {
     "data": {
      "text/plain": [
       "array(['L589G', 'E231N', 'E468G', 'W499N', 'L631P', 'L155N', 'F579T',\n",
       "       'L125G', 'L75T', 'L642G', 'A510G', 'F59G', 'A395G', 'I478G',\n",
       "       'F514G', 'L639P', 'D624Y', 'E184N', 'A301G', 'A310G', 'L525T',\n",
       "       'F64G', 'F206G', 'R265P', 'A83G', 'L471T', 'L404P', 'V282G',\n",
       "       'L466A', 'L627T', 'R265N', 'L273N', 'I487G', 'E427N', 'L627G',\n",
       "       'E274N', 'F230G', 'R387G', 'L155T', 'L10G', 'A327G', 'I364G',\n",
       "       'D613N', 'D494N', 'L213N', 'F365G', 'E278G', 'L317M', 'I547G',\n",
       "       'L407G', 'L125T', 'D288N', 'E414N', 'D244N', 'F563G', 'P626G',\n",
       "       'L452G', 'L14G', 'L631T', 'F63C', 'I607G', 'L459P', 'L539P',\n",
       "       'E640N', 'W560T', 'L525P', 'W348P', 'L75P', 'W454N', 'L147G',\n",
       "       'L466T', 'E166N', 'D37Q', 'F431G', 'E46N', 'A349G', 'F256G',\n",
       "       'I481G', 'A367G', 'V634G', 'L641G', 'L346T', 'M580G', 'I496G',\n",
       "       'L300M', 'L155G', 'I181G', 'F405G', 'F238G', 'F434G', 'L620M',\n",
       "       'D187G', 'I374G', 'L121G', 'L267G', 'W94P', 'F171G', 'L346M',\n",
       "       'D91G', 'L639G'], dtype=object)"
      ]
     },
     "execution_count": 18,
     "metadata": {},
     "output_type": "execute_result"
    }
   ],
   "source": [
    "# Sai's Version\n",
    "ucb_scores = std_pred\n",
    "top_mutations = np.argsort(ucb_scores)[-100:]\n",
    "df_test.iloc[top_mutations]['mutant'].values"
   ]
  },
  {
   "cell_type": "code",
   "execution_count": 23,
   "metadata": {},
   "outputs": [],
   "source": [
    "arr = list(df_test.iloc[top_mutations]['mutant'].values)\n",
    "f = open('query2.txt','w')\n",
    "for i in arr:\n",
    "    f.write(i+'\\n')\n",
    "f.close()"
   ]
  },
  {
   "cell_type": "code",
   "execution_count": 24,
   "metadata": {},
   "outputs": [
    {
     "name": "stdout",
     "output_type": "stream",
     "text": [
      "100\n"
     ]
    }
   ],
   "source": [
    "# TODO: Delete me\n",
    "# test\n",
    "sai_test = []\n",
    "with open(\"query1.txt\", \"r\") as f:\n",
    "    data = f.read()\n",
    "    sai_test = data.splitlines()\n",
    "rohan_test = []\n",
    "with open(\"query2.txt\", \"r\") as f:\n",
    "    data = f.read()\n",
    "    rohan_test = data.splitlines()\n",
    "\n",
    "val = len(set(rohan_test) & set(sai_test))\n",
    "print(val)"
   ]
  },
  {
   "cell_type": "markdown",
   "metadata": {},
   "source": [
    "# Generating protein_embeddings_test.parquet"
   ]
  },
  {
   "cell_type": "code",
   "execution_count": 48,
   "metadata": {},
   "outputs": [
    {
     "name": "stdout",
     "output_type": "stream",
     "text": [
      "Using device: cuda\n"
     ]
    }
   ],
   "source": [
    "import torch\n",
    "import esm\n",
    "import numpy as np\n",
    "import pandas as pd\n",
    "from sklearn.model_selection import train_test_split\n",
    "import torch.nn as nn\n",
    "import torch.optim as optim\n",
    "\n",
    "# Check for GPU\n",
    "device = torch.device(\"cuda\" if torch.cuda.is_available() else \"mps\" if torch.backends.mps.is_available() else \"cpu\")\n",
    "print(f\"Using device: {device}\")\n",
    "\n",
    "# Load pre-trained ESM model and move it to GPU\n",
    "esm_model, alphabet = esm.pretrained.esm2_t33_650M_UR50D()  # Example: ESM-2 model\n",
    "batch_converter = alphabet.get_batch_converter()\n",
    "esm_model = esm_model.to(device)\n",
    "esm_model.eval()  # Set to eval mode\n",
    "\n",
    "# Extract ESM embeddings using GPU\n",
    "def extract_esm_embedding(sequence):\n",
    "    batch_labels, batch_strs, batch_tokens = batch_converter([(None, sequence)])\n",
    "    batch_tokens = batch_tokens.to(device)  # Move input to GPU\n",
    "\n",
    "    with torch.no_grad():\n",
    "        results = esm_model(batch_tokens, repr_layers=[33], return_contacts=False)\n",
    "    \n",
    "    token_representations = results[\"representations\"][33]  # Use final layer\n",
    "    sequence_embedding = token_representations.mean(dim=1).squeeze().cpu().numpy()  # Move back to CPU for NumPy\n",
    "    return sequence_embedding"
   ]
  },
  {
   "cell_type": "code",
   "execution_count": 49,
   "metadata": {},
   "outputs": [],
   "source": [
    "df_test = pd.read_csv('test.csv')\n",
    "df_test['Sequence'] = df_test['mutant'].apply(lambda x: seq[:int(x[1:-1])] + x[-1] + seq[int(x[1:-1])+1:])\n",
    "df_test['Embedding'] = df_test['Sequence'].apply(lambda seq: extract_esm_embedding(seq))\n",
    "df_test.to_parquet(\"protein_embeddings_test.parquet\", engine=\"pyarrow\")"
   ]
  },
  {
   "cell_type": "markdown",
   "metadata": {},
   "source": [
    "# Finding Optimal Hyperparams for LightGBM"
   ]
  },
  {
   "cell_type": "code",
   "execution_count": null,
   "metadata": {},
   "outputs": [],
   "source": [
    "#Best LightGBM Parameters: {'learning_rate': 0.04931791757724383, 'num_leaves': 85, 'min_child_samples': 48, 'max_depth': 7, 'subsample': 0.5749253739933733, 'colsample_bytree': 0.8371746709650121}\n",
    "import optuna\n",
    "\n",
    "def objective(trial):\n",
    "    params = {\n",
    "        \"objective\": \"regression\",\n",
    "        \"metric\": \"rmse\",\n",
    "        \"learning_rate\": trial.suggest_loguniform(\"learning_rate\", 0.01, 0.2),\n",
    "        \"num_leaves\": trial.suggest_int(\"num_leaves\", 10, 100),\n",
    "        \"min_child_samples\": trial.suggest_int(\"min_child_samples\", 5, 50),\n",
    "        \"max_depth\": trial.suggest_int(\"max_depth\", 3, 10),\n",
    "        \"subsample\": trial.suggest_uniform(\"subsample\", 0.5, 1.0),\n",
    "        \"colsample_bytree\": trial.suggest_uniform(\"colsample_bytree\", 0.5, 1.0),\n",
    "    }\n",
    "\n",
    "    lgb_train = lgb.Dataset(X_train.cpu().numpy(), label=y_train.cpu().numpy().flatten())\n",
    "    lgb_model = lgb.train(params, lgb_train, num_boost_round=100)\n",
    "    \n",
    "    y_pred = lgb_model.predict(X_test.cpu().numpy())\n",
    "    spearman_corr, _ = spearmanr(y_test.cpu().numpy().flatten(), y_pred)\n",
    "    \n",
    "    return spearman_corr\n",
    "\n",
    "# Run Bayesian Optimization\n",
    "study = optuna.create_study(direction=\"maximize\")\n",
    "study.optimize(objective, n_trials=20)\n",
    "\n",
    "# Best parameters\n",
    "print(\"Best LightGBM Parameters:\", study.best_params)\n"
   ]
  },
  {
   "cell_type": "markdown",
   "metadata": {},
   "source": [
    "# Best Beta\n",
    "There is not much difference amongst the top options, so we just use 1.5 for simplicity."
   ]
  },
  {
   "cell_type": "code",
   "execution_count": null,
   "metadata": {},
   "outputs": [],
   "source": [
    "import optuna\n",
    "from scipy.stats import spearmanr\n",
    "\n",
    "# Function to optimize beta\n",
    "def optimize_beta(trial):\n",
    "    beta = trial.suggest_uniform(\"beta\", 0.1, 5.0)  # Search range\n",
    "    \n",
    "    ensemble_pred = np.column_stack([model.predict(X_test.cpu().numpy()) for model in lgb_boot_models])\n",
    "    std_pred = np.std(ensemble_pred, axis=1)    # Uncertainty (std dev)\n",
    "    mean_pred = meta_model.predict(ensemble_pred)\n",
    "\n",
    "    ucb_scores = mean_pred + beta * std_pred\n",
    "\n",
    "\n",
    "    # Compute Spearman correlation on these selected samples\n",
    "    spearman_corr, _ = spearmanr(y_test.cpu().numpy().flatten(), ucb_scores)\n",
    "\n",
    "    return spearman_corr\n",
    "\n",
    "# Run optimization\n",
    "study = optuna.create_study(direction=\"maximize\")\n",
    "study.optimize(optimize_beta, n_trials=50)\n",
    "\n",
    "# Get best beta value\n",
    "best_beta = study.best_params[\"beta\"]\n",
    "print(f\"Optimized Beta: {best_beta:.4f}\")"
   ]
  },
  {
   "cell_type": "markdown",
   "metadata": {},
   "source": [
    "# Test Set Predictions"
   ]
  },
  {
   "cell_type": "code",
   "execution_count": null,
   "metadata": {},
   "outputs": [],
   "source": [
    "import torch\n",
    "import esm\n",
    "import numpy as np\n",
    "import pandas as pd\n",
    "from sklearn.model_selection import train_test_split\n",
    "import torch.nn as nn\n",
    "import torch.optim as optim\n",
    "\n",
    "# Check for GPU\n",
    "device = torch.device(\"cuda\" if torch.cuda.is_available() else \"mps\" if torch.backends.mps.is_available() else \"cpu\")\n",
    "print(f\"Using device: {device}\")\n",
    "\n",
    "# Load pre-trained ESM model and move it to GPU\n",
    "esm_model, alphabet = esm.pretrained.esm2_t33_650M_UR50D()  # Example: ESM-2 model\n",
    "batch_converter = alphabet.get_batch_converter()\n",
    "esm_model = esm_model.to(device)\n",
    "esm_model.eval()  # Set to eval mode\n",
    "\n",
    "# Extract ESM embeddings using GPU\n",
    "def extract_esm_embedding(sequence):\n",
    "    batch_labels, batch_strs, batch_tokens = batch_converter([(None, sequence)])\n",
    "    batch_tokens = batch_tokens.to(device)  # Move input to GPU\n",
    "\n",
    "    with torch.no_grad():\n",
    "        results = esm_model(batch_tokens, repr_layers=[33], return_contacts=False)\n",
    "    \n",
    "    token_representations = results[\"representations\"][33]  # Use final layer\n",
    "    sequence_embedding = token_representations.mean(dim=1).squeeze().cpu().numpy()  # Move back to CPU for NumPy\n",
    "    return sequence_embedding"
   ]
  },
  {
   "cell_type": "code",
   "execution_count": null,
   "metadata": {},
   "outputs": [],
   "source": [
    "df_test = pd.read_csv('test.csv')\n",
    "df_test['Sequence'] = df_test['mutant'].apply(lambda x: seq[:int(x[1:-1])] + x[-1] + seq[int(x[1:-1])+1:])\n",
    "df_test['Embedding'] = df_test['Sequence'].apply(lambda seq: extract_esm_embedding(seq))\n",
    "df_test.to_parquet(\"protein_embeddings_test.parquet\", engine=\"pyarrow\")"
   ]
  },
  {
   "cell_type": "code",
   "execution_count": 9,
   "metadata": {},
   "outputs": [
    {
     "data": {
      "text/html": [
       "<div>\n",
       "<style scoped>\n",
       "    .dataframe tbody tr th:only-of-type {\n",
       "        vertical-align: middle;\n",
       "    }\n",
       "\n",
       "    .dataframe tbody tr th {\n",
       "        vertical-align: top;\n",
       "    }\n",
       "\n",
       "    .dataframe thead th {\n",
       "        text-align: right;\n",
       "    }\n",
       "</style>\n",
       "<table border=\"1\" class=\"dataframe\">\n",
       "  <thead>\n",
       "    <tr style=\"text-align: right;\">\n",
       "      <th></th>\n",
       "      <th>mutant</th>\n",
       "      <th>Sequence</th>\n",
       "      <th>Embedding</th>\n",
       "    </tr>\n",
       "  </thead>\n",
       "  <tbody>\n",
       "    <tr>\n",
       "      <th>0</th>\n",
       "      <td>V1D</td>\n",
       "      <td>MDNEARGNSSLNPCLEGSASSGSESSKDSSRCSTPGLDPERHERLR...</td>\n",
       "      <td>[0.026937608, -0.07856282, 0.024653217, 0.0871...</td>\n",
       "    </tr>\n",
       "    <tr>\n",
       "      <th>1</th>\n",
       "      <td>V1Y</td>\n",
       "      <td>MYNEARGNSSLNPCLEGSASSGSESSKDSSRCSTPGLDPERHERLR...</td>\n",
       "      <td>[0.02749172, -0.07658019, 0.02500999, 0.087213...</td>\n",
       "    </tr>\n",
       "    <tr>\n",
       "      <th>2</th>\n",
       "      <td>V1C</td>\n",
       "      <td>MCNEARGNSSLNPCLEGSASSGSESSKDSSRCSTPGLDPERHERLR...</td>\n",
       "      <td>[0.02720123, -0.07751231, 0.025550483, 0.08742...</td>\n",
       "    </tr>\n",
       "    <tr>\n",
       "      <th>3</th>\n",
       "      <td>V1A</td>\n",
       "      <td>MANEARGNSSLNPCLEGSASSGSESSKDSSRCSTPGLDPERHERLR...</td>\n",
       "      <td>[0.025444617, -0.07854507, 0.023187876, 0.0863...</td>\n",
       "    </tr>\n",
       "    <tr>\n",
       "      <th>4</th>\n",
       "      <td>V1E</td>\n",
       "      <td>MENEARGNSSLNPCLEGSASSGSESSKDSSRCSTPGLDPERHERLR...</td>\n",
       "      <td>[0.026875637, -0.07995216, 0.02439556, 0.08796...</td>\n",
       "    </tr>\n",
       "  </tbody>\n",
       "</table>\n",
       "</div>"
      ],
      "text/plain": [
       "  mutant                                           Sequence  \\\n",
       "0    V1D  MDNEARGNSSLNPCLEGSASSGSESSKDSSRCSTPGLDPERHERLR...   \n",
       "1    V1Y  MYNEARGNSSLNPCLEGSASSGSESSKDSSRCSTPGLDPERHERLR...   \n",
       "2    V1C  MCNEARGNSSLNPCLEGSASSGSESSKDSSRCSTPGLDPERHERLR...   \n",
       "3    V1A  MANEARGNSSLNPCLEGSASSGSESSKDSSRCSTPGLDPERHERLR...   \n",
       "4    V1E  MENEARGNSSLNPCLEGSASSGSESSKDSSRCSTPGLDPERHERLR...   \n",
       "\n",
       "                                           Embedding  \n",
       "0  [0.026937608, -0.07856282, 0.024653217, 0.0871...  \n",
       "1  [0.02749172, -0.07658019, 0.02500999, 0.087213...  \n",
       "2  [0.02720123, -0.07751231, 0.025550483, 0.08742...  \n",
       "3  [0.025444617, -0.07854507, 0.023187876, 0.0863...  \n",
       "4  [0.026875637, -0.07995216, 0.02439556, 0.08796...  "
      ]
     },
     "execution_count": 9,
     "metadata": {},
     "output_type": "execute_result"
    }
   ],
   "source": [
    "df_test = pd.read_parquet(\"protein_embeddings_test.parquet\")\n",
    "df_test.head()"
   ]
  },
  {
   "cell_type": "code",
   "execution_count": 74,
   "metadata": {},
   "outputs": [
    {
     "data": {
      "text/plain": [
       "torch.Size([11324, 1280])"
      ]
     },
     "execution_count": 74,
     "metadata": {},
     "output_type": "execute_result"
    }
   ],
   "source": [
    "X_to_pred = np.vstack(df_test.Embedding.values)\n",
    "X_to_pred = torch.tensor(X_to_pred, dtype=torch.float32, device=device)\n",
    "X_to_pred.shape"
   ]
  },
  {
   "cell_type": "code",
   "execution_count": 75,
   "metadata": {},
   "outputs": [],
   "source": [
    "# ensemble_output = np.column_stack([model.predict(X_to_pred.cpu().numpy()) for model in lgb_boot_models])\n",
    "# mean_pred = meta_model.predict(ensemble_output)\n",
    "# ensemble_output.shape, mean_pred.shape\n",
    "\n",
    "pred = model(X_to_pred)\n",
    "pred = pred.detach().cpu().numpy()"
   ]
  },
  {
   "cell_type": "code",
   "execution_count": 32,
   "metadata": {},
   "outputs": [],
   "source": [
    "# output\n",
    "df_test[\"DMS_score_predicted\"] = pred\n",
    "df_test[[\"mutant\", \"DMS_score_predicted\"]].to_csv(\"predictions.csv\", index=False)"
   ]
  },
  {
   "cell_type": "code",
   "execution_count": 50,
   "metadata": {},
   "outputs": [
    {
     "data": {
      "text/plain": [
       "['K355T',\n",
       " 'R362V',\n",
       " 'I364W',\n",
       " 'W366A',\n",
       " 'S368R',\n",
       " 'P370W',\n",
       " 'S372D',\n",
       " 'I374R',\n",
       " 'R376A',\n",
       " 'F383V',\n",
       " 'W388V',\n",
       " 'N390P',\n",
       " 'S392H',\n",
       " 'P394D',\n",
       " 'F396R',\n",
       " 'Y403N',\n",
       " 'F405E',\n",
       " 'L407Y',\n",
       " 'L417Q',\n",
       " 'M419C',\n",
       " 'G421Q',\n",
       " 'E423C',\n",
       " 'T425K',\n",
       " 'F431T',\n",
       " 'V433I',\n",
       " 'V435D',\n",
       " 'Y437W',\n",
       " 'S439Y',\n",
       " 'E441W',\n",
       " 'N443M',\n",
       " 'K448F',\n",
       " 'T450E',\n",
       " 'L452A',\n",
       " 'W454Y',\n",
       " 'D456N',\n",
       " 'P458T',\n",
       " 'A460K',\n",
       " 'E462Q',\n",
       " 'S464A',\n",
       " 'L466V',\n",
       " 'L470E',\n",
       " 'R472Y',\n",
       " 'N474A',\n",
       " 'I478W',\n",
       " 'T480S',\n",
       " 'K490A',\n",
       " 'S492V',\n",
       " 'D494F',\n",
       " 'I496D',\n",
       " 'G498M',\n",
       " 'G500A',\n",
       " 'S502W',\n",
       " 'G504A',\n",
       " 'V506D',\n",
       " 'A510E',\n",
       " 'L512Q',\n",
       " 'F514W',\n",
       " 'T516L',\n",
       " 'R518A',\n",
       " 'T520I',\n",
       " 'E522V',\n",
       " 'L524D',\n",
       " 'L528D',\n",
       " 'K530R',\n",
       " 'E532Y',\n",
       " 'R534P',\n",
       " 'N536Y',\n",
       " 'H538Q',\n",
       " 'V540E',\n",
       " 'V542E',\n",
       " 'G544C',\n",
       " 'T548G',\n",
       " 'A550D',\n",
       " 'Q554V',\n",
       " 'N556H',\n",
       " 'V558Y',\n",
       " 'I562V',\n",
       " 'P564Y',\n",
       " 'R566Y',\n",
       " 'I568F',\n",
       " 'T572I',\n",
       " 'V574T',\n",
       " 'P576Q',\n",
       " 'S578Q',\n",
       " 'M580E',\n",
       " 'W582V',\n",
       " 'D584V',\n",
       " 'A586D',\n",
       " 'A588F',\n",
       " 'W590T',\n",
       " 'E592F',\n",
       " 'W594G',\n",
       " 'K596A',\n",
       " 'Y598I',\n",
       " 'S602W',\n",
       " 'S604F',\n",
       " 'T606P',\n",
       " 'I608L',\n",
       " 'Y610F',\n",
       " 'H612D']"
      ]
     },
     "execution_count": 50,
     "metadata": {},
     "output_type": "execute_result"
    }
   ],
   "source": [
    "vis = set(df['Position'].values)\n",
    "next_queries = []\n",
    "for i in range(len(df_test)):\n",
    "    row = df_test.loc[i]\n",
    "    if row['Position'] < 350:\n",
    "        continue\n",
    "    if row['Position'] in vis or (row['Position']-1) in vis or (row['Position']+1) in vis:\n",
    "        continue\n",
    "    next_queries.append(row['mutant'])\n",
    "    vis.add(row['Position'])\n",
    "    if len(next_queries) == 100:\n",
    "        break\n",
    "\n",
    "next_queries"
   ]
  },
  {
   "cell_type": "code",
   "execution_count": 51,
   "metadata": {},
   "outputs": [],
   "source": [
    "with open('query2.txt','w') as f:\n",
    "    for i in next_queries:\n",
    "        f.write(i+'\\n')"
   ]
  },
  {
   "cell_type": "code",
   "execution_count": null,
   "metadata": {},
   "outputs": [],
   "source": [
    "df"
   ]
  },
  {
   "cell_type": "code",
   "execution_count": 38,
   "metadata": {},
   "outputs": [
    {
     "data": {
      "text/plain": [
       "(1240, 23)"
      ]
     },
     "execution_count": 38,
     "metadata": {},
     "output_type": "execute_result"
    }
   ],
   "source": [
    "df.shape"
   ]
  },
  {
   "cell_type": "code",
   "execution_count": 77,
   "metadata": {},
   "outputs": [
    {
     "name": "stdout",
     "output_type": "stream",
     "text": [
      "[[0.36798406]\n",
      " [0.80776864]\n",
      " [0.28138357]\n",
      " ...\n",
      " [1.0495343 ]\n",
      " [1.1097331 ]\n",
      " [1.1096427 ]]\n"
     ]
    }
   ],
   "source": [
    "print(pred)"
   ]
  },
  {
   "cell_type": "code",
   "execution_count": 78,
   "metadata": {},
   "outputs": [
    {
     "data": {
      "text/plain": [
       "array([8628, 4032, 8909, ..., 8723,  494, 4543])"
      ]
     },
     "execution_count": 78,
     "metadata": {},
     "output_type": "execute_result"
    }
   ],
   "source": [
    "pred.flatten().argsort()"
   ]
  },
  {
   "cell_type": "code",
   "execution_count": 79,
   "metadata": {},
   "outputs": [],
   "source": [
    "top10mutants = df_test.iloc[pred.flatten().argsort()[-10:], :]\n",
    "mutants = []\n",
    "for mut in top10mutants[\"mutant\"].values:\n",
    "    mutants.append(mut)\n",
    "\n",
    "with open(\"top10.txt\", \"w\") as f:\n",
    "\n",
    "    f.write(\"\\n\".join(mutants))\n"
   ]
  },
  {
   "cell_type": "markdown",
   "metadata": {},
   "source": [
    "## Graphs"
   ]
  },
  {
   "cell_type": "code",
   "execution_count": 122,
   "metadata": {},
   "outputs": [
    {
     "data": {
      "image/png": "[encoded data removed]",
      "text/plain": [
       "<Figure size 640x480 with 1 Axes>"
      ]
     },
     "metadata": {},
     "output_type": "display_data"
    }
   ],
   "source": [
    "import matplotlib.pyplot as plt\n",
    "%matplotlib inline\n",
    "plt.hist(ensemble_output.flatten())\n",
    "plt.title(\"Ensemble Output Labels\")\n",
    "plt.show()"
   ]
  },
  {
   "cell_type": "code",
   "execution_count": 123,
   "metadata": {},
   "outputs": [
    {
     "data": {
      "image/png": "[encoded data removed]",
      "text/plain": [
       "<Figure size 640x480 with 1 Axes>"
      ]
     },
     "metadata": {},
     "output_type": "display_data"
    }
   ],
   "source": [
    "import matplotlib.pyplot as plt\n",
    "%matplotlib inline\n",
    "plt.hist(mean_pred)\n",
    "plt.title(\"Test Set Prediction Labels\")\n",
    "plt.show()"
   ]
  },
  {
   "cell_type": "markdown",
   "metadata": {},
   "source": [
    "# Graphs"
   ]
  },
  {
   "cell_type": "markdown",
   "metadata": {},
   "source": [
    "## Training Data"
   ]
  },
  {
   "cell_type": "code",
   "execution_count": 66,
   "metadata": {},
   "outputs": [
    {
     "data": {
      "image/png": "[encoded data removed]",
      "text/plain": [
       "<Figure size 640x480 with 1 Axes>"
      ]
     },
     "metadata": {},
     "output_type": "display_data"
    }
   ],
   "source": [
    "plt.hist(y_train.cpu().numpy())\n",
    "plt.title(\"Training Labels\")\n",
    "plt.show()"
   ]
  },
  {
   "cell_type": "code",
   "execution_count": 67,
   "metadata": {},
   "outputs": [
    {
     "data": {
      "image/png": "[encoded data removed]",
      "text/plain": [
       "<Figure size 640x480 with 1 Axes>"
      ]
     },
     "metadata": {},
     "output_type": "display_data"
    }
   ],
   "source": [
    "plt.hist(y_test.cpu().numpy())\n",
    "plt.title(\"Testing Labels\")\n",
    "plt.show()"
   ]
  },
  {
   "cell_type": "markdown",
   "metadata": {},
   "source": [
    "## Eval on Training Set"
   ]
  },
  {
   "cell_type": "code",
   "execution_count": 80,
   "metadata": {},
   "outputs": [
    {
     "data": {
      "text/plain": [
       "((912, 100), (912,))"
      ]
     },
     "execution_count": 80,
     "metadata": {},
     "output_type": "execute_result"
    }
   ],
   "source": [
    "ensemble_output = np.column_stack([model.predict(X_train.cpu().numpy()) for model in lgb_boot_models])\n",
    "mean_pred = meta_model.predict(ensemble_output)\n",
    "ensemble_output.shape, mean_pred.shape"
   ]
  },
  {
   "cell_type": "code",
   "execution_count": 81,
   "metadata": {},
   "outputs": [
    {
     "data": {
      "image/png": "[encoded data removed]",
      "text/plain": [
       "<Figure size 640x480 with 1 Axes>"
      ]
     },
     "metadata": {},
     "output_type": "display_data"
    }
   ],
   "source": [
    "import matplotlib.pyplot as plt\n",
    "%matplotlib inline\n",
    "plt.hist(ensemble_output.flatten())\n",
    "plt.title(\"Ensemble Output Labels\")\n",
    "plt.show()"
   ]
  },
  {
   "cell_type": "code",
   "execution_count": 82,
   "metadata": {},
   "outputs": [
    {
     "data": {
      "image/png": "[encoded data removed]",
      "text/plain": [
       "<Figure size 640x480 with 1 Axes>"
      ]
     },
     "metadata": {},
     "output_type": "display_data"
    }
   ],
   "source": [
    "import matplotlib.pyplot as plt\n",
    "%matplotlib inline\n",
    "plt.hist(mean_pred)\n",
    "plt.title(\"Test Set Prediction Labels\")\n",
    "plt.show()"
   ]
  },
  {
   "cell_type": "markdown",
   "metadata": {},
   "source": [
    "## Query 1 Eval"
   ]
  },
  {
   "cell_type": "code",
   "execution_count": 84,
   "metadata": {},
   "outputs": [],
   "source": [
    "# load and merge in query 1 results\n",
    "df_query1 = pd.read_csv('query1.csv')\n",
    "df_query1.rename(columns={\"sequence\": \"Sequence\"}, inplace=True)\n",
    "\n",
    "# develop embeddings\n",
    "df_query1[\"Embedding\"] = df_query1[\"Sequence\"].apply(lambda seq: extract_esm_embedding(seq))\n"
   ]
  },
  {
   "cell_type": "code",
   "execution_count": 96,
   "metadata": {},
   "outputs": [
    {
     "data": {
      "text/plain": [
       "((100, 100), (100,))"
      ]
     },
     "execution_count": 96,
     "metadata": {},
     "output_type": "execute_result"
    }
   ],
   "source": [
    "X_query1 = np.vstack(df_query1[\"Embedding\"].values)\n",
    "y_query1 = df_query1[\"DMS_score\"].values.reshape(-1, 1)\n",
    "ensemble_output = np.column_stack([model.predict(X_query1) for model in lgb_boot_models])\n",
    "mean_pred = ensemble_output.mean(axis=1)#meta_model.predict(ensemble_output)\n",
    "ensemble_output.shape, mean_pred.shape"
   ]
  },
  {
   "cell_type": "code",
   "execution_count": 97,
   "metadata": {},
   "outputs": [
    {
     "data": {
      "image/png": "[encoded data removed]",
      "text/plain": [
       "<Figure size 640x480 with 1 Axes>"
      ]
     },
     "metadata": {},
     "output_type": "display_data"
    }
   ],
   "source": [
    "plt.scatter(mean_pred, y_query1)\n",
    "plt.title(\"Scatter Plot of Query 1 Predicted v. Expected\")\n",
    "plt.xlabel(\"Model Predicted\")\n",
    "plt.ylabel(\"Expected\")\n",
    "plt.show()"
   ]
  },
  {
   "cell_type": "code",
   "execution_count": 98,
   "metadata": {},
   "outputs": [
    {
     "data": {
      "text/plain": [
       "np.float64(0.4742274227422742)"
      ]
     },
     "execution_count": 98,
     "metadata": {},
     "output_type": "execute_result"
    }
   ],
   "source": [
    "from scipy.stats import spearmanr\n",
    "corr, p_value = spearmanr(mean_pred, y_query1)\n",
    "corr"
   ]
  },
  {
   "cell_type": "code",
   "execution_count": 99,
   "metadata": {},
   "outputs": [
    {
     "data": {
      "image/png": "[encoded data removed]",
      "text/plain": [
       "<Figure size 640x480 with 1 Axes>"
      ]
     },
     "metadata": {},
     "output_type": "display_data"
    }
   ],
   "source": [
    "import matplotlib.pyplot as plt\n",
    "%matplotlib inline\n",
    "plt.hist(mean_pred)\n",
    "plt.title(\"Test Set Prediction Labels\")\n",
    "plt.show()"
   ]
  }
 ],
 "metadata": {
  "kernelspec": {
   "display_name": "compbiohack",
   "language": "python",
   "name": "python3"
  },
  "language_info": {
   "codemirror_mode": {
    "name": "ipython",
    "version": 3
   },
   "file_extension": ".py",
   "mimetype": "text/x-python",
   "name": "python",
   "nbconvert_exporter": "python",
   "pygments_lexer": "ipython3",
   "version": "3.13.2"
  }
 },
 "nbformat": 4,
 "nbformat_minor": 2
}
