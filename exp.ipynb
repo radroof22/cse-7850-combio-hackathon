{
 "cells": [
  {
   "cell_type": "code",
   "execution_count": 33,
   "metadata": {},
   "outputs": [],
   "source": [
    "import pandas as pd"
   ]
  },
  {
   "cell_type": "code",
   "execution_count": 34,
   "metadata": {},
   "outputs": [
    {
     "data": {
      "text/html": [
       "<div>\n",
       "<style scoped>\n",
       "    .dataframe tbody tr th:only-of-type {\n",
       "        vertical-align: middle;\n",
       "    }\n",
       "\n",
       "    .dataframe tbody tr th {\n",
       "        vertical-align: top;\n",
       "    }\n",
       "\n",
       "    .dataframe thead th {\n",
       "        text-align: right;\n",
       "    }\n",
       "</style>\n",
       "<table border=\"1\" class=\"dataframe\">\n",
       "  <thead>\n",
       "    <tr style=\"text-align: right;\">\n",
       "      <th></th>\n",
       "      <th>mutant</th>\n",
       "      <th>DMS_score</th>\n",
       "    </tr>\n",
       "  </thead>\n",
       "  <tbody>\n",
       "    <tr>\n",
       "      <th>0</th>\n",
       "      <td>M0Y</td>\n",
       "      <td>0.2730</td>\n",
       "    </tr>\n",
       "    <tr>\n",
       "      <th>1</th>\n",
       "      <td>M0W</td>\n",
       "      <td>0.2857</td>\n",
       "    </tr>\n",
       "    <tr>\n",
       "      <th>2</th>\n",
       "      <td>M0V</td>\n",
       "      <td>0.2153</td>\n",
       "    </tr>\n",
       "    <tr>\n",
       "      <th>3</th>\n",
       "      <td>M0T</td>\n",
       "      <td>0.3122</td>\n",
       "    </tr>\n",
       "    <tr>\n",
       "      <th>4</th>\n",
       "      <td>M0S</td>\n",
       "      <td>0.2180</td>\n",
       "    </tr>\n",
       "  </tbody>\n",
       "</table>\n",
       "</div>"
      ],
      "text/plain": [
       "  mutant  DMS_score\n",
       "0    M0Y     0.2730\n",
       "1    M0W     0.2857\n",
       "2    M0V     0.2153\n",
       "3    M0T     0.3122\n",
       "4    M0S     0.2180"
      ]
     },
     "execution_count": 34,
     "metadata": {},
     "output_type": "execute_result"
    }
   ],
   "source": [
    "df = pd.read_csv('train.csv')\n",
    "df.head()"
   ]
  },
  {
   "cell_type": "code",
   "execution_count": 35,
   "metadata": {},
   "outputs": [],
   "source": [
    "seq = open('sequence.fasta', 'r').read()\n",
    "seq = seq.split(\"\\n\")[1]"
   ]
  },
  {
   "cell_type": "code",
   "execution_count": 36,
   "metadata": {},
   "outputs": [],
   "source": [
    "sequences = []\n",
    "for i in df['mutant']:\n",
    "    ind = int(i[1:-1])\n",
    "    tmp = seq[:ind] + i[-1] + seq[ind+1:]\n",
    "    sequences.append(tmp)"
   ]
  },
  {
   "cell_type": "code",
   "execution_count": 37,
   "metadata": {},
   "outputs": [],
   "source": [
    "df['Sequence'] = sequences"
   ]
  },
  {
   "cell_type": "code",
   "execution_count": 38,
   "metadata": {},
   "outputs": [
    {
     "name": "stdout",
     "output_type": "stream",
     "text": [
      "Using device: cuda\n",
      "Epoch 10/100, Loss: 0.0505\n",
      "Epoch 20/100, Loss: 0.0431\n",
      "Epoch 30/100, Loss: 0.0419\n",
      "Epoch 40/100, Loss: 0.0414\n",
      "Epoch 50/100, Loss: 0.0412\n",
      "Epoch 60/100, Loss: 0.0412\n",
      "Epoch 70/100, Loss: 0.0412\n",
      "Epoch 80/100, Loss: 0.0412\n",
      "Epoch 90/100, Loss: 0.0412\n",
      "Epoch 100/100, Loss: 0.0412\n",
      "Test MSE: 0.0497\n"
     ]
    }
   ],
   "source": [
    "import torch\n",
    "import esm\n",
    "import numpy as np\n",
    "import pandas as pd\n",
    "from sklearn.model_selection import train_test_split\n",
    "import torch.nn as nn\n",
    "import torch.optim as optim\n",
    "\n",
    "# Check for GPU\n",
    "device = torch.device(\"cuda\" if torch.cuda.is_available() else \"cpu\")\n",
    "print(f\"Using device: {device}\")\n",
    "\n",
    "# Load pre-trained ESM model and move it to GPU\n",
    "esm_model, alphabet = esm.pretrained.esm2_t33_650M_UR50D()  # Example: ESM-2 model\n",
    "batch_converter = alphabet.get_batch_converter()\n",
    "esm_model = esm_model.to(device)\n",
    "esm_model.eval()  # Set to eval mode\n",
    "\n",
    "# Extract ESM embeddings using GPU\n",
    "def extract_esm_embedding(sequence):\n",
    "    batch_labels, batch_strs, batch_tokens = batch_converter([(None, sequence)])\n",
    "    batch_tokens = batch_tokens.to(device)  # Move input to GPU\n",
    "\n",
    "    with torch.no_grad():\n",
    "        results = esm_model(batch_tokens, repr_layers=[33], return_contacts=False)\n",
    "    \n",
    "    token_representations = results[\"representations\"][33]  # Use final layer\n",
    "    sequence_embedding = token_representations.mean(dim=1).squeeze().cpu().numpy()  # Move back to CPU for NumPy\n",
    "    return sequence_embedding\n",
    "\n",
    "# Apply embedding extraction\n",
    "df[\"Embedding\"] = df[\"Sequence\"].apply(lambda seq: extract_esm_embedding(seq))\n",
    "\n",
    "# Convert embeddings into feature matrix\n",
    "X = np.vstack(df[\"Embedding\"].values)\n",
    "y = df[\"DMS_score\"].values\n",
    "\n",
    "# Convert to PyTorch tensors and move to GPU\n",
    "X_tensor = torch.tensor(X, dtype=torch.float32, device=device)\n",
    "y_tensor = torch.tensor(y, dtype=torch.float32, device=device).view(-1, 1)  # Reshape for MLP\n",
    "\n",
    "# Train/test split\n",
    "X_train, X_test, y_train, y_test = train_test_split(X_tensor, y_tensor, test_size=0.2, random_state=42)\n",
    "\n",
    "# Define a simple MLP regression model using GPU\n",
    "class MLPRegressor(nn.Module):\n",
    "    def __init__(self, input_dim):\n",
    "        super(MLPRegressor, self).__init__()\n",
    "        self.model = nn.Sequential(\n",
    "            nn.Linear(input_dim, 128),\n",
    "            nn.ReLU(),\n",
    "            nn.Linear(128, 128),\n",
    "            nn.ReLU(),\n",
    "            nn.Linear(128, 64),\n",
    "            nn.ReLU(),\n",
    "            nn.Linear(64, 1)  # Single output value\n",
    "        )\n",
    "\n",
    "    def forward(self, x):\n",
    "        return self.model(x)\n",
    "\n",
    "# Initialize model, loss function, and optimizer\n",
    "model = MLPRegressor(input_dim=X.shape[1]).to(device)\n",
    "criterion = nn.MSELoss()\n",
    "optimizer = optim.Adam(model.parameters(), lr=0.001)\n",
    "\n",
    "# Training loop\n",
    "epochs = 100\n",
    "for epoch in range(epochs):\n",
    "    model.train()\n",
    "    optimizer.zero_grad()\n",
    "    predictions = model(X_train)\n",
    "    loss = criterion(predictions, y_train)\n",
    "    loss.backward()\n",
    "    optimizer.step()\n",
    "\n",
    "    if (epoch + 1) % 10 == 0:\n",
    "        print(f\"Epoch {epoch+1}/{epochs}, Loss: {loss.item():.4f}\")\n",
    "\n",
    "# Evaluate on test set\n",
    "model.eval()\n",
    "with torch.no_grad():\n",
    "    test_predictions = model(X_test)\n",
    "    test_loss = criterion(test_predictions, y_test)\n",
    "print(f\"Test MSE: {test_loss.item():.4f}\")\n"
   ]
  },
  {
   "cell_type": "code",
   "execution_count": 40,
   "metadata": {},
   "outputs": [],
   "source": [
    "df.to_parquet(\"protein_embeddings.parquet\", engine=\"pyarrow\")"
   ]
  },
  {
   "cell_type": "code",
   "execution_count": 41,
   "metadata": {},
   "outputs": [],
   "source": [
    "df = pd.read_parquet('protein_embeddings.parquet')"
   ]
  },
  {
   "cell_type": "code",
   "execution_count": 68,
   "metadata": {},
   "outputs": [
    {
     "name": "stdout",
     "output_type": "stream",
     "text": [
      "Spearman Correlation: 0.1860\n"
     ]
    }
   ],
   "source": [
    "from scipy.stats import spearmanr\n",
    "\n",
    "# Convert tensors to NumPy for correlation calculation\n",
    "y_test_np = y_test.cpu().numpy().flatten()\n",
    "test_predictions_np = test_predictions.cpu().numpy().flatten()\n",
    "\n",
    "# Compute Spearman correlation\n",
    "spearman_corr, _ = spearmanr(y_test_np, test_predictions_np)\n",
    "print(f\"Spearman Correlation: {spearman_corr:.4f}\")"
   ]
  },
  {
   "cell_type": "code",
   "execution_count": 67,
   "metadata": {},
   "outputs": [
    {
     "name": "stdout",
     "output_type": "stream",
     "text": [
      "Epoch 10/100, Loss: 0.0413\n",
      "Epoch 20/100, Loss: 0.0412\n",
      "Epoch 30/100, Loss: 0.0412\n",
      "Epoch 40/100, Loss: 0.0412\n",
      "Epoch 50/100, Loss: 0.0412\n",
      "Epoch 60/100, Loss: 0.0412\n",
      "Epoch 70/100, Loss: 0.0412\n",
      "Epoch 80/100, Loss: 0.0412\n",
      "Epoch 90/100, Loss: 0.0412\n",
      "Epoch 100/100, Loss: 0.0412\n",
      "Test MSE: 0.0497\n"
     ]
    }
   ],
   "source": [
    "import torch\n",
    "import esm\n",
    "import numpy as np\n",
    "import pandas as pd\n",
    "from sklearn.model_selection import train_test_split\n",
    "import torch.nn as nn\n",
    "import torch.optim as optim\n",
    "\n",
    "# Check for GPU\n",
    "device = torch.device(\"cuda\" if torch.cuda.is_available() else \"cpu\")\n",
    "\n",
    "X = np.vstack(df[\"Embedding\"].values)\n",
    "y = df[\"DMS_score\"].values\n",
    "\n",
    "# Convert to PyTorch tensors and move to GPU\n",
    "X_tensor = torch.tensor(X, dtype=torch.float32, device=device)\n",
    "y_tensor = torch.tensor(y, dtype=torch.float32, device=device).view(-1, 1)  # Reshape for MLP\n",
    "\n",
    "# Train/test split\n",
    "X_train, X_test, y_train, y_test = train_test_split(X_tensor, y_tensor, test_size=0.2, random_state=42)\n",
    "\n",
    "# Define a simple MLP regression model using GPU\n",
    "class MLPRegressor(nn.Module):\n",
    "    def __init__(self, input_dim):\n",
    "        super(MLPRegressor, self).__init__()\n",
    "        self.model = nn.Sequential(\n",
    "            nn.Linear(input_dim, 512),\n",
    "            nn.ReLU(),\n",
    "            nn.Linear(512, 512),\n",
    "            nn.ReLU(),\n",
    "            nn.Linear(512, 256),\n",
    "            nn.ReLU(),\n",
    "            nn.Linear(256, 64),\n",
    "            nn.ReLU(),\n",
    "            nn.Linear(64, 1)  # Single output value\n",
    "        )\n",
    "\n",
    "    def forward(self, x):\n",
    "        return self.model(x)\n",
    "\n",
    "# Initialize model, loss function, and optimizer\n",
    "model = MLPRegressor(input_dim=X.shape[1]).to(device)\n",
    "criterion = nn.MSELoss()\n",
    "optimizer = optim.Adam(model.parameters(), lr=0.001)\n",
    "\n",
    "# Training loop\n",
    "epochs = 100\n",
    "for epoch in range(epochs):\n",
    "    model.train()\n",
    "    optimizer.zero_grad()\n",
    "    predictions = model(X_train)\n",
    "    loss = criterion(predictions, y_train)\n",
    "    loss.backward()\n",
    "    optimizer.step()\n",
    "\n",
    "    if (epoch + 1) % 10 == 0:\n",
    "        print(f\"Epoch {epoch+1}/{epochs}, Loss: {loss.item():.4f}\")\n",
    "\n",
    "# Evaluate on test set\n",
    "model.eval()\n",
    "with torch.no_grad():\n",
    "    test_predictions = model(X_test)\n",
    "    test_loss = criterion(test_predictions, y_test)\n",
    "print(f\"Test MSE: {test_loss.item():.4f}\")\n"
   ]
  },
  {
   "cell_type": "code",
   "execution_count": 74,
   "metadata": {},
   "outputs": [
    {
     "name": "stdout",
     "output_type": "stream",
     "text": [
      "XGBoost Spearman Correlation: 0.4483\n"
     ]
    }
   ],
   "source": [
    "import xgboost as xgb\n",
    "\n",
    "# Convert to DMatrix (XGBoost's optimized data structure)\n",
    "dtrain = xgb.DMatrix(X_train.cpu().numpy(), label=y_train.cpu().numpy().flatten())\n",
    "dtest = xgb.DMatrix(X_test.cpu().numpy(), label=y_test.cpu().numpy().flatten())\n",
    "\n",
    "# Train XGBoost Model\n",
    "params = {\"objective\": \"reg:squarederror\", \"eval_metric\": \"rmse\"}\n",
    "xgb_model = xgb.train(params, dtrain, num_boost_round=100)\n",
    "\n",
    "# Predict\n",
    "y_pred_xgb = xgb_model.predict(dtest)\n",
    "\n",
    "# Compute Spearman correlation\n",
    "spearman_corr_xgb, _ = spearmanr(y_test.cpu().numpy().flatten(), y_pred_xgb)\n",
    "print(f\"XGBoost Spearman Correlation: {spearman_corr_xgb:.4f}\")\n"
   ]
  },
  {
   "cell_type": "code",
   "execution_count": 76,
   "metadata": {},
   "outputs": [
    {
     "name": "stdout",
     "output_type": "stream",
     "text": [
      "[LightGBM] [Info] Auto-choosing col-wise multi-threading, the overhead of testing was 0.018735 seconds.\n",
      "You can set `force_col_wise=true` to remove the overhead.\n",
      "[LightGBM] [Info] Total Bins 326399\n",
      "[LightGBM] [Info] Number of data points in the train set: 912, number of used features: 1280\n",
      "[LightGBM] [Info] Start training from score 0.220504\n",
      "LightGBM Spearman Correlation: 0.4641\n"
     ]
    }
   ],
   "source": [
    "import lightgbm as lgb\n",
    "\n",
    "# Train LightGBM Model\n",
    "lgb_train = lgb.Dataset(X_train.cpu().numpy(), label=y_train.cpu().numpy().flatten())\n",
    "lgb_test = lgb.Dataset(X_test.cpu().numpy(), label=y_test.cpu().numpy().flatten(), reference=lgb_train)\n",
    "\n",
    "params = {\"objective\": \"regression\", \"metric\": \"rmse\"}\n",
    "lgb_model = lgb.train(params, lgb_train, num_boost_round=100)\n",
    "\n",
    "# Predict\n",
    "y_pred_lgb = lgb_model.predict(X_test.cpu().numpy())\n",
    "\n",
    "# Compute Spearman correlation\n",
    "spearman_corr_lgb, _ = spearmanr(y_test.cpu().numpy().flatten(), y_pred_lgb)\n",
    "print(f\"LightGBM Spearman Correlation: {spearman_corr_lgb:.4f}\")\n"
   ]
  }
 ],
 "metadata": {
  "kernelspec": {
   "display_name": "compbiohack",
   "language": "python",
   "name": "python3"
  },
  "language_info": {
   "codemirror_mode": {
    "name": "ipython",
    "version": 3
   },
   "file_extension": ".py",
   "mimetype": "text/x-python",
   "name": "python",
   "nbconvert_exporter": "python",
   "pygments_lexer": "ipython3",
   "version": "3.13.2"
  }
 },
 "nbformat": 4,
 "nbformat_minor": 2
}
