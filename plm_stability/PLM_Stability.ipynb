{
 "cells": [
  {
   "cell_type": "code",
   "execution_count": 1,
   "metadata": {},
   "outputs": [],
   "source": [
    "%load_ext autoreload\n",
    "%autoreload 2"
   ]
  },
  {
   "cell_type": "code",
   "execution_count": 2,
   "metadata": {},
   "outputs": [],
   "source": [
    "import pandas as pd\n",
    "import numpy as np"
   ]
  },
  {
   "attachments": {},
   "cell_type": "markdown",
   "metadata": {},
   "source": [
    "# PLM Stability Functions"
   ]
  },
  {
   "cell_type": "code",
   "execution_count": 3,
   "metadata": {},
   "outputs": [],
   "source": [
    "from transformers import AutoTokenizer, EsmForMaskedLM\n",
    "import torch\n",
    "import matplotlib.pyplot as plt\n",
    "import numpy as np\n",
    "import ipywidgets as widgets\n",
    "from IPython.display import display"
   ]
  },
  {
   "cell_type": "code",
   "execution_count": 5,
   "metadata": {},
   "outputs": [],
   "source": [
    "# Load model directly\n",
    "from transformers import AutoTokenizer, AutoModelForMaskedLM\n",
    "\n",
    "AMINO_ACIDS = list(\"ACDEFGHIKLMNPQRSTVWY\")\n",
    "\n",
    "TOKENIZER = AutoTokenizer.from_pretrained(\"facebook/esm2_t33_650M_UR50D\")\n",
    "MODEL = AutoModelForMaskedLM.from_pretrained(\"facebook/esm2_t33_650M_UR50D\")"
   ]
  },
  {
   "cell_type": "code",
   "execution_count": 6,
   "metadata": {},
   "outputs": [
    {
     "name": "stdout",
     "output_type": "stream",
     "text": [
      "Requirement already satisfied: ipywidgets in /home/hice1/rmehta98/.conda/envs/compbio/lib/python3.13/site-packages (8.1.5)\n",
      "Requirement already satisfied: comm>=0.1.3 in /home/hice1/rmehta98/.conda/envs/compbio/lib/python3.13/site-packages (from ipywidgets) (0.2.2)\n",
      "Requirement already satisfied: ipython>=6.1.0 in /home/hice1/rmehta98/.conda/envs/compbio/lib/python3.13/site-packages (from ipywidgets) (9.0.0)\n",
      "Requirement already satisfied: traitlets>=4.3.1 in /home/hice1/rmehta98/.conda/envs/compbio/lib/python3.13/site-packages (from ipywidgets) (5.14.3)\n",
      "Requirement already satisfied: widgetsnbextension~=4.0.12 in /home/hice1/rmehta98/.conda/envs/compbio/lib/python3.13/site-packages (from ipywidgets) (4.0.13)\n",
      "Requirement already satisfied: jupyterlab-widgets~=3.0.12 in /home/hice1/rmehta98/.conda/envs/compbio/lib/python3.13/site-packages (from ipywidgets) (3.0.13)\n",
      "Requirement already satisfied: decorator in /home/hice1/rmehta98/.conda/envs/compbio/lib/python3.13/site-packages (from ipython>=6.1.0->ipywidgets) (5.2.1)\n",
      "Requirement already satisfied: ipython-pygments-lexers in /home/hice1/rmehta98/.conda/envs/compbio/lib/python3.13/site-packages (from ipython>=6.1.0->ipywidgets) (1.1.1)\n",
      "Requirement already satisfied: jedi>=0.16 in /home/hice1/rmehta98/.conda/envs/compbio/lib/python3.13/site-packages (from ipython>=6.1.0->ipywidgets) (0.19.2)\n",
      "Requirement already satisfied: matplotlib-inline in /home/hice1/rmehta98/.conda/envs/compbio/lib/python3.13/site-packages (from ipython>=6.1.0->ipywidgets) (0.1.7)\n",
      "Requirement already satisfied: pexpect>4.3 in /home/hice1/rmehta98/.conda/envs/compbio/lib/python3.13/site-packages (from ipython>=6.1.0->ipywidgets) (4.9.0)\n",
      "Requirement already satisfied: prompt_toolkit<3.1.0,>=3.0.41 in /home/hice1/rmehta98/.conda/envs/compbio/lib/python3.13/site-packages (from ipython>=6.1.0->ipywidgets) (3.0.50)\n",
      "Requirement already satisfied: pygments>=2.4.0 in /home/hice1/rmehta98/.conda/envs/compbio/lib/python3.13/site-packages (from ipython>=6.1.0->ipywidgets) (2.19.1)\n",
      "Requirement already satisfied: stack_data in /home/hice1/rmehta98/.conda/envs/compbio/lib/python3.13/site-packages (from ipython>=6.1.0->ipywidgets) (0.6.3)\n",
      "Requirement already satisfied: parso<0.9.0,>=0.8.4 in /home/hice1/rmehta98/.conda/envs/compbio/lib/python3.13/site-packages (from jedi>=0.16->ipython>=6.1.0->ipywidgets) (0.8.4)\n",
      "Requirement already satisfied: ptyprocess>=0.5 in /home/hice1/rmehta98/.conda/envs/compbio/lib/python3.13/site-packages (from pexpect>4.3->ipython>=6.1.0->ipywidgets) (0.7.0)\n",
      "Requirement already satisfied: wcwidth in /home/hice1/rmehta98/.conda/envs/compbio/lib/python3.13/site-packages (from prompt_toolkit<3.1.0,>=3.0.41->ipython>=6.1.0->ipywidgets) (0.2.13)\n",
      "Requirement already satisfied: executing>=1.2.0 in /home/hice1/rmehta98/.conda/envs/compbio/lib/python3.13/site-packages (from stack_data->ipython>=6.1.0->ipywidgets) (2.1.0)\n",
      "Requirement already satisfied: asttokens>=2.1.0 in /home/hice1/rmehta98/.conda/envs/compbio/lib/python3.13/site-packages (from stack_data->ipython>=6.1.0->ipywidgets) (3.0.0)\n",
      "Requirement already satisfied: pure_eval in /home/hice1/rmehta98/.conda/envs/compbio/lib/python3.13/site-packages (from stack_data->ipython>=6.1.0->ipywidgets) (0.2.3)\n",
      "Requirement already satisfied: widgetsnbextension in /home/hice1/rmehta98/.conda/envs/compbio/lib/python3.13/site-packages (4.0.13)\n",
      "Collecting pandas-profiling\n",
      "  Using cached pandas_profiling-3.2.0-py2.py3-none-any.whl.metadata (21 kB)\n",
      "Collecting joblib~=1.1.0 (from pandas-profiling)\n",
      "  Using cached joblib-1.1.1-py2.py3-none-any.whl.metadata (5.2 kB)\n",
      "Requirement already satisfied: scipy>=1.4.1 in /home/hice1/rmehta98/.conda/envs/compbio/lib/python3.13/site-packages (from pandas-profiling) (1.15.2)\n",
      "Requirement already satisfied: pandas!=1.0.0,!=1.0.1,!=1.0.2,!=1.1.0,>=0.25.3 in /home/hice1/rmehta98/.conda/envs/compbio/lib/python3.13/site-packages (from pandas-profiling) (2.2.3)\n",
      "Requirement already satisfied: matplotlib>=3.2.0 in /home/hice1/rmehta98/.conda/envs/compbio/lib/python3.13/site-packages (from pandas-profiling) (3.10.1)\n",
      "Collecting pydantic>=1.8.1 (from pandas-profiling)\n",
      "  Using cached pydantic-2.11.1-py3-none-any.whl.metadata (63 kB)\n",
      "Requirement already satisfied: PyYAML>=5.0.0 in /home/hice1/rmehta98/.conda/envs/compbio/lib/python3.13/site-packages (from pandas-profiling) (6.0.2)\n",
      "Requirement already satisfied: jinja2>=2.11.1 in /home/hice1/rmehta98/.conda/envs/compbio/lib/python3.13/site-packages (from pandas-profiling) (3.1.6)\n",
      "Collecting markupsafe~=2.1.1 (from pandas-profiling)\n",
      "  Using cached MarkupSafe-2.1.5.tar.gz (19 kB)\n",
      "  Preparing metadata (setup.py) ... \u001b[?25ldone\n",
      "\u001b[?25hCollecting visions==0.7.4 (from visions[type_image_path]==0.7.4->pandas-profiling)\n",
      "  Using cached visions-0.7.4-py3-none-any.whl.metadata (5.9 kB)\n",
      "Requirement already satisfied: numpy>=1.16.0 in /home/hice1/rmehta98/.conda/envs/compbio/lib/python3.13/site-packages (from pandas-profiling) (1.26.4)\n",
      "Collecting htmlmin>=0.1.12 (from pandas-profiling)\n",
      "  Using cached htmlmin-0.1.12.tar.gz (19 kB)\n",
      "  Preparing metadata (setup.py) ... \u001b[?25lerror\n",
      "  \u001b[1;31merror\u001b[0m: \u001b[1msubprocess-exited-with-error\u001b[0m\n",
      "  \n",
      "  \u001b[31m×\u001b[0m \u001b[32mpython setup.py egg_info\u001b[0m did not run successfully.\n",
      "  \u001b[31m│\u001b[0m exit code: \u001b[1;36m1\u001b[0m\n",
      "  \u001b[31m╰─>\u001b[0m \u001b[31m[19 lines of output]\u001b[0m\n",
      "  \u001b[31m   \u001b[0m Traceback (most recent call last):\n",
      "  \u001b[31m   \u001b[0m   File \u001b[35m\"<string>\"\u001b[0m, line \u001b[35m2\u001b[0m, in \u001b[35m<module>\u001b[0m\n",
      "  \u001b[31m   \u001b[0m     \u001b[31mexec\u001b[0m\u001b[1;31m(compile('''\u001b[0m\n",
      "  \u001b[31m   \u001b[0m     \u001b[31m~~~~\u001b[0m\u001b[1;31m^^^^^^^^^^^^\u001b[0m\n",
      "  \u001b[31m   \u001b[0m     \u001b[1;31m# This is <pip-setuptools-caller> -- a caller that pip uses to run setup.py\u001b[0m\n",
      "  \u001b[31m   \u001b[0m     \u001b[1;31m^^^^^^^^^^^^^^^^^^^^^^^^^^^^^^^^^^^^^^^^^^^^^^^^^^^^^^^^^^^^^^^^^^^^^^^^^^^\u001b[0m\n",
      "  \u001b[31m   \u001b[0m     ...<31 lines>...\n",
      "  \u001b[31m   \u001b[0m     \u001b[1;31mexec(compile(setup_py_code, filename, \"exec\"))\u001b[0m\n",
      "  \u001b[31m   \u001b[0m     \u001b[1;31m^^^^^^^^^^^^^^^^^^^^^^^^^^^^^^^^^^^^^^^^^^^^^^\u001b[0m\n",
      "  \u001b[31m   \u001b[0m     \u001b[1;31m''' % ('/tmp/pip-install-k3fsgazz/htmlmin_fe8ccd57e3aa41babf2a59938a5651de/setup.py',), \"<pip-setuptools-caller>\", \"exec\"))\u001b[0m\n",
      "  \u001b[31m   \u001b[0m     \u001b[1;31m^^^^^^^^^^^^^^^^^^^^^^^^^^^^^^^^^^^^^^^^^^^^^^^^^^^^^^^^^^^^^^^^^^^^^^^^^^^^^^^^^^^^^^^^^^^^^^^^^^^^^^^^^^^^^^^^^^^^^^^^^^^\u001b[0m\n",
      "  \u001b[31m   \u001b[0m   File \u001b[35m\"<pip-setuptools-caller>\"\u001b[0m, line \u001b[35m34\u001b[0m, in \u001b[35m<module>\u001b[0m\n",
      "  \u001b[31m   \u001b[0m   File \u001b[35m\"/tmp/pip-install-k3fsgazz/htmlmin_fe8ccd57e3aa41babf2a59938a5651de/setup.py\"\u001b[0m, line \u001b[35m4\u001b[0m, in \u001b[35m<module>\u001b[0m\n",
      "  \u001b[31m   \u001b[0m     from htmlmin import __version__\n",
      "  \u001b[31m   \u001b[0m   File \u001b[35m\"/tmp/pip-install-k3fsgazz/htmlmin_fe8ccd57e3aa41babf2a59938a5651de/htmlmin/__init__.py\"\u001b[0m, line \u001b[35m28\u001b[0m, in \u001b[35m<module>\u001b[0m\n",
      "  \u001b[31m   \u001b[0m     from .main import minify, Minifier\n",
      "  \u001b[31m   \u001b[0m   File \u001b[35m\"/tmp/pip-install-k3fsgazz/htmlmin_fe8ccd57e3aa41babf2a59938a5651de/htmlmin/main.py\"\u001b[0m, line \u001b[35m28\u001b[0m, in \u001b[35m<module>\u001b[0m\n",
      "  \u001b[31m   \u001b[0m     import cgi\n",
      "  \u001b[31m   \u001b[0m \u001b[1;35mModuleNotFoundError\u001b[0m: \u001b[35mNo module named 'cgi'\u001b[0m\n",
      "  \u001b[31m   \u001b[0m \u001b[31m[end of output]\u001b[0m\n",
      "  \n",
      "  \u001b[1;35mnote\u001b[0m: This error originates from a subprocess, and is likely not a problem with pip.\n",
      "\u001b[?25h\u001b[1;31merror\u001b[0m: \u001b[1mmetadata-generation-failed\u001b[0m\n",
      "\n",
      "\u001b[31m×\u001b[0m Encountered error while generating package metadata.\n",
      "\u001b[31m╰─>\u001b[0m See above for output.\n",
      "\n",
      "\u001b[1;35mnote\u001b[0m: This is an issue with the package mentioned above, not pip.\n",
      "\u001b[1;36mhint\u001b[0m: See above for details.\n",
      "Config option `kernel_spec_manager_class` not recognized by `EnableNBExtensionApp`.\n",
      "Traceback (most recent call last):\n",
      "  File \"/usr/local/pace-apps/manual/packages/anaconda3/2023.03/bin/jupyter-nbextension\", line 11, in <module>\n",
      "    sys.exit(main())\n",
      "  File \"/usr/local/pace-apps/manual/packages/anaconda3/2023.03/lib/python3.10/site-packages/jupyter_core/application.py\", line 277, in launch_instance\n",
      "    return super().launch_instance(argv=argv, **kwargs)\n",
      "  File \"/usr/local/pace-apps/manual/packages/anaconda3/2023.03/lib/python3.10/site-packages/traitlets/config/application.py\", line 992, in launch_instance\n",
      "    app.start()\n",
      "  File \"/usr/local/pace-apps/manual/packages/anaconda3/2023.03/lib/python3.10/site-packages/notebook/nbextensions.py\", line 972, in start\n",
      "    super().start()\n",
      "  File \"/usr/local/pace-apps/manual/packages/anaconda3/2023.03/lib/python3.10/site-packages/jupyter_core/application.py\", line 266, in start\n",
      "    self.subapp.start()\n",
      "  File \"/usr/local/pace-apps/manual/packages/anaconda3/2023.03/lib/python3.10/site-packages/notebook/nbextensions.py\", line 882, in start\n",
      "    self.toggle_nbextension_python(self.extra_args[0])\n",
      "  File \"/usr/local/pace-apps/manual/packages/anaconda3/2023.03/lib/python3.10/site-packages/notebook/nbextensions.py\", line 855, in toggle_nbextension_python\n",
      "    return toggle(module,\n",
      "  File \"/usr/local/pace-apps/manual/packages/anaconda3/2023.03/lib/python3.10/site-packages/notebook/nbextensions.py\", line 470, in enable_nbextension_python\n",
      "    return _set_nbextension_state_python(True, module, user, sys_prefix,\n",
      "  File \"/usr/local/pace-apps/manual/packages/anaconda3/2023.03/lib/python3.10/site-packages/notebook/nbextensions.py\", line 368, in _set_nbextension_state_python\n",
      "    m, nbexts = _get_nbextension_metadata(module)\n",
      "  File \"/usr/local/pace-apps/manual/packages/anaconda3/2023.03/lib/python3.10/site-packages/notebook/nbextensions.py\", line 1107, in _get_nbextension_metadata\n",
      "    m = import_item(module)\n",
      "  File \"/usr/local/pace-apps/manual/packages/anaconda3/2023.03/lib/python3.10/site-packages/traitlets/utils/importstring.py\", line 38, in import_item\n",
      "    return __import__(parts[0])\n",
      "ModuleNotFoundError: No module named 'widgetsnbextension'\n"
     ]
    }
   ],
   "source": [
    "!pip install --upgrade ipywidgets\n",
    "!pip install widgetsnbextension pandas-profiling\n",
    "!jupyter nbextension enable --py widgetsnbextension\n"
   ]
  },
  {
   "cell_type": "code",
   "execution_count": 11,
   "metadata": {},
   "outputs": [],
   "source": [
    "from tqdm.notebook import tqdm\n",
    "import numpy as np\n",
    "\n",
    "def generate_mutation_heatmap(sequence, start_pos=1, end_pos=None, save=False):\n",
    "    input_ids = TOKENIZER.encode(sequence, return_tensors=\"pt\")\n",
    "    sequence_length = input_ids.shape[1] - 2\n",
    "\n",
    "    if end_pos == None:\n",
    "        end_pos = sequence_length\n",
    "\n",
    "    heatmap = np.zeros((20, end_pos - start_pos + 1))\n",
    "\n",
    "    for position in tqdm(range(start_pos, end_pos + 1), desc=\"Calculating Position PLL\"):\n",
    "        # mask target position\n",
    "        masked_input_ids = input_ids.clone()\n",
    "        masked_input_ids[0, position] = TOKENIZER.mask_token_id\n",
    "\n",
    "        # get logits for when the target position is masked\n",
    "        with torch.no_grad():\n",
    "            logits = MODEL(masked_input_ids).logits\n",
    "\n",
    "        # calc log probs\n",
    "        probabilities = torch.nn.functional.softmax(logits[0, position], dim=0)\n",
    "        log_probabilities = torch.log(probabilities)\n",
    "\n",
    "        # get log prob of wild type residue\n",
    "        wt_residue = input_ids[0, position].item()\n",
    "        log_prob_wt = log_probabilities[wt_residue].item()\n",
    "\n",
    "        for i, amino_acid in enumerate(AMINO_ACIDS):\n",
    "            # get mutated log probability\n",
    "            log_prob_mt = log_probabilities[TOKENIZER.convert_tokens_to_ids(amino_acid)].item()\n",
    "            heatmap[i, position - start_pos] = log_prob_mt - log_prob_wt\n",
    "\n",
    "        if save:\n",
    "            np.save(\"sequence_mutation_heatmap.npy\", heatmap)\n",
    "\n",
    "    \n",
    "    return heatmap"
   ]
  },
  {
   "cell_type": "code",
   "execution_count": 8,
   "metadata": {},
   "outputs": [],
   "source": [
    "import matplotlib.pyplot as plt\n",
    "def visualize_heatmap(heatmap, protein_sequence, start_pos, end_pos):\n",
    "    # Visualize the heatmap\n",
    "    plt.figure(figsize=(15, 5))\n",
    "    plt.imshow(heatmap, cmap=\"viridis\", aspect=\"auto\")\n",
    "    plt.xticks(range(end_pos - start_pos + 1), list(protein_sequence[start_pos-1:end_pos]))\n",
    "    plt.yticks(range(20), AMINO_ACIDS)\n",
    "    plt.xlabel(\"Position in Protein Sequence\")\n",
    "    plt.ylabel(\"Amino Acid Mutations\")\n",
    "    plt.title(\"Predicted Effects of Mutations on Protein Sequence (LLR)\")\n",
    "    plt.colorbar(label=\"Log Likelihood Ratio (LLR)\")\n",
    "    plt.show()"
   ]
  },
  {
   "attachments": {},
   "cell_type": "markdown",
   "metadata": {},
   "source": [
    "# Running on Original Sequence\n"
   ]
  },
  {
   "cell_type": "code",
   "execution_count": 12,
   "metadata": {},
   "outputs": [
    {
     "name": "stdout",
     "output_type": "stream",
     "text": [
      "MVNEARGNSSLNPCLEGSASSGSESSKDSSRCSTPGLDPERHERLREKMRRRLESGDKWFSLEFFPPRTAEGAVNLISRFDRMAAGGPLYIDVTWHPAGDPGSDKETSSMMIASTAVNYCGLETILHMTCCRQRLEEITGHLHKAKQLGLKNIMALRGDPIGDQWEEEEGGFNYAVDLVKHIRSEFGDYFDICVAGYPKGHPEAGSFEADLKHLKEKVSAGADFIITQLFFEADTFFRFVKACTDMGITCPIVPGIFPIQGYHSLRQLVKLSKLEVPQEIKDVIEPIKDNDAAIRNYGIELAVSLCQELLASGLVPGLHFYTLNREMATTEVLKRLGMWTEDPRRPLPWALSAHPKRREEDVRPIFWASRPKSYIYRTQEWDEFPNGRWGNSSSPAFGELKDYYLFYLKSKSPKEELLKMWGEELTSEESVFEVFVLYLSGEPNRNGHKVTCLPWNDEPLAAETSLLKEELLRVNRQGILTINSQPNINGKPSSDPIVGWGPSGGYVFQKAYLEFFTSRETAEALLQVLKKYELRVNYHLVNVKGENITNAPELQPNAVTWGIFPGREIIQPTVVDPVSFMFWKDEAFALWIERWGKLYEEESPSRTIIQYIHDNYFLVNLVDNDFPLDNCLWQVVEDTLELLNRPTQNARETEAP\n"
     ]
    }
   ],
   "source": [
    "# get the sequence\n",
    "seq = open('../sequence.fasta', 'r').read()\n",
    "seq = seq.split(\"\\n\")[1]\n",
    "print(seq)"
   ]
  },
  {
   "cell_type": "code",
   "execution_count": 13,
   "metadata": {},
   "outputs": [
    {
     "data": {
      "application/vnd.jupyter.widget-view+json": {
       "model_id": "11bdb70393ff45df8c8533b18c63933f",
       "version_major": 2,
       "version_minor": 0
      },
      "text/plain": [
       "Calculating Position PLL:   0%|          | 0/656 [00:00<?, ?it/s]"
      ]
     },
     "metadata": {},
     "output_type": "display_data"
    }
   ],
   "source": [
    "heatmap = generate_mutation_heatmap(seq, start_pos=1, end_pos=None, save=True)\n",
    "np.save(\"sequence_mutation_heatmap.npy\", heatmap)"
   ]
  },
  {
   "cell_type": "code",
   "execution_count": 24,
   "metadata": {},
   "outputs": [
    {
     "data": {
      "image/png": "[encoded data removed]",
      "text/plain": [
       "<Figure size 1500x500 with 2 Axes>"
      ]
     },
     "metadata": {},
     "output_type": "display_data"
    }
   ],
   "source": [
    "visualize_heatmap(heatmap, protein_sequence=seq, start_pos=1, end_pos=5)"
   ]
  },
  {
   "attachments": {},
   "cell_type": "markdown",
   "metadata": {},
   "source": [
    "# Comparing Training Test"
   ]
  },
  {
   "cell_type": "code",
   "execution_count": null,
   "metadata": {},
   "outputs": [],
   "source": [
    "v"
   ]
  }
 ],
 "metadata": {
  "kernelspec": {
   "display_name": "compbio",
   "language": "python",
   "name": "python3"
  },
  "language_info": {
   "codemirror_mode": {
    "name": "ipython",
    "version": 3
   },
   "file_extension": ".py",
   "mimetype": "text/x-python",
   "name": "python",
   "nbconvert_exporter": "python",
   "pygments_lexer": "ipython3",
   "version": "3.13.2"
  },
  "orig_nbformat": 4
 },
 "nbformat": 4,
 "nbformat_minor": 2
}
